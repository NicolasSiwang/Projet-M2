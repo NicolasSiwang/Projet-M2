{
 "cells": [
  {
   "cell_type": "code",
   "execution_count": 1,
   "metadata": {},
   "outputs": [],
   "source": [
    "# %pip install bm25s\n",
    "# %pip install spacy\n",
    "# %pip install -U 'spacy[cuda12x]'\n",
    "# %pip install rouge_score\n",
    "# %pip install pysbd"
   ]
  },
  {
   "cell_type": "code",
   "execution_count": 2,
   "metadata": {},
   "outputs": [],
   "source": [
    "import sys\n",
    "sys.path.insert(0, '../')\n",
    "import utilities.functions as fct\n",
    "import time\n",
    "import os\n",
    "import pandas as pd\n",
    "from tqdm import tqdm"
   ]
  },
  {
   "cell_type": "markdown",
   "metadata": {},
   "source": [
    "# BM25"
   ]
  },
  {
   "cell_type": "code",
   "execution_count": 3,
   "metadata": {},
   "outputs": [],
   "source": [
    "def evaluate_models(document, paragraph_target, short=True):\n",
    "    results = pd.DataFrame()\n",
    "    summaries = []\n",
    "    \n",
    "    start_time = time.time()\n",
    "    \n",
    "    # Segmentation des phrases du document source\n",
    "    sentences = fct.sent_segmentation(document, method=\"pySBD\")\n",
    "    \n",
    "    # Résumé des phrases\n",
    "    query = fct.select_query(document)\n",
    "    summary = fct.bb25LegalSum(sentences, model, query)\n",
    "    \n",
    "    # Évaluation de la qualité du résumé à l'aide de la métrique ROUGE et BERT\n",
    "    bb25_evaluation = fct.evaluations(\" \".join(summary), paragraph_target, short)\n",
    "\n",
    "    end_time = time.time()\n",
    "    execution_time = end_time - start_time\n",
    "\n",
    "    # Prepare results for this method\n",
    "    bb25_evaluation['Execution time'] = execution_time\n",
    "            \n",
    "    # Append results\n",
    "    results = pd.concat([results, bb25_evaluation], ignore_index=True)\n",
    "    summaries.append(\"\\n\".join(summary))\n",
    "        \n",
    "    return results, summaries"
   ]
  },
  {
   "cell_type": "markdown",
   "metadata": {},
   "source": [
    "### BM25 with pySBD on 100 cleaned documents"
   ]
  },
  {
   "cell_type": "code",
   "execution_count": 4,
   "metadata": {},
   "outputs": [
    {
     "name": "stderr",
     "output_type": "stream",
     "text": [
      "100%|██████████| 100/100 [00:00<00:00, 1061.44it/s]\n"
     ]
    }
   ],
   "source": [
    "test_path_txt = '../SCOTUS_data/text_dev'\n",
    "test_path_sum = '../SCOTUS_data/summary_dev'\n",
    "target_path_csv = '../SCOTUS_data/paragraph_target_df_dev.csv'\n",
    "\n",
    "TEXTS_COUNT = 100\n",
    "\n",
    "summary_ref = []\n",
    "texts = []\n",
    "\n",
    "for file_name in tqdm(os.listdir(test_path_sum)[:TEXTS_COUNT]):\n",
    "    with open(os.path.join(test_path_sum, file_name), 'r', encoding=\"utf-8\") as f:\n",
    "        text = f.read()\n",
    "        summary_ref.append(text)\n",
    "    text = open(os.path.join(test_path_txt, file_name), 'r', encoding=\"utf-8\").read()\n",
    "    texts.append(text)"
   ]
  },
  {
   "cell_type": "code",
   "execution_count": 5,
   "metadata": {},
   "outputs": [
    {
     "name": "stderr",
     "output_type": "stream",
     "text": [
      "100%|██████████| 100/100 [44:49<00:00, 26.90s/it]\n"
     ]
    }
   ],
   "source": [
    "model = \"nlpaueb/legal-bert-base-uncased\"\n",
    "\n",
    "summary_gen = []\n",
    "results = pd.DataFrame()\n",
    "df_target = pd.read_csv(target_path_csv)\n",
    "\n",
    "for i in tqdm(range(len(summary_gen), TEXTS_COUNT)):\n",
    "    r, summary = evaluate_models(texts[i], summary_ref[i], True) \n",
    "    \n",
    "    summary_gen.append(summary) \n",
    "    results = pd.concat([results, r], ignore_index=True)\n",
    "\n",
    "df_results = pd.DataFrame({\"Text\": texts, \"Reference\": summary_ref, \"Generated\": summary_gen})\n",
    "df_results.to_csv(\"./output/results_BM25_dev.csv\", index=False)\n"
   ]
  },
  {
   "cell_type": "code",
   "execution_count": 6,
   "metadata": {},
   "outputs": [
    {
     "name": "stderr",
     "output_type": "stream",
     "text": [
      "Some weights of RobertaModel were not initialized from the model checkpoint at roberta-large and are newly initialized: ['roberta.pooler.dense.bias', 'roberta.pooler.dense.weight']\n",
      "You should probably TRAIN this model on a down-stream task to be able to use it for predictions and inference.\n"
     ]
    },
    {
     "name": "stdout",
     "output_type": "stream",
     "text": [
      "\n",
      "Scores moyens pour facts_of_the_case :\n",
      "{'rouge1': 0.33016237207558996, 'rouge2': 0.04267705148176444, 'rougeL': 0.19335845020310014, 'bert_score': 0.7879923415184021}\n",
      "\n",
      "Scores moyens pour question :\n",
      "{'rouge1': 0.37029951352052015, 'rouge2': 0.038176314126858436, 'rougeL': 0.29863460104689166, 'bert_score': 0.7839836913347245}\n",
      "\n",
      "Scores moyens pour conclusion :\n",
      "{'rouge1': 0.33871303577699163, 'rouge2': 0.04292023173699055, 'rougeL': 0.19378330163356694, 'bert_score': 0.7876042199134826}\n"
     ]
    }
   ],
   "source": [
    "from rouge_score import rouge_scorer\n",
    "from bert_score import BERTScorer\n",
    "\n",
    "ROUGE_scorer = rouge_scorer.RougeScorer(['rouge1', 'rouge2', 'rougeL'], use_stemmer=True)\n",
    "BERT_scorer = BERTScorer(lang=\"en\")\n",
    "\n",
    "scores = {\n",
    "    'facts_of_the_case': {'rouge1': [], 'rouge2': [], 'rougeL': [], 'bert_score': []},\n",
    "    'question': {'rouge1': [], 'rouge2': [], 'rougeL': [], 'bert_score': []},\n",
    "    'conclusion': {'rouge1': [], 'rouge2': [], 'rougeL': [], 'bert_score': []}\n",
    "}\n",
    "\n",
    "for column_name in df_target.columns:\n",
    "    for i in range(TEXTS_COUNT):\n",
    "        ref = df_target[column_name].iloc[i]\n",
    "        gen = summary_gen[i][0]\n",
    "\n",
    "        # Scores ROUGE\n",
    "        rouge_score = ROUGE_scorer.score(ref, gen)\n",
    "        scores[column_name]['rouge1'].append(rouge_score['rouge1'].recall)\n",
    "        scores[column_name]['rouge2'].append(rouge_score['rouge2'].recall)\n",
    "        scores[column_name]['rougeL'].append(rouge_score['rougeL'].recall)\n",
    "\n",
    "        # Scores BERT\n",
    "        _, _, bert_score = BERT_scorer.score([gen], [ref])\n",
    "        scores[column_name]['bert_score'].append(bert_score.mean().item())\n",
    "\n",
    "avg_scores_target = {\n",
    "    col: {\n",
    "        'rouge1': sum(scores[col]['rouge1']) / len(scores[col]['rouge1']),\n",
    "        'rouge2': sum(scores[col]['rouge2']) / len(scores[col]['rouge2']),\n",
    "        'rougeL': sum(scores[col]['rougeL']) / len(scores[col]['rougeL']),\n",
    "        'bert_score': sum(scores[col]['bert_score']) / len(scores[col]['bert_score'])\n",
    "    }\n",
    "    for col in df_target.columns\n",
    "}\n",
    "\n",
    "for col, metrics in avg_scores_target.items():\n",
    "    print(f\"\\nScores moyens pour {col} :\")\n",
    "    print(metrics)"
   ]
  },
  {
   "cell_type": "code",
   "execution_count": 7,
   "metadata": {},
   "outputs": [
    {
     "name": "stderr",
     "output_type": "stream",
     "text": [
      "C:\\Users\\elisa\\AppData\\Local\\Temp\\ipykernel_14620\\46104750.py:12: FutureWarning: The behavior of DataFrame concatenation with empty or all-NA entries is deprecated. In a future version, this will no longer exclude empty or all-NA columns when determining the result dtypes. To retain the old behavior, exclude the relevant entries before the concat operation.\n",
      "  df_score = pd.concat([global_row, df_avg_scores_target], axis=0)\n"
     ]
    }
   ],
   "source": [
    "metrics = [col for col in results.columns if col in ['rouge1', 'rouge2', 'rougeL', 'bert_score', 'Execution time']]\n",
    "means = results[metrics].mean()\n",
    "\n",
    "df_avg_scores_target = pd.DataFrame(avg_scores_target).T\n",
    "\n",
    "global_row = pd.DataFrame(means).T\n",
    "global_row.index = ['global']\n",
    "\n",
    "if 'Execution time' not in df_avg_scores_target.columns:\n",
    "    df_avg_scores_target = df_avg_scores_target.assign(**{'Execution time': None})\n",
    "\n",
    "df_score = pd.concat([global_row, df_avg_scores_target], axis=0)"
   ]
  },
  {
   "cell_type": "code",
   "execution_count": 8,
   "metadata": {},
   "outputs": [
    {
     "name": "stdout",
     "output_type": "stream",
     "text": [
      "                     rouge1    rouge2    rougeL  bert_score  Execution time\n",
      "global             0.395154  0.136824  0.196767    0.821098       26.897771\n",
      "facts_of_the_case  0.330162  0.042677  0.193358    0.787992             NaN\n",
      "question           0.370300  0.038176  0.298635    0.783984             NaN\n",
      "conclusion         0.338713  0.042920  0.193783    0.787604             NaN\n"
     ]
    }
   ],
   "source": [
    "print(df_score.head())"
   ]
  },
  {
   "cell_type": "code",
   "execution_count": 9,
   "metadata": {},
   "outputs": [],
   "source": [
    "df_score.to_csv(\"./output/scores_BM25_dev.csv\")"
   ]
  },
  {
   "cell_type": "markdown",
   "metadata": {},
   "source": [
    "### Score sur le résumé global pour chaque texte"
   ]
  },
  {
   "cell_type": "code",
   "execution_count": null,
   "metadata": {},
   "outputs": [],
   "source": [
    "styled_df = results.style.apply(fct.highlight_min_max, axis=0)\n",
    "\n",
    "styled_df"
   ]
  }
 ],
 "metadata": {
  "kernelspec": {
   "display_name": "Python 3",
   "language": "python",
   "name": "python3"
  },
  "language_info": {
   "codemirror_mode": {
    "name": "ipython",
    "version": 3
   },
   "file_extension": ".py",
   "mimetype": "text/x-python",
   "name": "python",
   "nbconvert_exporter": "python",
   "pygments_lexer": "ipython3",
   "version": "3.10.0"
  }
 },
 "nbformat": 4,
 "nbformat_minor": 2
}
