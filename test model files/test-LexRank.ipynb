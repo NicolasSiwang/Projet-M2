{
 "cells": [
  {
   "cell_type": "code",
   "execution_count": 11,
   "metadata": {},
   "outputs": [],
   "source": [
    "from __future__ import absolute_import\n",
    "from __future__ import division, print_function, unicode_literals\n",
    "\n",
    "from sumy.parsers.html import HtmlParser\n",
    "from sumy.parsers.plaintext import PlaintextParser\n",
    "from sumy.nlp.tokenizers import Tokenizer\n",
    "from sumy.summarizers.lsa import LsaSummarizer\n",
    "from sumy.summarizers.lex_rank import LexRankSummarizer\n",
    "from sumy.nlp.stemmers import Stemmer\n",
    "from sumy.utils import get_stop_words\n",
    "\n",
    "import os\n",
    "from tqdm import tqdm\n",
    "import pandas as pd"
   ]
  },
  {
   "cell_type": "code",
   "execution_count": 12,
   "metadata": {},
   "outputs": [],
   "source": [
    "LANGUAGE = \"english\"\n",
    "SENTENCES_COUNT = 10\n",
    "TEXTS_COUNT = 100"
   ]
  },
  {
   "cell_type": "code",
   "execution_count": 13,
   "metadata": {},
   "outputs": [],
   "source": [
    "test_path_txt = '../SCOTUS_data/text'\n",
    "test_path_sum = '../SCOTUS_data/summary'\n",
    "target_path_csv = '../SCOTUS_data/paragraph_target_df.csv'"
   ]
  },
  {
   "cell_type": "code",
   "execution_count": 14,
   "metadata": {},
   "outputs": [
    {
     "name": "stderr",
     "output_type": "stream",
     "text": [
      "100%|██████████| 100/100 [08:11<00:00,  4.91s/it]"
     ]
    },
    {
     "name": "stdout",
     "output_type": "stream",
     "text": [
      "                                   facts_of_the_case  \\\n",
      "0  William Packer was convicted in a California s...   \n",
      "1  In 1984 Dow Chemical Co. negotiated a settleme...   \n",
      "2  In 1995, the U.S. Supreme Court, in Adarand Co...   \n",
      "3  After stopping him for speeding, an Iowa polic...   \n",
      "4  To prevent \"local media monopolies,\" Section 5...   \n",
      "\n",
      "                                            question  \\\n",
      "0  Was a state court’s determination that encoura...   \n",
      "1  Does the 1984 Agent Orange settlement preclude...   \n",
      "2  Did the Court of Appeals misapply the strict s...   \n",
      "3  Can a search of a stopped vehicle that occurs ...   \n",
      "4  Does 47 U.S.C. 533(b), which bars local teleph...   \n",
      "\n",
      "                                          conclusion  \n",
      "0  Encouraging the jury to continue deliberations...  \n",
      "1  An equally divided Court affirmed in part and ...  \n",
      "2  In a per curiam opinion, the Court dismissed t...  \n",
      "3  No. In a unanimous opinion, the Court held tha...  \n",
      "4  Unanswered. After the Court heard oral argumen...  \n"
     ]
    },
    {
     "name": "stderr",
     "output_type": "stream",
     "text": [
      "\n"
     ]
    }
   ],
   "source": [
    "summary_gen = []\n",
    "texts = []\n",
    "\n",
    "for file_name in tqdm(os.listdir(test_path_txt)[:TEXTS_COUNT]):\n",
    "    text = open(os.path.join(test_path_txt, file_name), 'r').read()\n",
    "    texts.append(text)\n",
    "    parser = PlaintextParser.from_file(os.path.join(test_path_txt, file_name), Tokenizer(LANGUAGE))\n",
    "\n",
    "    summarizer = LexRankSummarizer()\n",
    "    summarizer.stop_words = get_stop_words(LANGUAGE)\n",
    "\n",
    "    sentence_txt = ''\n",
    "\n",
    "    for sentence in summarizer(parser.document, SENTENCES_COUNT):\n",
    "        sentence_txt = sentence_txt + str(sentence) + \"\\n\"\n",
    "    summary_gen.append(sentence_txt)\n",
    "\n",
    "df_target = pd.read_csv(target_path_csv)"
   ]
  },
  {
   "cell_type": "code",
   "execution_count": 15,
   "metadata": {},
   "outputs": [
    {
     "name": "stderr",
     "output_type": "stream",
     "text": [
      "  0%|          | 0/100 [00:00<?, ?it/s]"
     ]
    },
    {
     "name": "stderr",
     "output_type": "stream",
     "text": [
      "100%|██████████| 100/100 [00:00<00:00, 5393.70it/s]\n"
     ]
    }
   ],
   "source": [
    "summary_ref = []\n",
    "\n",
    "for file_name in tqdm(os.listdir(test_path_sum)[:TEXTS_COUNT]):\n",
    "    with open(os.path.join(test_path_sum, file_name), 'r') as f:\n",
    "        text = f.read()\n",
    "        summary_ref.append(text)"
   ]
  },
  {
   "cell_type": "code",
   "execution_count": 16,
   "metadata": {},
   "outputs": [
    {
     "name": "stdout",
     "output_type": "stream",
     "text": [
      "100 100\n"
     ]
    }
   ],
   "source": [
    "print(len(summary_gen), len(summary_ref))\n",
    "if len(summary_ref) != len(summary_gen):\n",
    "    raise ValueError(\"Les listes summary_ref et summary_gen doivent avoir la même longueur.\")"
   ]
  },
  {
   "cell_type": "code",
   "execution_count": 17,
   "metadata": {},
   "outputs": [
    {
     "name": "stderr",
     "output_type": "stream",
     "text": [
      "Some weights of RobertaModel were not initialized from the model checkpoint at roberta-large and are newly initialized: ['roberta.pooler.dense.weight', 'roberta.pooler.dense.bias']\n",
      "You should probably TRAIN this model on a down-stream task to be able to use it for predictions and inference.\n"
     ]
    },
    {
     "name": "stdout",
     "output_type": "stream",
     "text": [
      "Scores ROUGE : {'rouge1': 0.4427502395093806, 'rouge2': 0.15796302795858608, 'rougeL': 0.20809716197503245, 'bert_score': 0.8313004660606385}\n"
     ]
    }
   ],
   "source": [
    "from rouge_score import rouge_scorer\n",
    "from bert_score import BERTScorer\n",
    "\n",
    "ROUGE_scorer = rouge_scorer.RougeScorer(['rouge1', 'rouge2', 'rougeL'], use_stemmer=True)\n",
    "BERT_scorer = BERTScorer(lang=\"en\")\n",
    "ROUGE_scores = []\n",
    "BERT_scores = []\n",
    "for i in range(len(summary_gen)):\n",
    "    score = ROUGE_scorer.score(summary_ref[i], summary_gen[i])\n",
    "    ROUGE_scores.append(score)\n",
    "    BERT_scores.append(BERT_scorer.score([summary_ref[i]], [summary_gen[i]]))\n",
    "    # print(f\"Scores pour le résumé {i+1} :\", score)\n",
    "\n",
    "# Moyennes des scores\n",
    "avg_scores = {\n",
    "    'rouge1': sum(s['rouge1'].fmeasure for s in ROUGE_scores) / len(ROUGE_scores),\n",
    "    'rouge2': sum(s['rouge2'].fmeasure for s in ROUGE_scores) / len(ROUGE_scores),\n",
    "    'rougeL': sum(s['rougeL'].fmeasure for s in ROUGE_scores) / len(ROUGE_scores),\n",
    "    'bert_score': sum(s[2].mean().item() for s in BERT_scores) / len(BERT_scores),\n",
    "}\n",
    "\n",
    "print(\"Scores ROUGE :\", avg_scores)"
   ]
  },
  {
   "cell_type": "code",
   "execution_count": 18,
   "metadata": {},
   "outputs": [
    {
     "name": "stdout",
     "output_type": "stream",
     "text": [
      "\n",
      "Scores moyens pour facts_of_the_case :\n",
      "{'rouge1': 0.21444836455050267, 'rouge2': 0.028111137244745295, 'rougeL': 0.12013335297395639, 'bert_score': 0.7932844638824463}\n",
      "\n",
      "Scores moyens pour question :\n",
      "{'rouge1': 0.07259777337038266, 'rouge2': 0.007529909716499205, 'rougeL': 0.05349701536978904, 'bert_score': 0.7901528000831604}\n",
      "\n",
      "Scores moyens pour conclusion :\n",
      "{'rouge1': 0.18009157868819536, 'rouge2': 0.02828797872297114, 'rougeL': 0.10679586301441497, 'bert_score': 0.7971158695220947}\n"
     ]
    }
   ],
   "source": [
    "scores = {\n",
    "    'facts_of_the_case': {'rouge1': [], 'rouge2': [], 'rougeL': [], 'bert_score': []},\n",
    "    'question': {'rouge1': [], 'rouge2': [], 'rougeL': [], 'bert_score': []},\n",
    "    'conclusion': {'rouge1': [], 'rouge2': [], 'rougeL': [], 'bert_score': []}\n",
    "}\n",
    "\n",
    "for column_name in df_target.columns:\n",
    "    for i in range(TEXTS_COUNT):\n",
    "        ref = df_target[column_name].iloc[i]\n",
    "        gen = summary_gen[i]\n",
    "\n",
    "        # Scores ROUGE\n",
    "        rouge_score = ROUGE_scorer.score(ref, gen)\n",
    "        scores[column_name]['rouge1'].append(rouge_score['rouge1'].fmeasure)\n",
    "        scores[column_name]['rouge2'].append(rouge_score['rouge2'].fmeasure)\n",
    "        scores[column_name]['rougeL'].append(rouge_score['rougeL'].fmeasure)\n",
    "\n",
    "        # Scores BERT\n",
    "        _, _, bert_score = BERT_scorer.score([ref], [gen])\n",
    "        scores[column_name]['bert_score'].append(bert_score.mean().item())\n",
    "\n",
    "avg_scores_target = {\n",
    "    col: {\n",
    "        'rouge1': sum(scores[col]['rouge1']) / len(scores[col]['rouge1']),\n",
    "        'rouge2': sum(scores[col]['rouge2']) / len(scores[col]['rouge2']),\n",
    "        'rougeL': sum(scores[col]['rougeL']) / len(scores[col]['rougeL']),\n",
    "        'bert_score': sum(scores[col]['bert_score']) / len(scores[col]['bert_score'])\n",
    "    }\n",
    "    for col in df_target.columns\n",
    "}\n",
    "\n",
    "for col, metrics in avg_scores_target.items():\n",
    "    print(f\"\\nScores moyens pour {col} :\")\n",
    "    print(metrics)\n"
   ]
  },
  {
   "cell_type": "code",
   "execution_count": 31,
   "metadata": {},
   "outputs": [],
   "source": [
    "import pandas as pd\n",
    "\n",
    "df_results = pd.DataFrame({\"Text\": texts, \"Reference\": summary_ref, \"Generated\": summary_gen})\n",
    "df_results.to_csv(\"./output/results_LexRank.csv\", index=False)"
   ]
  },
  {
   "cell_type": "code",
   "execution_count": 29,
   "metadata": {},
   "outputs": [
    {
     "name": "stdout",
     "output_type": "stream",
     "text": [
      "                     rouge1    rouge2    rougeL  bert_score\n",
      "global             0.442750  0.157963  0.208097    0.831300\n",
      "facts_of_the_case  0.214448  0.028111  0.120133    0.793284\n",
      "question           0.072598  0.007530  0.053497    0.790153\n",
      "conclusion         0.180092  0.028288  0.106796    0.797116\n"
     ]
    }
   ],
   "source": [
    "df_avg_scores = pd.DataFrame([avg_scores])\n",
    "df_avg_scores.index = ['global']\n",
    "\n",
    "df_avg_scores_target = pd.DataFrame(avg_scores_target).T\n",
    "\n",
    "df_score = pd.concat([df_avg_scores, df_avg_scores_target], axis=0)\n",
    "print(df_score.head())"
   ]
  },
  {
   "cell_type": "code",
   "execution_count": 32,
   "metadata": {},
   "outputs": [],
   "source": [
    "df_score.to_csv(\"./output/scores_LexRank.csv\")"
   ]
  },
  {
   "cell_type": "code",
   "execution_count": null,
   "metadata": {},
   "outputs": [],
   "source": []
  }
 ],
 "metadata": {
  "kernelspec": {
   "display_name": "base",
   "language": "python",
   "name": "python3"
  },
  "language_info": {
   "codemirror_mode": {
    "name": "ipython",
    "version": 3
   },
   "file_extension": ".py",
   "mimetype": "text/x-python",
   "name": "python",
   "nbconvert_exporter": "python",
   "pygments_lexer": "ipython3",
   "version": "3.11.5"
  }
 },
 "nbformat": 4,
 "nbformat_minor": 2
}
