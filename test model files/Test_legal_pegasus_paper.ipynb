{
  "cells": [
    {
      "cell_type": "code",
      "execution_count": 28,
      "metadata": {
        "colab": {
          "base_uri": "https://localhost:8080/"
        },
        "id": "esm55ACb8vqe",
        "outputId": "ad5c2e9b-a50c-4567-c889-037ee105162d"
      },
      "outputs": [
        {
          "output_type": "stream",
          "name": "stdout",
          "text": [
            "Drive already mounted at /content/drive; to attempt to forcibly remount, call drive.mount(\"/content/drive\", force_remount=True).\n"
          ]
        }
      ],
      "source": [
        "from google.colab import drive\n",
        "drive.mount('/content/drive')"
      ]
    },
    {
      "cell_type": "code",
      "execution_count": 29,
      "metadata": {
        "colab": {
          "base_uri": "https://localhost:8080/"
        },
        "id": "3qoYA39QYcEy",
        "outputId": "3f5bf7f3-e1d2-48bd-ebff-0e0f0f5ce87d"
      },
      "outputs": [
        {
          "output_type": "stream",
          "name": "stdout",
          "text": [
            "Requirement already satisfied: rouge-score in /usr/local/lib/python3.10/dist-packages (0.1.2)\n",
            "Requirement already satisfied: bert_score in /usr/local/lib/python3.10/dist-packages (0.3.13)\n",
            "Requirement already satisfied: absl-py in /usr/local/lib/python3.10/dist-packages (from rouge-score) (1.4.0)\n",
            "Requirement already satisfied: nltk in /usr/local/lib/python3.10/dist-packages (from rouge-score) (3.9.1)\n",
            "Requirement already satisfied: numpy in /usr/local/lib/python3.10/dist-packages (from rouge-score) (1.26.4)\n",
            "Requirement already satisfied: six>=1.14.0 in /usr/local/lib/python3.10/dist-packages (from rouge-score) (1.17.0)\n",
            "Requirement already satisfied: torch>=1.0.0 in /usr/local/lib/python3.10/dist-packages (from bert_score) (2.5.1+cu121)\n",
            "Requirement already satisfied: pandas>=1.0.1 in /usr/local/lib/python3.10/dist-packages (from bert_score) (2.2.2)\n",
            "Requirement already satisfied: transformers>=3.0.0 in /usr/local/lib/python3.10/dist-packages (from bert_score) (4.47.1)\n",
            "Requirement already satisfied: requests in /usr/local/lib/python3.10/dist-packages (from bert_score) (2.32.3)\n",
            "Requirement already satisfied: tqdm>=4.31.1 in /usr/local/lib/python3.10/dist-packages (from bert_score) (4.67.1)\n",
            "Requirement already satisfied: matplotlib in /usr/local/lib/python3.10/dist-packages (from bert_score) (3.8.0)\n",
            "Requirement already satisfied: packaging>=20.9 in /usr/local/lib/python3.10/dist-packages (from bert_score) (24.2)\n",
            "Requirement already satisfied: python-dateutil>=2.8.2 in /usr/local/lib/python3.10/dist-packages (from pandas>=1.0.1->bert_score) (2.8.2)\n",
            "Requirement already satisfied: pytz>=2020.1 in /usr/local/lib/python3.10/dist-packages (from pandas>=1.0.1->bert_score) (2024.2)\n",
            "Requirement already satisfied: tzdata>=2022.7 in /usr/local/lib/python3.10/dist-packages (from pandas>=1.0.1->bert_score) (2024.2)\n",
            "Requirement already satisfied: filelock in /usr/local/lib/python3.10/dist-packages (from torch>=1.0.0->bert_score) (3.16.1)\n",
            "Requirement already satisfied: typing-extensions>=4.8.0 in /usr/local/lib/python3.10/dist-packages (from torch>=1.0.0->bert_score) (4.12.2)\n",
            "Requirement already satisfied: networkx in /usr/local/lib/python3.10/dist-packages (from torch>=1.0.0->bert_score) (3.4.2)\n",
            "Requirement already satisfied: jinja2 in /usr/local/lib/python3.10/dist-packages (from torch>=1.0.0->bert_score) (3.1.4)\n",
            "Requirement already satisfied: fsspec in /usr/local/lib/python3.10/dist-packages (from torch>=1.0.0->bert_score) (2024.10.0)\n",
            "Requirement already satisfied: sympy==1.13.1 in /usr/local/lib/python3.10/dist-packages (from torch>=1.0.0->bert_score) (1.13.1)\n",
            "Requirement already satisfied: mpmath<1.4,>=1.1.0 in /usr/local/lib/python3.10/dist-packages (from sympy==1.13.1->torch>=1.0.0->bert_score) (1.3.0)\n",
            "Requirement already satisfied: huggingface-hub<1.0,>=0.24.0 in /usr/local/lib/python3.10/dist-packages (from transformers>=3.0.0->bert_score) (0.27.0)\n",
            "Requirement already satisfied: pyyaml>=5.1 in /usr/local/lib/python3.10/dist-packages (from transformers>=3.0.0->bert_score) (6.0.2)\n",
            "Requirement already satisfied: regex!=2019.12.17 in /usr/local/lib/python3.10/dist-packages (from transformers>=3.0.0->bert_score) (2024.11.6)\n",
            "Requirement already satisfied: tokenizers<0.22,>=0.21 in /usr/local/lib/python3.10/dist-packages (from transformers>=3.0.0->bert_score) (0.21.0)\n",
            "Requirement already satisfied: safetensors>=0.4.1 in /usr/local/lib/python3.10/dist-packages (from transformers>=3.0.0->bert_score) (0.4.5)\n",
            "Requirement already satisfied: contourpy>=1.0.1 in /usr/local/lib/python3.10/dist-packages (from matplotlib->bert_score) (1.3.1)\n",
            "Requirement already satisfied: cycler>=0.10 in /usr/local/lib/python3.10/dist-packages (from matplotlib->bert_score) (0.12.1)\n",
            "Requirement already satisfied: fonttools>=4.22.0 in /usr/local/lib/python3.10/dist-packages (from matplotlib->bert_score) (4.55.3)\n",
            "Requirement already satisfied: kiwisolver>=1.0.1 in /usr/local/lib/python3.10/dist-packages (from matplotlib->bert_score) (1.4.7)\n",
            "Requirement already satisfied: pillow>=6.2.0 in /usr/local/lib/python3.10/dist-packages (from matplotlib->bert_score) (11.0.0)\n",
            "Requirement already satisfied: pyparsing>=2.3.1 in /usr/local/lib/python3.10/dist-packages (from matplotlib->bert_score) (3.2.0)\n",
            "Requirement already satisfied: click in /usr/local/lib/python3.10/dist-packages (from nltk->rouge-score) (8.1.7)\n",
            "Requirement already satisfied: joblib in /usr/local/lib/python3.10/dist-packages (from nltk->rouge-score) (1.4.2)\n",
            "Requirement already satisfied: charset-normalizer<4,>=2 in /usr/local/lib/python3.10/dist-packages (from requests->bert_score) (3.4.0)\n",
            "Requirement already satisfied: idna<4,>=2.5 in /usr/local/lib/python3.10/dist-packages (from requests->bert_score) (3.10)\n",
            "Requirement already satisfied: urllib3<3,>=1.21.1 in /usr/local/lib/python3.10/dist-packages (from requests->bert_score) (2.2.3)\n",
            "Requirement already satisfied: certifi>=2017.4.17 in /usr/local/lib/python3.10/dist-packages (from requests->bert_score) (2024.12.14)\n",
            "Requirement already satisfied: MarkupSafe>=2.0 in /usr/local/lib/python3.10/dist-packages (from jinja2->torch>=1.0.0->bert_score) (3.0.2)\n"
          ]
        }
      ],
      "source": [
        "%pip install rouge-score bert_score"
      ]
    },
    {
      "cell_type": "code",
      "execution_count": 30,
      "metadata": {
        "colab": {
          "base_uri": "https://localhost:8080/"
        },
        "id": "RFoSUGQW4xoO",
        "outputId": "249d436d-93bd-4325-dc62-127772b18660"
      },
      "outputs": [
        {
          "output_type": "stream",
          "name": "stdout",
          "text": [
            "Test sur : cuda\n"
          ]
        }
      ],
      "source": [
        "import os\n",
        "import torch\n",
        "from tqdm import tqdm\n",
        "from rouge_score import rouge_scorer\n",
        "from bert_score import BERTScorer\n",
        "\n",
        "# Vérification de la disponibilité du GPU\n",
        "device = torch.device(\"cuda\" if torch.cuda.is_available() else \"cpu\")\n",
        "print(f\"Test sur : {device}\")"
      ]
    },
    {
      "cell_type": "code",
      "execution_count": 31,
      "metadata": {
        "id": "yqh1rO2q8zgU"
      },
      "outputs": [],
      "source": [
        "model_path = \"/content/drive/MyDrive/legal-pegasus-model-paper\"\n",
        "\n",
        "test_path = '/content/drive/MyDrive/dataset_legal-pegasus/dataset/UK-Abs/test-data'\n",
        "\n",
        "test_path_txt = test_path + '/judgement'\n",
        "test_path_summary = test_path + '/summary/full'"
      ]
    },
    {
      "cell_type": "code",
      "execution_count": 32,
      "metadata": {
        "id": "9JUCGYqa9dRb",
        "colab": {
          "base_uri": "https://localhost:8080/"
        },
        "outputId": "c4e91164-54ee-4066-e644-dc964fc58044"
      },
      "outputs": [
        {
          "output_type": "execute_result",
          "data": {
            "text/plain": [
              "PegasusForConditionalGeneration(\n",
              "  (model): PegasusModel(\n",
              "    (shared): Embedding(96103, 1024, padding_idx=0)\n",
              "    (encoder): PegasusEncoder(\n",
              "      (embed_tokens): Embedding(96103, 1024, padding_idx=0)\n",
              "      (embed_positions): PegasusSinusoidalPositionalEmbedding(1024, 1024)\n",
              "      (layers): ModuleList(\n",
              "        (0-15): 16 x PegasusEncoderLayer(\n",
              "          (self_attn): PegasusAttention(\n",
              "            (k_proj): Linear(in_features=1024, out_features=1024, bias=True)\n",
              "            (v_proj): Linear(in_features=1024, out_features=1024, bias=True)\n",
              "            (q_proj): Linear(in_features=1024, out_features=1024, bias=True)\n",
              "            (out_proj): Linear(in_features=1024, out_features=1024, bias=True)\n",
              "          )\n",
              "          (self_attn_layer_norm): LayerNorm((1024,), eps=1e-05, elementwise_affine=True)\n",
              "          (activation_fn): ReLU()\n",
              "          (fc1): Linear(in_features=1024, out_features=4096, bias=True)\n",
              "          (fc2): Linear(in_features=4096, out_features=1024, bias=True)\n",
              "          (final_layer_norm): LayerNorm((1024,), eps=1e-05, elementwise_affine=True)\n",
              "        )\n",
              "      )\n",
              "      (layer_norm): LayerNorm((1024,), eps=1e-05, elementwise_affine=True)\n",
              "    )\n",
              "    (decoder): PegasusDecoder(\n",
              "      (embed_tokens): Embedding(96103, 1024, padding_idx=0)\n",
              "      (embed_positions): PegasusSinusoidalPositionalEmbedding(1024, 1024)\n",
              "      (layers): ModuleList(\n",
              "        (0-15): 16 x PegasusDecoderLayer(\n",
              "          (self_attn): PegasusAttention(\n",
              "            (k_proj): Linear(in_features=1024, out_features=1024, bias=True)\n",
              "            (v_proj): Linear(in_features=1024, out_features=1024, bias=True)\n",
              "            (q_proj): Linear(in_features=1024, out_features=1024, bias=True)\n",
              "            (out_proj): Linear(in_features=1024, out_features=1024, bias=True)\n",
              "          )\n",
              "          (activation_fn): ReLU()\n",
              "          (self_attn_layer_norm): LayerNorm((1024,), eps=1e-05, elementwise_affine=True)\n",
              "          (encoder_attn): PegasusAttention(\n",
              "            (k_proj): Linear(in_features=1024, out_features=1024, bias=True)\n",
              "            (v_proj): Linear(in_features=1024, out_features=1024, bias=True)\n",
              "            (q_proj): Linear(in_features=1024, out_features=1024, bias=True)\n",
              "            (out_proj): Linear(in_features=1024, out_features=1024, bias=True)\n",
              "          )\n",
              "          (encoder_attn_layer_norm): LayerNorm((1024,), eps=1e-05, elementwise_affine=True)\n",
              "          (fc1): Linear(in_features=1024, out_features=4096, bias=True)\n",
              "          (fc2): Linear(in_features=4096, out_features=1024, bias=True)\n",
              "          (final_layer_norm): LayerNorm((1024,), eps=1e-05, elementwise_affine=True)\n",
              "        )\n",
              "      )\n",
              "      (layer_norm): LayerNorm((1024,), eps=1e-05, elementwise_affine=True)\n",
              "    )\n",
              "  )\n",
              "  (lm_head): Linear(in_features=1024, out_features=96103, bias=False)\n",
              ")"
            ]
          },
          "metadata": {},
          "execution_count": 32
        }
      ],
      "source": [
        "from transformers import PegasusForConditionalGeneration, PegasusTokenizer\n",
        "\n",
        "# Charger le modèle et le tokenizer\n",
        "model_name = \"nsi319/legal-pegasus\"\n",
        "tokenizer = PegasusTokenizer.from_pretrained(model_name)\n",
        "model = PegasusForConditionalGeneration.from_pretrained(model_name)\n",
        "model.to(device)\n",
        "\n",
        "# model = PegasusForConditionalGeneration.from_pretrained(model_path)\n",
        "# tokenizer = PegasusTokenizer.from_pretrained(model_path)"
      ]
    },
    {
      "cell_type": "code",
      "execution_count": 33,
      "metadata": {
        "id": "XPmAL7nM9dyQ"
      },
      "outputs": [],
      "source": [
        "import os\n",
        "\n",
        "def load_test_data(txt_path, summary_path):\n",
        "    \"\"\"Charge les fichiers texte et résumés pour le jeu de test.\"\"\"\n",
        "    texts = [open(os.path.join(txt_path, file_name), 'r', encoding='utf-8').read()\n",
        "             for file_name in os.listdir(txt_path)]\n",
        "    summaries = [open(os.path.join(summary_path, file_name), 'r', encoding='utf-8').read()\n",
        "                 for file_name in os.listdir(summary_path)]\n",
        "    return texts, summaries"
      ]
    },
    {
      "cell_type": "code",
      "execution_count": 34,
      "metadata": {
        "id": "MeXwQSDSOnp6"
      },
      "outputs": [],
      "source": [
        "def chunk_text(text, chunk_size=1024, tokenizer=None):\n",
        "    \"\"\"\n",
        "    Divise le texte en segments avec un maximum de chunk_size tokens.\n",
        "    \"\"\"\n",
        "    if tokenizer is None:\n",
        "        raise ValueError(\"Un tokenizer doit être fourni.\")\n",
        "\n",
        "    # Tokenisation complète du texte\n",
        "    tokenized_text = tokenizer(text, return_tensors=\"pt\", truncation=False, padding=False).input_ids[0]\n",
        "\n",
        "    # Découper le texte en segments\n",
        "    chunks = []\n",
        "    for i in range(0, len(tokenized_text), chunk_size):\n",
        "        chunk = tokenized_text[i:i + chunk_size]  # Sélectionner un segment de tokens\n",
        "        chunks.append(tokenizer.decode(chunk, skip_special_tokens=True))  # Décoder le segment en texte\n",
        "\n",
        "    return chunks"
      ]
    },
    {
      "cell_type": "code",
      "execution_count": 35,
      "metadata": {
        "id": "aPljwyAuYBw-"
      },
      "outputs": [],
      "source": [
        "def generate_summary(model, tokenizer, text, max_input_length=1024, max_output_length=256):\n",
        "    \"\"\"Génère un résumé pour un texte donné.\"\"\"\n",
        "    inputs = tokenizer(text, max_length=max_input_length, truncation=True, return_tensors=\"pt\", padding=\"longest\").input_ids\n",
        "    inputs = inputs.to(model.device)\n",
        "\n",
        "    output_ids = model.generate(inputs, max_length=max_output_length, num_beams=5, length_penalty=2.0, early_stopping=True)\n",
        "    return tokenizer.decode(output_ids[0], skip_special_tokens=True)\n"
      ]
    },
    {
      "cell_type": "code",
      "source": [
        "def generate_full_summary(model, tokenizer, text, max_input_length=1024, max_output_length=256):\n",
        "    \"\"\"Génère un résumé complet pour un texte en traitant chaque segment.\"\"\"\n",
        "    chunks = chunk_text(text, chunk_size=max_input_length, tokenizer=tokenizer)\n",
        "    chunk_summaries = [generate_summary(model, tokenizer, chunk, max_input_length, max_output_length) for chunk in chunks]\n",
        "\n",
        "    return ' '.join(chunk_summaries)"
      ],
      "metadata": {
        "id": "6H_Xtpx6qYP6"
      },
      "execution_count": 36,
      "outputs": []
    },
    {
      "cell_type": "code",
      "source": [
        "def evaluate_model(model, tokenizer, texts, references, max_input_length=1024, max_output_length=256):\n",
        "    \"\"\"Évalue les performances du modèle sur les données de test.\"\"\"\n",
        "    rouge_scorer_instance = rouge_scorer.RougeScorer(['rouge1', 'rouge2', 'rougeL'], use_stemmer=True)\n",
        "    bert_scorer_instance = BERTScorer(lang=\"en\", rescale_with_baseline=True)\n",
        "\n",
        "    rouge_scores, bert_scores, summaries = [], [], []\n",
        "\n",
        "    for text, reference in zip(texts, references):\n",
        "        generated_summary = generate_full_summary(model, tokenizer, text, max_input_length, max_output_length)\n",
        "\n",
        "        summaries.append(generated_summary)\n",
        "\n",
        "        # Calcul des scores ROUGE\n",
        "        rouge_scores.append(rouge_scorer_instance.score(reference, generated_summary))\n",
        "\n",
        "        # Calcul des scores BERT\n",
        "        bert_scores.append(bert_scorer_instance.score([generated_summary], [reference]))\n",
        "\n",
        "        break\n",
        "\n",
        "    avg_rouge = {\n",
        "        'rouge1': sum(s['rouge1'].fmeasure for s in rouge_scores) / len(rouge_scores),\n",
        "        'rouge2': sum(s['rouge2'].fmeasure for s in rouge_scores) / len(rouge_scores),\n",
        "        'rougeL': sum(s['rougeL'].fmeasure for s in rouge_scores) / len(rouge_scores)\n",
        "    }\n",
        "\n",
        "    avg_bert_score = sum(s[2].mean().item() for s in bert_scores) / len(bert_scores)\n",
        "\n",
        "    return {**avg_rouge, 'bert_score': avg_bert_score}, summaries"
      ],
      "metadata": {
        "id": "N9RhEuZ0qcQF"
      },
      "execution_count": 37,
      "outputs": []
    },
    {
      "cell_type": "code",
      "source": [
        "# Charger les données\n",
        "test_path_txt = test_path + '/judgement'\n",
        "test_path_summary = test_path + '/summary/full'\n",
        "texts, summaries = load_test_data(test_path_txt, test_path_summary)"
      ],
      "metadata": {
        "id": "Gu89WS2GqfU5"
      },
      "execution_count": 38,
      "outputs": []
    },
    {
      "cell_type": "code",
      "source": [
        "# Évaluer le modèle\n",
        "results, summaries_gen = evaluate_model(model, tokenizer, texts, summaries)\n",
        "print(\"Scores ROUGE et BERT :\", results)"
      ],
      "metadata": {
        "colab": {
          "base_uri": "https://localhost:8080/"
        },
        "id": "lE2y5jsxpcWY",
        "outputId": "a9b278e2-1616-400c-b12f-d511818be736"
      },
      "execution_count": 39,
      "outputs": [
        {
          "output_type": "stream",
          "name": "stderr",
          "text": [
            "Some weights of RobertaModel were not initialized from the model checkpoint at roberta-large and are newly initialized: ['roberta.pooler.dense.bias', 'roberta.pooler.dense.weight']\n",
            "You should probably TRAIN this model on a down-stream task to be able to use it for predictions and inference.\n",
            "Token indices sequence length is longer than the specified maximum sequence length for this model (3354 > 1024). Running this sequence through the model will result in indexing errors\n"
          ]
        },
        {
          "output_type": "stream",
          "name": "stdout",
          "text": [
            "Scores ROUGE et BERT : {'rouge1': 0.3962362780972295, 'rouge2': 0.0826792255363684, 'rougeL': 0.1975953998954522, 'bert_score': -0.12597428262233734}\n"
          ]
        }
      ]
    },
    {
      "cell_type": "code",
      "execution_count": 40,
      "metadata": {
        "id": "B7tdt6TuYWDe"
      },
      "outputs": [],
      "source": [
        "# import pandas as pd\n",
        "\n",
        "# df_results = pd.DataFrame({\"Text\": texts, \"Reference\": summaries, \"Generated\": [generate_summary(model, tokenizer, t) for t in texts]})\n",
        "# df_results.to_csv(\"/content/drive/MyDrive/results_legal-pegasus.csv\", index=False)"
      ]
    },
    {
      "cell_type": "code",
      "source": [
        "summaries_gen[0]"
      ],
      "metadata": {
        "colab": {
          "base_uri": "https://localhost:8080/",
          "height": 127
        },
        "id": "S4crEroMeN8n",
        "outputId": "f3c4279e-18a1-4f9a-a5ac-28c02d3ca205"
      },
      "execution_count": 41,
      "outputs": [
        {
          "output_type": "execute_result",
          "data": {
            "text/plain": [
              "'The question at issue is what connection must a foreign company have with the United Kingdom to entitle an English court to wind it up, if its centre of main interests (or COMI) is in another member state of the European Union. The answer depends on the meaning of two words, economic activity, in EU Regulation 1346/2000 on Insolvency Proceedings. The English court has jurisdiction under its domestic law to wind up a foreign company. However, in the case of companies whose COMI is in another member state of the EU, the exercise of this power is constrained by the Regulation. The effect of those proceedings shall be restricted to the assets of the debtor situated in the territory of the latter Member State. The question arises whether Olympic had an establishment in the United Kingdom on 20 July 2010 so as to justify the presentation of a winding up petition on that date. Olympic is the principal employer in the pension scheme and the only employer currently participating in it. Under the rules of the scheme, it must be wound up upon the liquidation of Olympic Airlines. On 20 July 2010, the trustees presented a winding up petition against the company in England on the ground that it was unable to meet this liability. The Court of Appeal found that the company had not had an establishment in the United Kingdom on The Court of Appeal has ruled that an additional insolvency event can be brought under the Pensions Act 2004 to enable the Olympic pension scheme to qualify for the Pension Protection Fund on the basis of the Greek proceedings. The Court of Appeal ruled that the activities of the liquidator and staff in Athens constituted non transitory economic activities for the purpose of the definition of establishment and made the winding up order. The Court of Appeal ruled that the liquidator and staff in Athens were doing exactly what is to be expected from one responsible to an overseas liquidator for winding up the affairs of a foreign branch of a formerly substantial overseas trading company. The Court of Appeal ruled that the liquidator and staff in Athens were doing exactly what is to be expected from one responsible to an overseas liquidator for winding up the affairs of a foreign branch of a formerly substantial overseas trading company. The Court of Appeal ruled that the liquidator and staff in Athens were doing exactly what is to be expected from one responsible to an overseas liquidator for winding up the affairs of a foreign branch of a formerly substantial overseas trading company. The Court of Appeal ruled that the liquidator and staff in Athens were doing exactly what is to be expected from one responsible to an overseas liquidator for winding up the affairs of a foreign branch of a formerly substantial overseas trading company. The Court of The Court of Justice of the European Union recently ruled that the presence of immovable property in a member state confers jurisdiction on the courts of that member state to open secondary insolvency proceedings against the debtor. The Court of Justice of the European Union recently ruled that the presence of immovable property in a member state confers jurisdiction on the courts of that member state to open secondary insolvency proceedings against the debtor. The Court of Justice of the European Union recently ruled that the presence of immovable property in a member state confers jurisdiction on the courts of that member state to open secondary insolvency proceedings against the debtor. The Court of Justice of the European Union recently ruled that the presence of immovable property in a member state confers jurisdiction on the courts of that member state to open secondary insolvency proceedings against the debtor. The Court of Justice of the European Union recently ruled that the presence of immovable property in a member state confers jurisdiction on the courts of that member state to open secondary insolvency proceedings against the debtor. The Court of Justice of the European Union recently ruled that the presence of immovable property in a member state confers jurisdiction on the courts of that member state to open secondary insolvency proceedings against the debtor. The Court of Justice of the European Union recently ruled that the presence of immovable property in a member state The Court of Justice of the European Union has ruled that a company cannot be deemed to have had an establishment in the UK. The Court of Justice of the European Union has ruled that a company cannot be deemed to have had an establishment in the UK. The Court of Justice of the European Union has ruled that a company cannot be deemed to have had an establishment in the UK. The Court of Justice of the European Union has ruled that a company cannot be deemed to have had an establishment in the United Kingdom. The Court of Justice of the European Union has ruled that a company cannot be deemed to have had an establishment in the United Kingdom. The Court of Justice of the European Union has ruled that a company cannot be deemed to have had an establishment in the United Kingdom. The Court of Justice of the European Union has ruled that a company cannot be deemed to have had an establishment in the United Kingdom.'"
            ],
            "application/vnd.google.colaboratory.intrinsic+json": {
              "type": "string"
            }
          },
          "metadata": {},
          "execution_count": 41
        }
      ]
    },
    {
      "cell_type": "code",
      "source": [
        "texts[0]"
      ],
      "metadata": {
        "colab": {
          "base_uri": "https://localhost:8080/",
          "height": 127
        },
        "id": "wuDziGoueYXA",
        "outputId": "6424ff15-b236-41c8-f43f-22017207f9f4"
      },
      "execution_count": 42,
      "outputs": [
        {
          "output_type": "execute_result",
          "data": {
            "text/plain": [
              "\"The question at issue on this appeal is what connection must a foreign company have with the United Kingdom to entitle an English court to wind it up, if its centre of main interests (or COMI) is in another member state of the European Union.\\nThe answer depends on the meaning of two words, economic activity, in EU Regulation 1346/2000 on Insolvency Proceedings.\\nThe legal framework\\nUnder section 221 of the Insolvency Act 1986, the English court has jurisdiction under its domestic law to wind up a foreign company.\\nHowever, in the case of companies whose COMI is in another member state of the EU, the exercise of this power is constrained by the Regulation.\\nArticle 3 of the Regulation provides as follows: Article 3 International jurisdiction 1.\\nThe courts of the Member State within the territory of which the centre of a debtor's main interests is situated shall have jurisdiction to open insolvency proceedings.\\nIn the case of a company or legal person, the place of the registered office shall be presumed to be the centre of its main interests in the absence of proof to the contrary. 2.\\nWhere the centre of a debtor's main interests is situated within the territory of a Member State, the courts of another Member State shall have jurisdiction to open insolvency proceedings against that debtor only if he possesses an establishment within the territory of that other Member State.\\nThe effects of those proceedings shall be restricted to the assets of the debtor situated in the territory of the latter Member State.\\nWhere insolvency proceedings have been opened under paragraph 1, any proceedings opened subsequently under paragraph 2 shall be secondary proceedings.\\nThese latter proceedings must be winding up proceedings. 3.\\nThe COMI is not a term of art, and is not defined in the body of the Regulation.\\nRecital (13), however, recites what is perhaps implicit in the phrase, namely that it should correspond to the place where the debtor conducts the administration of his interests on a regular basis and is therefore ascertainable by third parties.\\nJurisdiction to begin secondary insolvency proceedings in another European jurisdiction is established on a very different basis.\\nIt depends on the existence of an establishment within its territory.\\nAn establishment is defined in article 2(h) as any place of operations where the debtor carries out a non transitory economic activity with human means and goods.\\nGoods is hardly a satisfactory English word to use in this context.\\nIt is apparent from the equivalent term in the other language versions that it means the same as assets (biens, Vermgen) in article 3(2).\\nThe facts\\nOlympic Airlines SA was wound up on the direction of the Athens Court of Appeal on 2 October 2009.\\nSince then, the main liquidation proceedings have been in progress in Greece.\\nThe appellants are the trustees of the companys pension scheme.\\nOlympic is the principal employer in the scheme and the only employer currently participating in it.\\nUnder the rules of the scheme, it must be wound up upon the liquidation of Olympic Airlines.\\nUpon its winding up, a deficit was ascertained of (in round numbers) 16m, which Olympic is bound to make good under section 75 of the Pensions Act 1995.\\nOn 20 July 2010, the trustees presented a winding up petition against the company in England on the ground that it was unable to meet this liability.\\nThe size of Olympics deficiency means that they are unlikely to recover much.\\nBut the winding up order was necessary in order that the scheme should qualify for entry into the Pension Protection Fund under section 127 of the Pensions Act 2004.\\nOne of the conditions of entry was that a qualifying insolvency event should have occurred, and the only available one was that the company should have been ordered to be wound up under the Insolvency Act 1986: see Pensions Act 2004, section 121(3)(g).\\nAccordingly, the question arises whether Olympic had an establishment in the United Kingdom on 20 July 2010 so as to justify the presentation of a winding up petition on that date.\\nOlympic had had a number of offices in the United Kingdom, but the only ones which it still occupied on 20 July 2010 were its former UK head office at 11 Conduit Street in London, which it leased from an associated company.\\nThe Chancellor heard evidence about the status of 11 Conduit Street and the activities that were carried on there at the relevant time.\\nHe and the Court of Appeal made the following findings: (1) On 28 September 2009, shortly before the commencement of the liquidation proceedings in Greece, the area manager for Olympic in London was instructed that the company would cease all commercial operations as from 00.01 on the following day.\\nFrom that time all flight operations were undertaken by an unrelated company. (2) On 17 June 2010, the Greek liquidator informed the trustees of the pension fund that the employment of the 27 remaining UK staff would be terminated with effect from 14 July 2010.\\nThree persons, Mr Savva the General Manager, Mr Platanias the Finance and Purchasing Manager, and an accounts clerk, were retained thereafter on short term ad hoc contracts.\\nAt the time of the English winding up petition, they were the only persons still working there. (3) Mr Savva attended the office at Conduit Street as required.\\nIn practice this was about three or four times a week.\\nHis function was to deal generally with anything requiring attention, principally instructions and requests from the liquidator and staff in Athens retained by him. (4) Mr Platanias arranged the payment of bills for his own salary and Mr Savvas, council tax, electricity and cleaning, and for minor repairs following a break in.\\nHe reconciled bank statements, copied and sent relevant documents to the liquidator and his staff in Athens and dealt generally with post and telephone calls.\\nHe supervised the disposal of the companys assets in England, a process which had begun before the winding up petition and continued for some time afterwards.\\nThese comprised a current and deposit account, computers and office furniture, fixtures and fittings and computerised accounting records.\\nThey had no substantial realisable value.\\nThe Chancellor found that Mr Platanias functions were exactly what is to be expected from one responsible to an overseas liquidator for winding up the affairs of a foreign branch of a formerly substantial overseas trading company. (5) The clerk assisted in these activities under the direction of Mr Savva or Mr Platanias.\\nThe decisions of the courts below\\nThe Chancellor considered that to be economic an activity did not have to amount to external market activity: [2013] 1 BCLC 415.\\nHe found that these activities constituted non transitory economic activities for the purpose of the definition of establishment and made the winding up order.\\nThe Court of Appeal (Moore Bick LJ, Sir Stephen Sedley and Sir Bernard Rix) overruled him: [2014] 1 WLR 1401.\\nIn summary, they thought that the relevant economic activity had to consist of more than the activity involved in winding up the companys affairs, and that the three remaining employees were doing no more than that.\\nAfter the Court of Appeal handed down its decision, the law was changed.\\nA statutory power under the Pensions Act 2004 was exercised so as to prescribe an additional insolvency event for the purpose of section 121.\\nThe additional event was defined in such a way as to apply only to cases in which insolvency proceedings had been commenced in another member state of the EU in respect of an employer whose COMI was located in that state, and secondary proceedings had been begun in the United Kingdom but had subsequently been set aside for want of jurisdiction: see the Pension Fund (Entry Rules) (Amendment) Regulations 2014 (SI 2014/1664).\\nThis appears to be a class of one: the present case.\\nHowever, for technical reasons, the present issue remains important even though the effect of the amendment is to enable the Olympic pension scheme to qualify for the Pension Protection Fund on the basis of the Greek proceedings.\\nThe reason is that where the new insolvency event applies it is deemed to occur on the fifth anniversary of the commencement of the Greek proceedings, ie on 2 October 2014.\\nThis is rather more than four years after the date of the winding up order made by the High Court.\\nThis matters, because of the possibility that the Board of the Pension Protection Fund might require the trustees of the Olympic scheme to claw back any overpaid benefits between the commencement of the Greek liquidation proceedings and the relevant insolvency event.\\nIf that event occurred on 2 October 2014 instead of 29 May 2012, the period over which the benefits may be clawed back will be longer.\\nAuthorities\\nThe text of the Regulation is largely derived from the Convention on Insolvency Proceedings which was opened for signature in Brussels on 23 November 1995, but failed for want of a sufficient number of signatories.\\nThe Convention had been the subject of an authoritative commentary by Professor Miguel Virgos and M Etienne Schmit.\\nAccording to the Virgos Schmit Report (3 May 1996, OJL 6500/96), the definition of establishment reflected a compromise between universalist states, who favoured a single liquidation with universal effect, and territorialist states, who wished to recognise a jurisdiction to open national territorial proceedings based on the mere presence of local business assets whether or not there was any local place of business.\\nThe compromise consisted in the acceptance by the territorialists that jurisdiction to open secondary proceedings should be founded on the existence of a local establishment, but with a broad definition of the activities that must be carried on there.\\nAt para 71, the Report commented on the resultant definition as follows: 71.\\nFor the Convention on insolvency proceedings, establishment is understood to mean a place of operations through which the debtor carries out an economic activity on a non transitory basis, and where he uses human resources and goods.\\nPlace of operations means a place from which economic activities are exercised on the market (ie externally), whether the said activities are commercial, industrial or professional.\\nThe emphasis on an economic activity having to be carried out using human resources shows the need for a minimum level of organization.\\nA purely occasional place of operations cannot be classified as an establishment.\\nA certain stability is required.\\nThe negative formula (non transitory) aims to avoid minimum time requirements.\\nThe decisive factor is how the activity appears externally, and not the intention of the debtor.\\nThe rationale behind the rule is that foreign economic operators conducting their economic activities through a local establishment should be subject to the same rules as national economic operators as long as they are both operating in the same market.\\nIn this way, potential creditors concluding a contract with a local establishment will not have to worry about whether the company is a national or foreign one.\\nTheir information costs and legal risks in the event of insolvency of the debtor will be the same whether they conclude a contract with a national undertaking or a foreign undertaking with a local presence on that market.\\nNaturally, the possibility of opening local territorial insolvency proceedings makes sense only if the debtor possesses sufficient assets within the jurisdiction.\\nWhether or not these assets are linked to the economic activities of the establishment is of no relevance.\\nThis provides much the most useful source of guidance.\\nBy comparison, there is very limited help to be had from decided cases.\\nDecisions on the location of a companys COMI are addressed to a different test.\\nDecisions on what constitutes an establishment can rarely be more than illustrative given the fact sensitive nature of the inquiry.\\nIn (Case C 396/09) Interedil Srl (in liquidation) v Fallimento Interedil Srl [2011] ECR I 9939: [2012] BUS LR 1582, the Court of Justice of the European Union dealt with the question whether the presence of immovable property was enough to confer jurisdiction to open secondary insolvency proceedings.\\nThe court did not specifically address the question what constituted economic activity, but it dealt generally with the definition of establishment at paras 61 63 as follows:\\n61. Article 2(h) of the Regulation defines the term establishment as designating any place of operations where the debtor carries out a non transitory economic activity with human means and goods. 62.\\nThe fact that that definition links the pursuit of an economic activity to the presence of human resources shows that a minimum level of organisation and a degree of stability are required.\\nIt follows that, conversely, the presence alone of goods in isolation or bank accounts does not, in principle, satisfy the requirements for classification as an establishment. 63.\\nSince, in accordance with article 3(2) of the Regulation, the presence of an establishment in the territory of a member state confers jurisdiction on the courts of that State to open secondary insolvency proceedings against the debtor, it must be concluded that, in order to ensure legal certainty and foreseeability concerning the determination of the courts with jurisdiction, the existence of an establishment must be determined, in the same way as the location of the centre of main interests, on the basis of objective factors which are ascertainable by third parties.\\nTwo English decisions illustrate the application of the test to particular facts.\\nIn Shierson v Vlieland Boddy [2005] 1 WLR 3966, the Court of Appeal was concerned with an English debtor whose COMI was in Spain but who let and managed premises in England.\\nIt cited and implicitly adopted para 71 of the Virgos Schmit Report, and concluded that the letting and management of the premises themselves was enough to make them an establishment.\\nIn In re Office Metro Ltd [2012] BCC 829, Mann J was concerned with secondary proceedings in England in respect of an English company whose COMI was in Luxembourg and which was in liquidation there.\\nIt used an office in England, at which it handled the settlement of liabilities on guarantees of leases to associated companies, dealt with Companies Act filings, forwarded post, and occasionally took legal and accountancy advice.\\nPerhaps wisely, the judge did not attempt a general definition of economic activity, but expressed the view that the activities carried out at the relevant premises were not economic activities and that in any event they were transitory.\\nApplication to the present case\\nThe definition in article 2(h) must be read as a whole, not broken down into discrete elements, for each element colours the others.\\nThe relevant activities must be (i) economic, (ii) non transitory, (iii) carried on from a place of operations, and (iv) using the debtors assets and human agents.\\nThis suggests that what is envisaged is a fixed place of business.\\nThe requirement that the activities should be carried on with the debtors assets and human agents suggests a business activity consisting in dealings with third parties, and not pure acts of internal administration.\\nAs the Virgos Schmit Report suggests, the activities must be exercised on the market (ie externally).\\nI am inclined to think that the same point was being made by the Court of Justice when it observed in Interedil that the activities must be sufficiently accessible to enable third parties, that is to say in particular the companys creditors, to be aware of them.\\nI do not think that this can sensibly be read as requiring that the debtor should simply be locatable or identifiable by a brass plate on a door.\\nIt refers to the character of the economic activities.\\nThey must be activities which by their nature involve business dealings with third parties.\\nManifestly, some activities which a company in liquidation might carry on, may satisfy the definition.\\nThis may happen not only where the liquidator carries on the business with a view to its disposal but also, for example, where he disposes of stock in trade on the market.\\nOn the other hand, where a company has no subsisting business it is clearly not the case that the mere internal administration of its winding up will qualify.\\nSuch activity would not be exercised on the market; moreover, if it were enough to establish\\njurisdiction then the requirement for economic activities would add little\\nor nothing to the rest of the definition.\\nIndeed, the definition would almost always be satisfied by a debtor who retained premises in the United Kingdom with inevitable outgoings such as the payment of rent, business rates, and so on.\\nIt is unnecessary in the present case to undertake the difficult task of drawing a precise boundary between these extremes because, on any reasonable view of the meaning and purpose of the definition, the facts of this case are on the wrong side of it.\\nOlympic was not carrying on any business activity at 11 Conduit Street on the relevant date.\\nThe last of the companys business activities had ceased some time before.\\nAll that Mr Savva and Mr Platanias were doing was handling matters of internal administration associated with the final stages of the companys disposal of the means of carrying on business.\\nThe company cannot therefore be said to have had an establishment in the United Kingdom.\\nReference under Article 267 TFEU\\nIn my opinion, the necessity for showing at least some subsisting business with third parties before the definition can be satisfied is acte clair, even if the exact nature of that business and the degree to which it must be visible to outsiders may be open to argument.\\nSince in this case no external business at all was carried on from 11 Conduit Street, there is no point of principle calling for a reference.\\nDisposal\\nI would dismiss the appeal.\\n\""
            ],
            "application/vnd.google.colaboratory.intrinsic+json": {
              "type": "string"
            }
          },
          "metadata": {},
          "execution_count": 42
        }
      ]
    },
    {
      "cell_type": "code",
      "source": [],
      "metadata": {
        "id": "Xy4AhR3Efi21"
      },
      "execution_count": 42,
      "outputs": []
    }
  ],
  "metadata": {
    "accelerator": "GPU",
    "colab": {
      "gpuType": "T4",
      "provenance": []
    },
    "kernelspec": {
      "display_name": "Python 3",
      "name": "python3"
    },
    "language_info": {
      "name": "python"
    }
  },
  "nbformat": 4,
  "nbformat_minor": 0
}