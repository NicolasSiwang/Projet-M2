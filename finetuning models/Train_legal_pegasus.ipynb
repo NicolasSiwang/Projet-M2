{
  "cells": [
    {
      "cell_type": "code",
      "execution_count": null,
      "metadata": {
        "colab": {
          "base_uri": "https://localhost:8080/"
        },
        "id": "Tyn2pgUXo7Zz",
        "outputId": "a1b4d74d-1552-4df5-c08a-b2e3697f9732"
      },
      "outputs": [
        {
          "output_type": "stream",
          "name": "stdout",
          "text": [
            "Drive already mounted at /content/drive; to attempt to forcibly remount, call drive.mount(\"/content/drive\", force_remount=True).\n"
          ]
        }
      ],
      "source": [
        "from google.colab import drive\n",
        "drive.mount('/content/drive')"
      ]
    },
    {
      "cell_type": "code",
      "execution_count": null,
      "metadata": {
        "colab": {
          "base_uri": "https://localhost:8080/"
        },
        "id": "Cg27FhUZpAIv",
        "outputId": "16cd0f45-3c37-4359-aa87-7feb8a83bbad"
      },
      "outputs": [
        {
          "output_type": "stream",
          "name": "stdout",
          "text": [
            "Requirement already satisfied: transformers in /usr/local/lib/python3.10/dist-packages (4.46.2)\n",
            "Requirement already satisfied: datasets in /usr/local/lib/python3.10/dist-packages (3.1.0)\n",
            "Requirement already satisfied: torch in /usr/local/lib/python3.10/dist-packages (2.5.1+cu121)\n",
            "Requirement already satisfied: filelock in /usr/local/lib/python3.10/dist-packages (from transformers) (3.16.1)\n",
            "Requirement already satisfied: huggingface-hub<1.0,>=0.23.2 in /usr/local/lib/python3.10/dist-packages (from transformers) (0.26.2)\n",
            "Requirement already satisfied: numpy>=1.17 in /usr/local/lib/python3.10/dist-packages (from transformers) (1.26.4)\n",
            "Requirement already satisfied: packaging>=20.0 in /usr/local/lib/python3.10/dist-packages (from transformers) (24.2)\n",
            "Requirement already satisfied: pyyaml>=5.1 in /usr/local/lib/python3.10/dist-packages (from transformers) (6.0.2)\n",
            "Requirement already satisfied: regex!=2019.12.17 in /usr/local/lib/python3.10/dist-packages (from transformers) (2024.9.11)\n",
            "Requirement already satisfied: requests in /usr/local/lib/python3.10/dist-packages (from transformers) (2.32.3)\n",
            "Requirement already satisfied: safetensors>=0.4.1 in /usr/local/lib/python3.10/dist-packages (from transformers) (0.4.5)\n",
            "Requirement already satisfied: tokenizers<0.21,>=0.20 in /usr/local/lib/python3.10/dist-packages (from transformers) (0.20.3)\n",
            "Requirement already satisfied: tqdm>=4.27 in /usr/local/lib/python3.10/dist-packages (from transformers) (4.66.6)\n",
            "Requirement already satisfied: pyarrow>=15.0.0 in /usr/local/lib/python3.10/dist-packages (from datasets) (17.0.0)\n",
            "Requirement already satisfied: dill<0.3.9,>=0.3.0 in /usr/local/lib/python3.10/dist-packages (from datasets) (0.3.8)\n",
            "Requirement already satisfied: pandas in /usr/local/lib/python3.10/dist-packages (from datasets) (2.2.2)\n",
            "Requirement already satisfied: xxhash in /usr/local/lib/python3.10/dist-packages (from datasets) (3.5.0)\n",
            "Requirement already satisfied: multiprocess<0.70.17 in /usr/local/lib/python3.10/dist-packages (from datasets) (0.70.16)\n",
            "Requirement already satisfied: fsspec<=2024.9.0,>=2023.1.0 in /usr/local/lib/python3.10/dist-packages (from fsspec[http]<=2024.9.0,>=2023.1.0->datasets) (2024.9.0)\n",
            "Requirement already satisfied: aiohttp in /usr/local/lib/python3.10/dist-packages (from datasets) (3.11.1)\n",
            "Requirement already satisfied: typing-extensions>=4.8.0 in /usr/local/lib/python3.10/dist-packages (from torch) (4.12.2)\n",
            "Requirement already satisfied: networkx in /usr/local/lib/python3.10/dist-packages (from torch) (3.4.2)\n",
            "Requirement already satisfied: jinja2 in /usr/local/lib/python3.10/dist-packages (from torch) (3.1.4)\n",
            "Requirement already satisfied: sympy==1.13.1 in /usr/local/lib/python3.10/dist-packages (from torch) (1.13.1)\n",
            "Requirement already satisfied: mpmath<1.4,>=1.1.0 in /usr/local/lib/python3.10/dist-packages (from sympy==1.13.1->torch) (1.3.0)\n",
            "Requirement already satisfied: aiohappyeyeballs>=2.3.0 in /usr/local/lib/python3.10/dist-packages (from aiohttp->datasets) (2.4.3)\n",
            "Requirement already satisfied: aiosignal>=1.1.2 in /usr/local/lib/python3.10/dist-packages (from aiohttp->datasets) (1.3.1)\n",
            "Requirement already satisfied: attrs>=17.3.0 in /usr/local/lib/python3.10/dist-packages (from aiohttp->datasets) (24.2.0)\n",
            "Requirement already satisfied: frozenlist>=1.1.1 in /usr/local/lib/python3.10/dist-packages (from aiohttp->datasets) (1.5.0)\n",
            "Requirement already satisfied: multidict<7.0,>=4.5 in /usr/local/lib/python3.10/dist-packages (from aiohttp->datasets) (6.1.0)\n",
            "Requirement already satisfied: propcache>=0.2.0 in /usr/local/lib/python3.10/dist-packages (from aiohttp->datasets) (0.2.0)\n",
            "Requirement already satisfied: yarl<2.0,>=1.17.0 in /usr/local/lib/python3.10/dist-packages (from aiohttp->datasets) (1.17.1)\n",
            "Requirement already satisfied: async-timeout<6.0,>=4.0 in /usr/local/lib/python3.10/dist-packages (from aiohttp->datasets) (4.0.3)\n",
            "Requirement already satisfied: charset-normalizer<4,>=2 in /usr/local/lib/python3.10/dist-packages (from requests->transformers) (3.4.0)\n",
            "Requirement already satisfied: idna<4,>=2.5 in /usr/local/lib/python3.10/dist-packages (from requests->transformers) (3.10)\n",
            "Requirement already satisfied: urllib3<3,>=1.21.1 in /usr/local/lib/python3.10/dist-packages (from requests->transformers) (2.2.3)\n",
            "Requirement already satisfied: certifi>=2017.4.17 in /usr/local/lib/python3.10/dist-packages (from requests->transformers) (2024.8.30)\n",
            "Requirement already satisfied: MarkupSafe>=2.0 in /usr/local/lib/python3.10/dist-packages (from jinja2->torch) (3.0.2)\n",
            "Requirement already satisfied: python-dateutil>=2.8.2 in /usr/local/lib/python3.10/dist-packages (from pandas->datasets) (2.8.2)\n",
            "Requirement already satisfied: pytz>=2020.1 in /usr/local/lib/python3.10/dist-packages (from pandas->datasets) (2024.2)\n",
            "Requirement already satisfied: tzdata>=2022.7 in /usr/local/lib/python3.10/dist-packages (from pandas->datasets) (2024.2)\n",
            "Requirement already satisfied: six>=1.5 in /usr/local/lib/python3.10/dist-packages (from python-dateutil>=2.8.2->pandas->datasets) (1.16.0)\n"
          ]
        }
      ],
      "source": [
        "%pip install transformers datasets torch"
      ]
    },
    {
      "cell_type": "code",
      "execution_count": null,
      "metadata": {
        "id": "Ud0nrI4Ppc_j"
      },
      "outputs": [],
      "source": [
        "train_path = '/content/drive/MyDrive/SCOTU_data_txt_save'\n",
        "test_path = '/content/drive/MyDrive/SCOTU_data_txt_save'\n",
        "\n",
        "train_path_txt = train_path + '/text'\n",
        "train_path_summary = train_path + '/summary'\n",
        "test_path_txt = test_path + '/text_dev'\n",
        "test_path_summary = test_path + '/summary_dev'"
      ]
    },
    {
      "cell_type": "code",
      "execution_count": null,
      "metadata": {
        "colab": {
          "base_uri": "https://localhost:8080/"
        },
        "id": "zdWsyN4QsRQg",
        "outputId": "1315d486-0006-461b-f086-8f3779878fbf"
      },
      "outputs": [
        {
          "output_type": "stream",
          "name": "stdout",
          "text": [
            "Entraînement sur : cuda\n"
          ]
        }
      ],
      "source": [
        "import torch\n",
        "\n",
        "# Vérification de la disponibilité du GPU\n",
        "device = torch.device(\"cuda\" if torch.cuda.is_available() else \"cpu\")\n",
        "print(f\"Entraînement sur : {device}\")"
      ]
    },
    {
      "cell_type": "code",
      "execution_count": null,
      "metadata": {
        "colab": {
          "base_uri": "https://localhost:8080/"
        },
        "id": "wlMRS4iFpC43",
        "outputId": "71652055-768f-4129-d1dc-27dfe68abc75"
      },
      "outputs": [
        {
          "output_type": "stream",
          "name": "stdout",
          "text": [
            "{'text': 'OPINION OF THE COURTOREGON V. GUZEK546 U. S. ____ (2006)SUPREME COURT OF THE UNITED STATESNO. 04-928 \\n  OREGON, PETITIONER  v.  RANDY LEE GUZEK\\n  on writ of certiorari to the supreme court of oregon\\n  [February 22, 2006]\\n  \\xa0\\xa0\\xa0Justice Breyer delivered the opinion of the Court.\\n  \\xa0\\xa0\\xa0Respondent Randy Lee Guzek was found guilty of capital murder and sentenced to death. On appeal, the Oregon Supreme Court affirmed the conviction but vacated the sentence and ordered a new sentencing proceeding. The question before the Court is whether the State may limit the innocence-related evidence he can introduce at that proceeding to the evidence he introduced at his original trial. We hold that the limitation does not violate the Constitution.\\n  I\\n  \\xa0\\xa0\\xa0Oregon tried Guzek for the offense of capital murder. The evidence showed that Guzek and two associates decided to burglarize the Houser family home, that they entered the house, that an associate killed Rod Houser, and that Guzek then robbed and killed Lois Houser. After the police learned that Guzek held a special grudge against the Housers, they traced him and his associates. The associates confessed. And they testified at trial, painting Guzek as the ringleader.\\n  \\xa0\\xa0\\xa0Guzek’s defense rested in part upon an alibi. He presented two alibi witnesses, his grandfather and his mother, who testified that Guzek had been with the one or the other at the time of the crime. The jury disbelieved the alibi, it convicted Guzek, and it sentenced him to death.\\n  \\xa0\\xa0\\xa0Guzek appealed; the Oregon Supreme Court affirmed the conviction; but the court ordered a new sentencing proceeding. Guzek was again sentenced to death; he again appealed; and the Oregon Supreme Court again ordered resentencing. Guzek was sentenced to death for the third time; he again appealed; and yet again the Oregon Supreme Court found the sentencing procedures faulty. Seeking to avoid further errors at the next (the fourth) sentencing proceeding, the Oregon Supreme Court also addressed the admissibility of certain evidence Guzek seeks to introduce at that proceeding, including live testimony from his mother about his alibi.\\n  \\xa0\\xa0\\xa0The Oregon Supreme Court held that the Eighth and Fourteenth Amendments provide Guzek a federal constitutional right to introduce this evidence at his upcoming sentencing proceeding. At Oregon’s request, we agreed to review that determination. 544 U. S. ___ (2005).\\n  II\\n  \\xa0\\xa0\\xa0Before turning to the merits of Oregon’s claim, we consider a motion that Guzek made, asking us to dismiss the writ of certiorari as improvidently granted. The motion rests upon Guzek’s claim that, irrespective of federal law,  state  law gives him the right to introduce his mother’s live testimony—the additional alibi evidence here at issue. See Ore. Rev. Stat. §138.012(2)(b) (2003). For this reason, he says, the Court lacks jurisdiction to hear this appeal, or, at the least, there is no good practical reason for us to decide the federal issue.\\n  \\xa0\\xa0\\xa0We cannot agree, however, that we lack jurisdiction to hear the case. We possess jurisdiction to review state-court determinations that rest upon federal law. 28 U. S.\\xa0C. §1257(a). And the Oregon Supreme Court here based its legal conclusion in relevant part on federal law. The court pointed out that  state  law permits the introduction (at a new sentencing hearing) of “\\xa0‘evidence …  relevant  to [the] sentence including . . . mitigating evidence  relevant  to … [w]hether the defendant should receive a death sentence.’\\xa0” App. to Pet. for Cert. 45 (quoting Ore. Rev. Stat. §§163.150(1)(a), (b) (2003); emphasis added and deleted). But it immediately added that the state law’s words “relevant … mitigating evidence” refer (in the present context) only to evidence that the  Federal Constitution  grants a defendant the right to present. App. to Pet. for Cert. 45–52.\\n  \\xa0\\xa0\\xa0The Oregon court went on to discuss this Court’s statements to the effect that the Eighth and Fourteenth Amendments “\\xa0‘require that the sentencer … not be precluded from considering, as a mitigating factor … any of the circumstances of the offense that the defendant proffers as a basis for a sentence less than death.’\\xa0”  Id. , at 54 (quoting  Lockett  v.  Ohio,   438 U. S. 586 , 604 (1978) (plurality opinion); emphasis deleted); cf. App. to Pet. for Cert. 56 (recognizing that this aspect of  Lockett  was adopted by a majority of the Court in  Eddings  v.  Oklahoma,    455 U. S. 104 , 110 (1982)). And theOregon court then interpreted this Court’s holding in Green  v.  Georgia,   442 U. S. 95  (1979) (per curiam) , as including, within that federaladmissibility requirement, evidence which, like the proffered alibitestimony, tends to show that the defendant did not commit thecrime for which he has been convicted. Thus, it held that state lawdemanded “admissibility” solely for a federal reason. And wepossess jurisdiction. See,  e.g., South Dakota  v. Neville,   459 U. S. 553 , 556, n. 5(1983);  Delaware  v.  Prouse,   440 U. S. 648 , 651–653(1979).\\n  \\xa0\\xa0\\xa0Neither are we persuaded by Guzek’s argument that we should dismiss the case because irrespective of federal law and irrespective of the Oregon Supreme Court’s federal holding, Oregon law gives him the right to introduce witnesses who testified at the guilt phrase; and his mother was such a witness (a fact, he says, that the Oregon Supreme Court overlooked). Guzek points in support to an Oregon capital-case resentencing statute that says,\\n  “[a] transcript of all testimony and all exhibits and other evidence properly admitted in the prior trial … are admissible in the new sentencing proceeding.” Ore. Rev. Stat. §138.012(2)(b) (2003).\\n  The provision adds that,\\n  “[e]ither party may recall any witness who testified at the prior trial … and may present additional relevant evidence.”  Ibid. We do not doubt that these provisions giveGuzek the state–law right to introduce a transcript  ofguilt-phase testimony. App. to Pet. for Cert. 43 (authorizingintroduction of transcript of Guzek’s grandfather’s alibitestimony). But Guzek wishes to do more than introduce a transcript  of his mother’s alibi evidence; he wishes tocall his mother to the stand as a live witness and elicit additional  alibi testimony. Tr. of Oral Arg. 37–39, 41,55–56. The Oregon statute quoted above does not expressly saywhether he may do so. It does give him the right to “recall anywitness” who testified at the first trial and to “presentadditional  relevant  evidence.” (Emphasis added.) But isthis additional evidence “relevant”? The Oregon Supreme Courtthought so, but only because  federal  law insists upon itsrelevance. And its opinion suggests that, in the absence of federalcompulsion, it would not fall within the scope of the statestatutory word “relevant.” See  supra , at 3.\\n  \\xa0\\xa0\\xa0At most, Guzek has shown that state law  might,  not that it  does,  independently give him the right to introduce this evidence. We have made clear that “a  possible  adequate and independent state ground” for a decision does not “bar [our] reaching the federal questions” where, as here, a “State Supreme Court quite clearly rested its [decision] solely on the Federal Constitution.”  California  v.  Ramos,   463 U. S. 992 , 997, n. 7 (1983); see also  City of Revere  v.  Massachusetts Gen. Hospital,   463 U. S. 239 , 242 (1983);  United Air Lines, Inc.  v.  Mahin,   410 U. S. 623 , 630–631 (1973). And we consequently deny the motion to dismiss the writ.\\n  III\\n  \\xa0\\xa0\\xa0As our discussion in Part II,  supra,  makes clear, the federal question before us is a narrow one. Do the Eighth and Fourteenth Amendments grant Guzek a constitutional right to present evidence of the kind he seeks to introduce, namely  new  evidence that shows he was not present at the scene of the crime. That evidence is  inconsistent  with Guzek’s prior conviction. It sheds no light on  the manner  in which he committed the crime for which he has been convicted. Nor is it evidence that Guzek contends was unavailable to him at the time of the original trial. And, to the extent it is evidence he introduced at that time, he is free to introduce it now, albeit in transcript form. Ore. Rev. Stat. §138.012(2)(b) (2003). We can find nothing in the Eighth or Fourteenth Amendments that provides a capital defendant a right to introduce new evidence of this kind at sentencing.\\n  \\xa0\\xa0\\xa0We cannot agree with the Oregon Supreme Court that our previous cases have found in the Eighth Amendment a constitutional right broad enough to encompass the evidence here at issue. In  Lockett  v.  Ohio, supra , a plurality of this Court decided that a defendant convicted of acting in concert with others to rob and to kill could introduce at the sentencing stage evidence that she had played a minor role in the crime, indeed, that she had remained outside the shop (where the killing took place) at the time of the crime. A plurality of the Court wrote that,\\n  “the Eighth and Fourteenth Amendments require that the sentencer . . . not be precluded from considering, as a mitigating factor, any aspect of a defendant’s character or record and  any of the circumstances of the offense that the defendant proffers  as a basis for a sentence less than death.”  Id.,  at 604 (emphasis added and deleted).\\n  And in  Eddings  v.  Oklahoma,  455 U. S. 104 , the Court majorityadopted this statement. See also  McCleskey  v. Kemp,   481U. S. 279 , 306 (1987);  Bell  v.  Ohio,   438 U. S. 637 , 642(1978) (plurality opinion).\\n  \\xa0\\xa0\\xa0But the evidence at issue in these cases was traditional sentence-related evidence, evidence that tended to show  how,  not  whether,  the defendant committed the crime. Nor was the evidence directly inconsistent with the jury’s finding of guilt.\\n  \\xa0\\xa0\\xa0The Oregon Supreme Court thought that this latter distinction—the fact that the “alibi evidence was inconsistent with,” rather than “consistent with[,] the underlying convictions”—did not matter. App. to Pet. for Cert. 58. It said that this “factual distinction … is of no consequence in light of the Supreme Court’s decision in  Green   v. Georgia. ”  Ibid.  In  Green,  however, theCourt focused upon a defendant convicted of murder, who sought tointroduce at sentencing a statement his confederate made to a thirdparty that he (the confederate) had alone committed the murder( i.e. , without the defendant). The State opposed its useat the defendant’s sentencing hearing  on the ground that, as tothe defendant, it was hearsay.  The Court, in a brief  percuriam  opinion, noted that the State had used the confessionin the confederate’s trial, referred to an earlier case holdingthat the Constitution forbids States from“\\xa0‘mechanistically’\\xa0” applying the hearsay rule“\\xa0‘to defeat the ends of justice,’\\xa0” and held that theConstitution prohibited the State from barring use of theconfession. 442 U. S., at 97 (quoting  Chambers  v. Mississippi,   410 U. S. 284 , 302(1973)). The opinion focused only upon the hearsay problem, and itimplicitly assumed that, in the absence of the hearsay problem, state  law would not have blocked admission of theevidence. \\xa0\\xa0\\xa0 In any event, subsequent to Green,  this Court decided  Franklin  v. Lynaugh ,  487 U. S. 164  (1988)(plurality opinion), and that case makes clear, contrary to theOregon Supreme Court’s understanding, that this Court’s previouscases had  not  interpreted the Eighth Amendment asproviding a capital defendant the right to introduce at sentencingevidence designed to cast “residual doubt” on his guilt of thebasic crime of conviction. The  Franklin  plurality said itwas “quite doubtful” that any such right existed.  Id. , at173, n.\\xa06. And two other Members of the Court added that“[o]ur cases” do not support any such “right to reconsideration bythe sentencing body of lingering doubts about … guilt.” Id. , at 187 (O’Connor, J., concurring in judgment). Seealso  Penry  v.  Lynaugh,   492 U. S. 302 , 320(1989) (characterizing  Franklin  as a case in which amajority “agreed that ‘residual doubt’ as to Franklin’s guilt wasnot a constitutionally mandated mitigating factor” (bracketsomitted)).\\n  \\xa0\\xa0\\xa0 Franklin  did not resolve whether the Eighth Amendment affords capital defendants such a right, for the plurality held that the sentencing scheme at issue was constitutional “even if such a right existed.” 487 U. S.em>., at 174. But the Court’s statements on the matter make clear that the Oregon Supreme Court erred in interpreting  Green  as providing a capital defendant with a constitutional right to introduce residual doubt evidence at sentencing.\\n  \\xa0\\xa0\\xa0In this case, we once again face a situation where we need not resolve whether such a right exists, for, even if it does, it could not extend so far as to provide this defendant with a right to introduce the evidence at issue. See,  e.g.,   Alabama State Federation of Labor  v.  McAdory,   325 U. S. 450 , 461–462 (1945). \\xa0\\xa0\\xa0The Eighth Amendment insists upon “\\xa0‘reliability in the determination that death is the appropriate punishment in a specific case.’\\xa0”  Penry, supra,  at 328 (quoting  Woodson  v.  North Carolina,   428 U. S. 280 , 305 (1976) (plurality opinion)). The Eighth Amendment also insists that a sentencing jury be able “to consider and give effect to mitigating evidence” about the defendant’s “character or record or the circumstances of the offense.”  Penry, supra,  at 327–328. But the Eighth Amendment does not deprive the State of its authority to set reasonable limits upon the evidence a defendant can submit, and to control the manner in which it is submitted. Rather, “States are free to structure and shape consideration of mitigating evidence ‘in an effort to achieve a more rational and equitable administration of the death penalty.’\\xa0”  Boyde  v.  California,   494 U. S. 370 , 377 (1990) (quoting  Franklin, supra , at 181 (plurality opinion)); see,  e.g.,   Johnson  v.  Texas, 509 U. S. 350 ,362 (1993);  California  v.  Brown,   479 U. S. 538 , 543(1987).\\n  \\xa0\\xa0\\xa0Three circumstances, taken together, convince us that the State possesses the authority to regulate, through exclusion, the evidence that Guzek seeks to present. First, sentencing traditionally concerns  how,  not  whether,  a defendant committed the crime. See United States Sentencing Commission, Guidelines Manual §1A1.1, editorial note, §4(a), p. 4 (Nov. 2004). But the evidence at issue here—alibi evidence—concerns only  whether,  not  how,  he did so.\\n  \\xa0\\xa0\\xa0Second, the parties previously litigated the issue to which the evidence is relevant—whether the defendant committed the basic crime. The evidence thereby attacks a previously determined matter in a proceeding at which, in principle, that matter is not at issue. The law typically discourages collateral attacks of this kind. Cf.  Allen  v.  McCurry,   449 U. S. 90 , 94 (1980) (“As this Court and other courts have often recognized, res judicata and collateral estoppel relieve parties of the cost and vexation of multiple lawsuits, conserve judicial resources, and, by preventing inconsistent decisions, encourage reliance on adjudication”).\\n  \\xa0\\xa0\\xa0Third, the negative impact of a rule restricting defendant’s ability to introduce  new  alibi evidence is minimized by the fact that Oregon law gives the defendant the right to present to the sentencing jury  all  the evidence of innocence from the original trial regardless. That law permits the defendant to introduce at resentencing transcripts and exhibits from his prior trial. Ore. Rev. Stat. §138.012(2)(b) (2003). The defendant here has not claimed that the evidence at issue was unavailable at the time of his original trial. Thus, he need only have introduced it at that time to guarantee its presentation (albeit through transcripts) to a resentencing jury as well.\\n  \\xa0\\xa0\\xa0The legitimacy of these trial management and evidentiary considerations, along with the typically minimal adverse impact that a restriction would have on a defendant’s ability to present his alibi claim at resentencing convinces us that the Eighth Amendment does not protect defendant’s right to present the evidence at issue here. We conclude that the Oregon court was wrong in holding to the contrary.\\n  IV\\n  \\xa0\\xa0\\xa0Guzek also contends that, even if the Eighth and Fourteenth Amendments do not mandate the admission of his mother’s testimony, he is entitled to introduce that evidence to impeach his associates, whose earlier testimony the government intends to introduce at resentencing. The Oregon Supreme Court did not address this issue; nor do we believe it fairly encompassed within the question presented. The Oregon courts are free to consider it on remand should they believe it appropriate to do so.\\n  V\\n  \\xa0\\xa0\\xa0For these reasons, we vacate the judgment of the Oregon Supreme Court, and we remand the case for proceedings not inconsistent with this opinion.\\n  \\xa0\\xa0\\xa0 It is so ordered. \\xa0\\xa0\\xa0Justice Alito  took nopart in the consideration or decision of this case.\\n', 'summary': '<\\np\\n>\\nG\\no\\nn\\nz\\na\\nl\\no\\n \\nH\\no\\nl\\ng\\nu\\ni\\nn\\n \\nw\\na\\ns\\n \\nc\\no\\nn\\nv\\ni\\nc\\nt\\ne\\nd\\n \\nf\\no\\nr\\n \\np\\no\\ns\\ns\\ne\\ns\\ns\\ni\\no\\nn\\n \\no\\nf\\n \\nm\\na\\nr\\ni\\nj\\nu\\na\\nn\\na\\n \\nw\\ni\\nt\\nh\\n \\ni\\nn\\nt\\ne\\nn\\nt\\n \\nt\\no\\n \\nd\\ni\\ns\\nt\\nr\\ni\\nb\\nu\\nt\\ne\\n,\\n \\ni\\nn\\n \\nv\\ni\\no\\nl\\na\\nt\\ni\\no\\nn\\n \\no\\nf\\n \\nf\\ne\\nd\\ne\\nr\\na\\nl\\n \\nl\\na\\nw\\n,\\n \\na\\nn\\nd\\n \\ns\\ne\\nn\\nt\\ne\\nn\\nc\\ne\\nd\\n \\nt\\no\\n \\n2\\n4\\n \\nm\\no\\nn\\nt\\nh\\ns\\n \\ni\\nn\\n \\np\\nr\\ni\\ns\\no\\nn\\n,\\n \\nf\\no\\nl\\nl\\no\\nw\\ne\\nd\\n \\nb\\ny\\n \\nt\\nw\\no\\n \\ny\\ne\\na\\nr\\ns\\n \\no\\nf\\n \\ns\\nu\\np\\ne\\nr\\nv\\ni\\ns\\ne\\nd\\n \\nr\\ne\\nl\\ne\\na\\ns\\ne\\n.\\n \\nH\\no\\nl\\ng\\nu\\ni\\nn\\n \\nw\\na\\ns\\n \\na\\ng\\na\\ni\\nn\\n \\na\\nr\\nr\\ne\\ns\\nt\\ne\\nd\\n \\nf\\no\\nr\\n \\np\\no\\ns\\ns\\ne\\ns\\ns\\ni\\no\\nn\\n \\na\\nn\\nd\\n \\ni\\nn\\nt\\ne\\nn\\nt\\n \\nt\\no\\n \\nd\\ni\\ns\\nt\\nr\\ni\\nb\\nu\\nt\\ne\\n,\\n \\na\\nn\\nd\\n \\na\\nf\\nt\\ne\\nr\\n \\nt\\nh\\na\\nt\\n \\na\\nr\\nr\\ne\\ns\\nt\\n \\nt\\nh\\ne\\n \\ng\\no\\nv\\ne\\nr\\nn\\nm\\ne\\nn\\nt\\n \\nf\\ni\\nl\\ne\\nd\\n \\na\\n \\np\\ne\\nt\\ni\\nt\\ni\\no\\nn\\n \\nt\\no\\n \\nr\\ne\\nv\\no\\nk\\ne\\n \\nt\\nh\\ne\\n \\ns\\nu\\np\\ne\\nr\\nv\\ni\\ns\\ne\\nd\\n \\nr\\ne\\nl\\ne\\na\\ns\\ne\\n \\nt\\ne\\nr\\nm\\n.\\n \\nB\\ne\\nf\\no\\nr\\ne\\n \\nt\\nh\\ne\\n \\nr\\ne\\nv\\no\\nc\\na\\nt\\ni\\no\\nn\\n \\nh\\ne\\na\\nr\\ni\\nn\\ng\\n \\no\\nc\\nc\\nu\\nr\\nr\\ne\\nd\\n,\\n \\nH\\no\\nl\\ng\\nu\\ni\\nn\\n \\np\\nl\\ne\\na\\nd\\ne\\nd\\n \\ng\\nu\\ni\\nl\\nt\\ny\\n \\nt\\no\\n \\nt\\nh\\ne\\n \\ns\\ne\\nc\\no\\nn\\nd\\n \\ns\\ne\\nt\\n \\no\\nf\\n \\nc\\nh\\na\\nr\\ng\\ne\\ns\\n.\\n<\\n/\\np\\n>\\n\\n\\n<\\np\\n>\\nA\\nt\\n \\nt\\nh\\ne\\n \\nr\\ne\\nv\\no\\nc\\na\\nt\\ni\\no\\nn\\n \\nh\\ne\\na\\nr\\ni\\nn\\ng\\n,\\n \\nt\\nh\\ne\\n \\nd\\ni\\ns\\nt\\nr\\ni\\nc\\nt\\n \\nc\\no\\nu\\nr\\nt\\n \\ne\\nx\\np\\nl\\na\\ni\\nn\\ne\\nd\\n \\nt\\nh\\ne\\n \\na\\nl\\nl\\ne\\ng\\na\\nt\\ni\\no\\nn\\ns\\n \\no\\nf\\n \\nt\\nh\\ne\\n \\nr\\ne\\nv\\no\\nc\\na\\nt\\ni\\no\\nn\\n \\np\\ne\\nt\\ni\\nt\\ni\\no\\nn\\n \\nt\\no\\n \\nH\\no\\nl\\ng\\nu\\ni\\nn\\n \\na\\nn\\nd\\n \\na\\ns\\nk\\ne\\nd\\n \\nh\\no\\nw\\n \\nh\\ne\\n \\np\\nl\\ne\\na\\nd\\ne\\nd\\n.\\n \\nH\\no\\nl\\ng\\nu\\ni\\nn\\n \\na\\nn\\ns\\nw\\ne\\nr\\ne\\nd\\n \\n“\\nT\\nr\\nu\\ne\\n.\\n”\\n \\nH\\no\\nl\\ng\\nu\\ni\\nn\\n’\\ns\\n \\na\\nt\\nt\\no\\nr\\nn\\ne\\ny\\n \\na\\nr\\ng\\nu\\ne\\nd\\n \\nf\\no\\nr\\n \\na\\n \\nc\\no\\nn\\nc\\nu\\nr\\nr\\ne\\nn\\nt\\n \\ns\\ne\\nn\\nt\\ne\\nn\\nc\\ne\\n \\no\\nn\\n \\nt\\nh\\ne\\n \\nr\\ne\\nv\\no\\nc\\na\\nt\\ni\\no\\nn\\n,\\n \\nb\\nu\\nt\\n \\nt\\nh\\ne\\n \\nc\\no\\nu\\nr\\nt\\n \\ni\\ns\\ns\\nu\\ne\\nd\\n \\na\\n \\n1\\n2\\n-\\nm\\no\\nn\\nt\\nh\\n \\nc\\no\\nn\\ns\\ne\\nc\\nu\\nt\\ni\\nv\\ne\\n \\ns\\ne\\nn\\nt\\ne\\nn\\nc\\ne\\n \\ni\\nn\\ns\\nt\\ne\\na\\nd\\n.\\n \\nH\\no\\nl\\ng\\nu\\ni\\nn\\n \\na\\np\\np\\ne\\na\\nl\\ne\\nd\\n \\nt\\nh\\ne\\n \\nr\\ne\\na\\ns\\no\\nn\\na\\nb\\nl\\ne\\nn\\ne\\ns\\ns\\n \\no\\nf\\n \\nh\\ni\\ns\\n \\ns\\ne\\nn\\nt\\ne\\nn\\nc\\ne\\n,\\n \\na\\nn\\nd\\n \\nt\\nh\\ne\\n \\nU\\n.\\nS\\n.\\n \\nC\\no\\nu\\nr\\nt\\n \\no\\nf\\n \\nA\\np\\np\\ne\\na\\nl\\ns\\n \\nf\\no\\nr\\n \\nt\\nh\\ne\\n \\nF\\ni\\nf\\nt\\nh\\n \\nC\\ni\\nr\\nc\\nu\\ni\\nt\\n \\na\\nf\\nf\\ni\\nr\\nm\\ne\\nd\\n,\\n \\nf\\ni\\nn\\nd\\ni\\nn\\ng\\n \\nH\\no\\nl\\ng\\nu\\ni\\nn\\n \\nh\\na\\nd\\n \\nf\\na\\ni\\nl\\ne\\nd\\n \\nt\\no\\n \\nm\\na\\nk\\ne\\n \\na\\n \\nf\\no\\nr\\nm\\na\\nl\\n \\no\\nb\\nj\\ne\\nc\\nt\\ni\\no\\nn\\n \\na\\nf\\nt\\ne\\nr\\n \\nt\\nh\\ne\\n \\na\\nn\\nn\\no\\nu\\nn\\nc\\ne\\nm\\ne\\nn\\nt\\n \\no\\nf\\n \\nh\\ni\\ns\\n \\ns\\ne\\nn\\nt\\ne\\nn\\nc\\ne\\n.\\n<\\n/\\np\\n>\\n\\n\\n \\n\\n\\n<\\np\\n>\\nM\\nu\\ns\\nt\\n \\na\\n \\nc\\nr\\ni\\nm\\ni\\nn\\na\\nl\\n \\nd\\ne\\nf\\ne\\nn\\nd\\na\\nn\\nt\\n \\nm\\na\\nk\\ne\\n \\na\\n \\nf\\no\\nr\\nm\\na\\nl\\n \\no\\nb\\nj\\ne\\nc\\nt\\ni\\no\\nn\\n \\na\\nf\\nt\\ne\\nr\\n \\nt\\nh\\ne\\n \\np\\nr\\no\\nn\\no\\nu\\nn\\nc\\ne\\nm\\ne\\nn\\nt\\n \\no\\nf\\n \\nh\\ni\\ns\\n \\ns\\ne\\nn\\nt\\ne\\nn\\nc\\ne\\n \\nt\\no\\n \\ni\\nn\\nv\\no\\nk\\ne\\n \\na\\np\\np\\ne\\nl\\nl\\na\\nt\\ne\\n \\nr\\ne\\na\\ns\\no\\nn\\na\\nb\\nl\\ne\\nn\\ne\\ns\\ns\\n \\nr\\ne\\nv\\ni\\ne\\nw\\n \\no\\nf\\n \\nt\\nh\\ne\\n \\nl\\ne\\nn\\ng\\nt\\nh\\n \\no\\nf\\n \\nt\\nh\\ne\\n \\ns\\ne\\nn\\nt\\ne\\nn\\nc\\ne\\n?\\n<\\n/\\np\\n>\\n\\n\\n \\n\\n\\n<\\np\\n>\\nA\\n \\nc\\nr\\ni\\nm\\ni\\nn\\na\\nl\\n \\nd\\ne\\nf\\ne\\nn\\nd\\na\\nn\\nt\\n \\nn\\ne\\ne\\nd\\n \\nn\\no\\nt\\n \\nm\\na\\nk\\ne\\n \\na\\n \\nf\\no\\nr\\nm\\na\\nl\\n \\no\\nb\\nj\\ne\\nc\\nt\\ni\\no\\nn\\n \\nt\\no\\n \\nh\\ni\\ns\\n \\ni\\ns\\ns\\nu\\ne\\nd\\n \\ns\\ne\\nn\\nt\\ne\\nn\\nc\\ne\\n \\ni\\nn\\n \\no\\nr\\nd\\ne\\nr\\n \\nt\\no\\n \\np\\nr\\ne\\ns\\ne\\nr\\nv\\ne\\n \\nh\\ni\\ns\\n \\nr\\ni\\ng\\nh\\nt\\n \\no\\nn\\n \\na\\np\\np\\ne\\na\\nl\\n \\nt\\no\\n \\nh\\na\\nv\\ne\\n \\nt\\nh\\na\\nt\\n \\ns\\ne\\nn\\nt\\ne\\nn\\nc\\ne\\n \\nr\\ne\\nv\\ni\\ne\\nw\\ne\\nd\\n \\nf\\no\\nr\\n \\n“\\nr\\ne\\na\\ns\\no\\nn\\na\\nb\\nl\\ne\\nn\\ne\\ns\\ns\\n”\\n \\nr\\na\\nt\\nh\\ne\\nr\\n \\nt\\nh\\na\\nn\\n \\nf\\no\\nr\\n \\n“\\np\\nl\\na\\ni\\nn\\n \\ne\\nr\\nr\\no\\nr\\n,\\n”\\n \\nt\\nh\\ne\\n \\ns\\nt\\na\\nn\\nd\\na\\nr\\nd\\n \\nt\\nh\\na\\nt\\n \\nw\\no\\nu\\nl\\nd\\n \\nc\\no\\nn\\nt\\nr\\no\\nl\\n \\na\\nb\\ns\\ne\\nn\\nt\\n \\ns\\nu\\nf\\nf\\ni\\nc\\ni\\ne\\nn\\nt\\n \\no\\nb\\nj\\ne\\nc\\nt\\ni\\no\\nn\\n \\na\\nt\\n \\nt\\nh\\ne\\n \\nt\\ni\\nm\\ne\\n \\no\\nf\\n \\ns\\ne\\nn\\nt\\ne\\nn\\nc\\ni\\nn\\ng\\n.\\n \\nW\\nr\\ni\\nt\\ni\\nn\\ng\\n \\nf\\no\\nr\\n \\na\\n \\nu\\nn\\na\\nn\\ni\\nm\\no\\nu\\ns\\n \\nC\\no\\nu\\nr\\nt\\n,\\n \\nJ\\nu\\ns\\nt\\ni\\nc\\ne\\n \\nB\\nr\\ne\\ny\\ne\\nr\\n \\nn\\no\\nt\\ne\\nd\\n \\na\\n \\ns\\np\\nl\\ni\\nt\\n \\no\\nf\\n \\na\\nu\\nt\\nh\\no\\nr\\ni\\nt\\ny\\n \\na\\nm\\no\\nn\\ng\\n \\nt\\nh\\ne\\n \\nv\\na\\nr\\ni\\no\\nu\\ns\\n \\nf\\ne\\nd\\ne\\nr\\na\\nl\\n \\nc\\no\\nu\\nr\\nt\\ns\\n \\no\\nf\\n \\na\\np\\np\\ne\\na\\nl\\n \\na\\nn\\nd\\n \\ne\\nx\\np\\nl\\na\\ni\\nn\\ne\\nd\\n,\\n \\n“\\nW\\ne\\n \\nd\\no\\n \\nn\\no\\nt\\n \\na\\ng\\nr\\ne\\ne\\n \\nw\\ni\\nt\\nh\\n \\nt\\nh\\ne\\n \\nC\\no\\nu\\nr\\nt\\n \\no\\nf\\n \\nA\\np\\np\\ne\\na\\nl\\ns\\n’\\n \\ns\\nu\\ng\\ng\\ne\\ns\\nt\\ni\\no\\nn\\n \\nt\\nh\\na\\nt\\n \\nd\\ne\\nf\\ne\\nn\\nd\\na\\nn\\nt\\ns\\n \\na\\nr\\ne\\n \\nr\\ne\\nq\\nu\\ni\\nr\\ne\\nd\\n \\nt\\no\\n \\nr\\ne\\nf\\ne\\nr\\n \\nt\\no\\n \\nt\\nh\\ne\\n \\n“\\nr\\ne\\na\\ns\\no\\nn\\na\\nb\\nl\\ne\\nn\\ne\\ns\\ns\\n’\\n \\no\\nf\\n \\na\\n \\ns\\ne\\nn\\nt\\ne\\nn\\nc\\ne\\n”\\n \\nt\\no\\n \\np\\nr\\ne\\ns\\ne\\nr\\nv\\ne\\n \\nt\\nh\\ne\\ni\\nr\\n \\nr\\ni\\ng\\nh\\nt\\n \\nt\\no\\n \\nh\\na\\nv\\ne\\n \\nt\\nh\\na\\nt\\n \\ns\\ne\\nn\\nt\\ne\\nn\\nc\\ne\\n \\nr\\ne\\nv\\ni\\ne\\nw\\ne\\nd\\n \\nf\\no\\nr\\n \\nr\\ne\\na\\ns\\no\\nn\\na\\nb\\nl\\ne\\nn\\ne\\ns\\ns\\n \\nr\\na\\nt\\nh\\ne\\nr\\n \\nt\\nh\\na\\nn\\n \\np\\nl\\na\\ni\\nn\\n \\ne\\nr\\nr\\no\\nr\\n.\\n \\nI\\nn\\n \\no\\nt\\nh\\ne\\nr\\n \\nw\\no\\nr\\nd\\ns\\n,\\n \\n“\\nA\\n \\nd\\ne\\nf\\ne\\nn\\nd\\na\\nn\\nt\\n \\nw\\nh\\no\\n,\\n \\nb\\ny\\n \\na\\nd\\nv\\no\\nc\\na\\nt\\ni\\nn\\ng\\n \\nf\\no\\nr\\n \\na\\n \\np\\na\\nr\\nt\\ni\\nc\\nu\\nl\\na\\nr\\n \\ns\\ne\\nn\\nt\\ne\\nn\\nc\\ne\\n,\\n \\nc\\no\\nm\\nm\\nu\\nn\\ni\\nc\\na\\nt\\ne\\ns\\n \\nt\\no\\n \\nt\\nh\\ne\\n \\nt\\nr\\ni\\na\\nl\\n \\nj\\nu\\nd\\ng\\ne\\n \\nh\\ni\\ns\\n \\nv\\ni\\ne\\nw\\n \\nt\\nh\\na\\nt\\n \\na\\n \\nl\\no\\nn\\ng\\ne\\nr\\n \\ns\\ne\\nn\\nt\\ne\\nn\\nc\\ne\\n \\ni\\ns\\n \\n‘\\ng\\nr\\ne\\na\\nt\\ne\\nr\\n \\nt\\nh\\na\\nn\\n \\nn\\ne\\nc\\ne\\ns\\ns\\na\\nr\\ny\\n’\\n \\nh\\na\\ns\\n \\nt\\nh\\ne\\nr\\ne\\nb\\ny\\n \\ni\\nn\\nf\\no\\nr\\nm\\ne\\nd\\n \\nt\\nh\\ne\\n \\nc\\no\\nu\\nr\\nt\\n \\no\\nf\\n \\nt\\nh\\ne\\n \\nl\\ne\\ng\\na\\nl\\n \\ne\\nr\\nr\\no\\nr\\n \\na\\nt\\n \\ni\\ns\\ns\\nu\\ne\\n \\ni\\nn\\n \\na\\nn\\n \\na\\np\\np\\ne\\nl\\nl\\na\\nt\\ne\\n \\nc\\nh\\na\\nl\\nl\\ne\\nn\\ng\\ne\\n \\nt\\no\\n \\nt\\nh\\ne\\n \\ns\\nu\\nb\\ns\\nt\\na\\nn\\nt\\ni\\nv\\ne\\n \\nr\\ne\\na\\ns\\no\\nn\\na\\nb\\nl\\ne\\nn\\ne\\ns\\ns\\n \\no\\nf\\n \\nt\\nh\\ne\\n \\ns\\ne\\nn\\nt\\ne\\nn\\nc\\ne\\n.\\n”\\n \\nT\\nh\\ne\\n \\nC\\no\\nu\\nr\\nt\\n \\nc\\no\\nn\\nt\\ni\\nn\\nu\\ne\\nd\\n,\\n \\n“\\nH\\ne\\n \\nn\\ne\\ne\\nd\\n \\nn\\no\\nt\\n \\na\\nl\\ns\\no\\n \\nr\\ne\\nf\\ne\\nr\\n \\nt\\no\\n \\nt\\nh\\ne\\n \\ns\\nt\\na\\nn\\nd\\na\\nr\\nd\\n \\no\\nf\\n \\nr\\ne\\nv\\ni\\ne\\nw\\n”\\n \\ni\\nn\\n \\nh\\ni\\ns\\n \\na\\nr\\ng\\nu\\nm\\ne\\nn\\nt\\n \\no\\nr\\n \\no\\nb\\nj\\ne\\nc\\nt\\ni\\no\\nn\\n \\nt\\no\\n \\np\\nr\\ne\\ns\\ne\\nr\\nv\\ne\\n \\nt\\nh\\ne\\n \\nm\\no\\nr\\ne\\n \\nf\\na\\nv\\no\\nr\\na\\nb\\nl\\ne\\n \\nr\\ne\\na\\ns\\no\\nn\\na\\nb\\nl\\ne\\nn\\ne\\ns\\ns\\n \\ns\\nt\\na\\nn\\nd\\na\\nr\\nd\\n \\no\\nf\\n \\nr\\ne\\nv\\ni\\ne\\nw\\n \\no\\nn\\n \\na\\np\\np\\ne\\na\\nl\\n.\\n\\xa0\\n<\\n/\\np\\n>\\n\\n\\n<\\np\\n>\\nT\\nh\\ne\\n \\nC\\no\\nu\\nr\\nt\\n \\na\\nl\\ns\\no\\n \\nn\\no\\nt\\ne\\nd\\n \\na\\n \\np\\na\\ni\\nr\\n \\no\\nf\\n \\ni\\ns\\ns\\nu\\ne\\ns\\n \\nr\\na\\ni\\ns\\ne\\nd\\n \\nb\\ny\\n \\nt\\nh\\ne\\n \\ng\\no\\nv\\ne\\nr\\nn\\nm\\ne\\nn\\nt\\n \\na\\nn\\nd\\n \\nv\\na\\nr\\ni\\no\\nu\\ns\\n \\na\\nm\\ni\\nc\\nu\\ns\\n \\nc\\nu\\nr\\ni\\na\\ne\\n \\na\\nb\\no\\nu\\nt\\n \\np\\nr\\ne\\ns\\ne\\nr\\nv\\ni\\nn\\ng\\n \\na\\n \\nc\\nl\\na\\ni\\nm\\n \\no\\nf\\n \\ni\\nm\\np\\nr\\no\\np\\ne\\nr\\n \\ns\\ne\\nn\\nt\\ne\\nn\\nc\\ni\\nn\\ng\\n \\np\\nr\\no\\nc\\ne\\nd\\nu\\nr\\ne\\ns\\n \\na\\nn\\nd\\n \\na\\nl\\ns\\no\\n \\nw\\nh\\ne\\nn\\n \\na\\n \\np\\na\\nr\\nt\\ny\\n \\nh\\na\\ns\\n \\np\\nr\\ne\\ns\\ne\\nr\\nv\\ne\\nd\\n \\np\\na\\nr\\nt\\ni\\nc\\nu\\nl\\na\\nr\\n \\na\\nr\\ng\\nu\\nm\\ne\\nn\\nt\\ns\\n \\nr\\ne\\ng\\na\\nr\\nd\\ni\\nn\\ng\\n \\na\\nn\\n \\na\\np\\np\\ne\\na\\nl\\n \\no\\nv\\ne\\nr\\n \\nt\\nh\\ne\\n \\nl\\ne\\nn\\ng\\nt\\nh\\n \\no\\nf\\n \\na\\n \\ns\\ne\\nn\\nt\\ne\\nn\\nc\\ne\\n.\\n \\nT\\nh\\ne\\n \\nC\\no\\nu\\nr\\nt\\n \\nr\\ne\\nf\\nu\\ns\\ne\\nd\\n \\nt\\no\\n \\nr\\ne\\na\\nc\\nh\\n \\nt\\nh\\no\\ns\\ne\\n \\nl\\na\\nr\\ng\\ne\\nr\\n \\ni\\ns\\ns\\nu\\ne\\ns\\n,\\n \\nh\\no\\nl\\nd\\ni\\nn\\ng\\n \\no\\nn\\nl\\ny\\n \\nt\\nh\\na\\nt\\n \\nt\\nh\\ne\\n \\na\\np\\np\\ne\\nl\\nl\\na\\nn\\nt\\n \\nh\\na\\nd\\n \\np\\nr\\ne\\ns\\ne\\nr\\nv\\ne\\nd\\n \\nh\\ni\\ns\\n \\nr\\ni\\ng\\nh\\nt\\n \\nt\\no\\n \\na\\np\\np\\ne\\na\\nl\\n \\nt\\nh\\ne\\n \\nl\\ne\\nn\\ng\\nt\\nh\\n \\no\\nf\\n \\nh\\ni\\ns\\n \\ns\\ne\\nn\\nt\\ne\\nn\\nc\\ne\\n \\na\\ns\\n \\nu\\nn\\nr\\ne\\na\\ns\\no\\nn\\na\\nb\\nl\\ne\\n \\ni\\nn\\n \\nt\\nh\\ne\\n \\np\\na\\nr\\nt\\ni\\nc\\nu\\nl\\na\\nr\\n \\nc\\ni\\nr\\nc\\nu\\nm\\ns\\nt\\na\\nn\\nc\\ne\\ns\\n \\no\\nf\\n \\nt\\nh\\ni\\ns\\n \\nc\\na\\ns\\ne\\n.\\n<\\n/\\np\\n>\\n\\n\\n<\\np\\n>\\nJ\\nu\\ns\\nt\\ni\\nc\\ne\\n \\nA\\nl\\ni\\nt\\no\\n \\na\\nu\\nt\\nh\\no\\nr\\ne\\nd\\n \\na\\n \\nc\\no\\nn\\nc\\nu\\nr\\nr\\ne\\nn\\nc\\ne\\n,\\n \\nj\\no\\ni\\nn\\ne\\nd\\n \\nb\\ny\\n \\nJ\\nu\\ns\\nt\\ni\\nc\\ne\\n \\nG\\no\\nr\\ns\\nu\\nc\\nh\\n,\\n \\nt\\no\\n \\nf\\nu\\nr\\nt\\nh\\ne\\nr\\n \\ne\\nl\\na\\nb\\no\\nr\\na\\nt\\ne\\n \\no\\nn\\n \\nt\\nh\\ne\\n \\nl\\ni\\nm\\ni\\nt\\ne\\nd\\n \\nn\\na\\nt\\nu\\nr\\ne\\n \\no\\nf\\n \\nt\\nh\\ne\\n \\nr\\nu\\nl\\ni\\nn\\ng\\n.\\n<\\n/\\np\\n>\\n\\n\\n'}\n"
          ]
        }
      ],
      "source": [
        "import os\n",
        "from datasets import Dataset\n",
        "\n",
        "def load_data(txt_path, summary_path):\n",
        "    \"\"\"Charge les fichiers texte et résumés pour créer un Dataset.\"\"\"\n",
        "    texts = []\n",
        "    summaries = []\n",
        "\n",
        "    # Charger les fichiers de texte\n",
        "    for file_name in os.listdir(txt_path)[:3]:\n",
        "        with open(os.path.join(txt_path, file_name), 'r', encoding='utf-8') as f:\n",
        "            texts.append(f.read())\n",
        "\n",
        "    # Charger les fichiers de résumés\n",
        "    for file_name in os.listdir(summary_path)[:3]:\n",
        "        with open(os.path.join(summary_path, file_name), 'r', encoding='utf-8') as f:\n",
        "            summaries.append(f.read())\n",
        "    # Créer un Dataset Hugging Face\n",
        "    data = {\"text\": texts, \"summary\": summaries}\n",
        "    return Dataset.from_dict(data)\n",
        "\n",
        "# Charger les données\n",
        "train_dataset = load_data(train_path_txt, train_path_summary)\n",
        "test_dataset = load_data(test_path_txt, test_path_summary)\n",
        "\n",
        "# Vérifier les exemples\n",
        "print(train_dataset[0])\n"
      ]
    },
    {
      "cell_type": "code",
      "execution_count": null,
      "metadata": {
        "id": "3nqGLh90ps4d"
      },
      "outputs": [],
      "source": [
        "from transformers import PegasusForConditionalGeneration, PegasusTokenizer\n",
        "\n",
        "# Charger le modèle et le tokenizer\n",
        "model_name = \"nsi319/legal-pegasus\"\n",
        "tokenizer = PegasusTokenizer.from_pretrained(model_name)\n",
        "model = PegasusForConditionalGeneration.from_pretrained(model_name)\n",
        "model.to(device)\n",
        "model.gradient_checkpointing_enable()"
      ]
    },
    {
      "cell_type": "code",
      "execution_count": null,
      "metadata": {
        "id": "IrULe74Gp_SB",
        "colab": {
          "base_uri": "https://localhost:8080/",
          "height": 81,
          "referenced_widgets": [
            "5f157b2110ca4413b0bf33f110916ca9",
            "db36271f0a494130a891a61d8e019187",
            "d438bd55ad514d89aebde306b1515406",
            "65eff5dccaea4b9eb5444fa70da7d2de",
            "88474c7ae8f941d9aa84977d2559ffa5",
            "e50d608f1db3429998b78eb5a88b1eb3",
            "ba9ef31433db416791b86db803bab5c1",
            "4ee3911e69034da6b6afce4f1930e4f4",
            "d4215716765747ca9b64daf8a2b3500a",
            "d8e072dc18eb424395faf8f51ba5c70b",
            "54bff4498c4d4ce892e23e7d93ebcfa6",
            "88140880d799452a8144d547ed8da638",
            "67af5772f4d34b0982e20a98facfcf37",
            "27fea31a64034592a5e53a3ea9521f12",
            "04c7bc65457c490697d46e2601a0fafc",
            "05351cb40bcf4e489a090cf047a7182e",
            "10ed14fd2a5342a989e7c521aed05050",
            "ed31a0144511469997cd6eb431788988",
            "c76e4421ff7340eaa5b9c22a1e11bd70",
            "50f12ff7b9c84c71ae203983e3fee08a",
            "2df0616663d343a6bd6c8ffdac6f5ca4",
            "3b6ec3c1f67a4a369bcc6ac046a5191c"
          ]
        },
        "outputId": "335ae987-f55b-4239-fd5c-ca4a39a8a2b4"
      },
      "outputs": [
        {
          "output_type": "display_data",
          "data": {
            "text/plain": [
              "Map:   0%|          | 0/3 [00:00<?, ? examples/s]"
            ],
            "application/vnd.jupyter.widget-view+json": {
              "version_major": 2,
              "version_minor": 0,
              "model_id": "5f157b2110ca4413b0bf33f110916ca9"
            }
          },
          "metadata": {}
        },
        {
          "output_type": "display_data",
          "data": {
            "text/plain": [
              "Map:   0%|          | 0/3 [00:00<?, ? examples/s]"
            ],
            "application/vnd.jupyter.widget-view+json": {
              "version_major": 2,
              "version_minor": 0,
              "model_id": "88140880d799452a8144d547ed8da638"
            }
          },
          "metadata": {}
        }
      ],
      "source": [
        "def preprocess_function(examples):\n",
        "    \"\"\"Tokenisation des entrées et des cibles.\"\"\"\n",
        "    inputs = tokenizer(examples[\"text\"], max_length=1024, truncation=True, padding=\"max_length\")\n",
        "    labels = tokenizer(examples[\"summary\"], max_length=256, truncation=True, padding=\"max_length\")\n",
        "    inputs[\"labels\"] = labels[\"input_ids\"]\n",
        "    return inputs\n",
        "\n",
        "# Préparer les données\n",
        "train_tokenized = train_dataset.map(preprocess_function, batched=True)\n",
        "test_tokenized = test_dataset.map(preprocess_function, batched=True)"
      ]
    },
    {
      "cell_type": "code",
      "execution_count": null,
      "metadata": {
        "id": "gJpsNL4QqA4n",
        "colab": {
          "base_uri": "https://localhost:8080/",
          "height": 298
        },
        "outputId": "80870644-e4b7-4c95-abec-1025879d7cf1"
      },
      "outputs": [
        {
          "output_type": "stream",
          "name": "stderr",
          "text": [
            "<ipython-input-22-e5c9faabbc03>:21: FutureWarning: `tokenizer` is deprecated and will be removed in version 5.0.0 for `Trainer.__init__`. Use `processing_class` instead.\n",
            "  trainer = Trainer(\n"
          ]
        },
        {
          "output_type": "display_data",
          "data": {
            "text/plain": [
              "<IPython.core.display.HTML object>"
            ],
            "text/html": [
              "\n",
              "    <div>\n",
              "      \n",
              "      <progress value='9' max='9' style='width:300px; height:20px; vertical-align: middle;'></progress>\n",
              "      [9/9 04:12, Epoch 3/3]\n",
              "    </div>\n",
              "    <table border=\"1\" class=\"dataframe\">\n",
              "  <thead>\n",
              " <tr style=\"text-align: left;\">\n",
              "      <th>Epoch</th>\n",
              "      <th>Training Loss</th>\n",
              "      <th>Validation Loss</th>\n",
              "    </tr>\n",
              "  </thead>\n",
              "  <tbody>\n",
              "    <tr>\n",
              "      <td>1</td>\n",
              "      <td>No log</td>\n",
              "      <td>3.012164</td>\n",
              "    </tr>\n",
              "    <tr>\n",
              "      <td>2</td>\n",
              "      <td>No log</td>\n",
              "      <td>2.956009</td>\n",
              "    </tr>\n",
              "    <tr>\n",
              "      <td>3</td>\n",
              "      <td>No log</td>\n",
              "      <td>2.936817</td>\n",
              "    </tr>\n",
              "  </tbody>\n",
              "</table><p>"
            ]
          },
          "metadata": {}
        },
        {
          "output_type": "stream",
          "name": "stderr",
          "text": [
            "/usr/local/lib/python3.10/dist-packages/transformers/modeling_utils.py:2817: UserWarning: Moving the following attributes in the config to the generation config: {'max_length': 128, 'min_length': 32, 'num_beams': 8, 'length_penalty': 0.8}. You are seeing this warning because you've set generation parameters in the model config, as opposed to in the generation config.\n",
            "  warnings.warn(\n"
          ]
        },
        {
          "output_type": "execute_result",
          "data": {
            "text/plain": [
              "TrainOutput(global_step=9, training_loss=2.9261622958713107, metrics={'train_runtime': 256.0499, 'train_samples_per_second': 0.035, 'train_steps_per_second': 0.035, 'total_flos': 26005179727872.0, 'train_loss': 2.9261622958713107, 'epoch': 3.0})"
            ]
          },
          "metadata": {},
          "execution_count": 22
        }
      ],
      "source": [
        "from transformers import TrainingArguments, Trainer\n",
        "\n",
        "# Arguments fine-tuning\n",
        "training_args = TrainingArguments(\n",
        "    output_dir=\"./legal-pegasus\",\n",
        "    eval_strategy=\"epoch\",\n",
        "    per_device_train_batch_size=1,\n",
        "    per_device_eval_batch_size=1,\n",
        "    learning_rate=5e-5,\n",
        "    num_train_epochs=3,\n",
        "    save_strategy=\"epoch\",\n",
        "    save_total_limit=2,\n",
        "    logging_dir=\"./logs\",\n",
        "    logging_steps=100,\n",
        "    weight_decay=0.01,\n",
        "    run_name=\"Legal-Pegasus-Training\",\n",
        "    report_to=[],\n",
        ")\n",
        "\n",
        "# Configuration du Trainer\n",
        "trainer = Trainer(\n",
        "    model=model,\n",
        "    args=training_args,\n",
        "    train_dataset=train_tokenized,\n",
        "    eval_dataset=test_tokenized,\n",
        "    tokenizer=tokenizer,\n",
        ")\n",
        "\n",
        "torch.cuda.empty_cache()\n",
        "torch.cuda.memory_summary(device=None, abbreviated=False)\n",
        "\n",
        "# Lancer l'entraînement\n",
        "trainer.train()\n"
      ]
    },
    {
      "cell_type": "code",
      "execution_count": null,
      "metadata": {
        "id": "_C54XiC5rpMm",
        "colab": {
          "base_uri": "https://localhost:8080/"
        },
        "outputId": "8259a2ef-7255-4fae-fec7-f9256b818964"
      },
      "outputs": [
        {
          "output_type": "execute_result",
          "data": {
            "text/plain": [
              "('./legal-pegasus-model-Scopus/tokenizer_config.json',\n",
              " './legal-pegasus-model-Scopus/special_tokens_map.json',\n",
              " './legal-pegasus-model-Scopus/spiece.model',\n",
              " './legal-pegasus-model-Scopus/added_tokens.json')"
            ]
          },
          "metadata": {},
          "execution_count": 23
        }
      ],
      "source": [
        "model.save_pretrained(\"/content/drive/MyDrive/legal-pegasus-model-Scopus\")\n",
        "tokenizer.save_pretrained(\"/content/drive/MyDrive/legal-pegasus-model-Scopus\")"
      ]
    }
  ],
  "metadata": {
    "accelerator": "GPU",
    "colab": {
      "gpuType": "T4",
      "provenance": []
    },
    "kernelspec": {
      "display_name": "Python 3",
      "name": "python3"
    },
    "language_info": {
      "name": "python"
    },
    "widgets": {
      "application/vnd.jupyter.widget-state+json": {
        "5f157b2110ca4413b0bf33f110916ca9": {
          "model_module": "@jupyter-widgets/controls",
          "model_name": "HBoxModel",
          "model_module_version": "1.5.0",
          "state": {
            "_dom_classes": [],
            "_model_module": "@jupyter-widgets/controls",
            "_model_module_version": "1.5.0",
            "_model_name": "HBoxModel",
            "_view_count": null,
            "_view_module": "@jupyter-widgets/controls",
            "_view_module_version": "1.5.0",
            "_view_name": "HBoxView",
            "box_style": "",
            "children": [
              "IPY_MODEL_db36271f0a494130a891a61d8e019187",
              "IPY_MODEL_d438bd55ad514d89aebde306b1515406",
              "IPY_MODEL_65eff5dccaea4b9eb5444fa70da7d2de"
            ],
            "layout": "IPY_MODEL_88474c7ae8f941d9aa84977d2559ffa5"
          }
        },
        "db36271f0a494130a891a61d8e019187": {
          "model_module": "@jupyter-widgets/controls",
          "model_name": "HTMLModel",
          "model_module_version": "1.5.0",
          "state": {
            "_dom_classes": [],
            "_model_module": "@jupyter-widgets/controls",
            "_model_module_version": "1.5.0",
            "_model_name": "HTMLModel",
            "_view_count": null,
            "_view_module": "@jupyter-widgets/controls",
            "_view_module_version": "1.5.0",
            "_view_name": "HTMLView",
            "description": "",
            "description_tooltip": null,
            "layout": "IPY_MODEL_e50d608f1db3429998b78eb5a88b1eb3",
            "placeholder": "​",
            "style": "IPY_MODEL_ba9ef31433db416791b86db803bab5c1",
            "value": "Map: 100%"
          }
        },
        "d438bd55ad514d89aebde306b1515406": {
          "model_module": "@jupyter-widgets/controls",
          "model_name": "FloatProgressModel",
          "model_module_version": "1.5.0",
          "state": {
            "_dom_classes": [],
            "_model_module": "@jupyter-widgets/controls",
            "_model_module_version": "1.5.0",
            "_model_name": "FloatProgressModel",
            "_view_count": null,
            "_view_module": "@jupyter-widgets/controls",
            "_view_module_version": "1.5.0",
            "_view_name": "ProgressView",
            "bar_style": "success",
            "description": "",
            "description_tooltip": null,
            "layout": "IPY_MODEL_4ee3911e69034da6b6afce4f1930e4f4",
            "max": 3,
            "min": 0,
            "orientation": "horizontal",
            "style": "IPY_MODEL_d4215716765747ca9b64daf8a2b3500a",
            "value": 3
          }
        },
        "65eff5dccaea4b9eb5444fa70da7d2de": {
          "model_module": "@jupyter-widgets/controls",
          "model_name": "HTMLModel",
          "model_module_version": "1.5.0",
          "state": {
            "_dom_classes": [],
            "_model_module": "@jupyter-widgets/controls",
            "_model_module_version": "1.5.0",
            "_model_name": "HTMLModel",
            "_view_count": null,
            "_view_module": "@jupyter-widgets/controls",
            "_view_module_version": "1.5.0",
            "_view_name": "HTMLView",
            "description": "",
            "description_tooltip": null,
            "layout": "IPY_MODEL_d8e072dc18eb424395faf8f51ba5c70b",
            "placeholder": "​",
            "style": "IPY_MODEL_54bff4498c4d4ce892e23e7d93ebcfa6",
            "value": " 3/3 [00:00&lt;00:00,  8.27 examples/s]"
          }
        },
        "88474c7ae8f941d9aa84977d2559ffa5": {
          "model_module": "@jupyter-widgets/base",
          "model_name": "LayoutModel",
          "model_module_version": "1.2.0",
          "state": {
            "_model_module": "@jupyter-widgets/base",
            "_model_module_version": "1.2.0",
            "_model_name": "LayoutModel",
            "_view_count": null,
            "_view_module": "@jupyter-widgets/base",
            "_view_module_version": "1.2.0",
            "_view_name": "LayoutView",
            "align_content": null,
            "align_items": null,
            "align_self": null,
            "border": null,
            "bottom": null,
            "display": null,
            "flex": null,
            "flex_flow": null,
            "grid_area": null,
            "grid_auto_columns": null,
            "grid_auto_flow": null,
            "grid_auto_rows": null,
            "grid_column": null,
            "grid_gap": null,
            "grid_row": null,
            "grid_template_areas": null,
            "grid_template_columns": null,
            "grid_template_rows": null,
            "height": null,
            "justify_content": null,
            "justify_items": null,
            "left": null,
            "margin": null,
            "max_height": null,
            "max_width": null,
            "min_height": null,
            "min_width": null,
            "object_fit": null,
            "object_position": null,
            "order": null,
            "overflow": null,
            "overflow_x": null,
            "overflow_y": null,
            "padding": null,
            "right": null,
            "top": null,
            "visibility": null,
            "width": null
          }
        },
        "e50d608f1db3429998b78eb5a88b1eb3": {
          "model_module": "@jupyter-widgets/base",
          "model_name": "LayoutModel",
          "model_module_version": "1.2.0",
          "state": {
            "_model_module": "@jupyter-widgets/base",
            "_model_module_version": "1.2.0",
            "_model_name": "LayoutModel",
            "_view_count": null,
            "_view_module": "@jupyter-widgets/base",
            "_view_module_version": "1.2.0",
            "_view_name": "LayoutView",
            "align_content": null,
            "align_items": null,
            "align_self": null,
            "border": null,
            "bottom": null,
            "display": null,
            "flex": null,
            "flex_flow": null,
            "grid_area": null,
            "grid_auto_columns": null,
            "grid_auto_flow": null,
            "grid_auto_rows": null,
            "grid_column": null,
            "grid_gap": null,
            "grid_row": null,
            "grid_template_areas": null,
            "grid_template_columns": null,
            "grid_template_rows": null,
            "height": null,
            "justify_content": null,
            "justify_items": null,
            "left": null,
            "margin": null,
            "max_height": null,
            "max_width": null,
            "min_height": null,
            "min_width": null,
            "object_fit": null,
            "object_position": null,
            "order": null,
            "overflow": null,
            "overflow_x": null,
            "overflow_y": null,
            "padding": null,
            "right": null,
            "top": null,
            "visibility": null,
            "width": null
          }
        },
        "ba9ef31433db416791b86db803bab5c1": {
          "model_module": "@jupyter-widgets/controls",
          "model_name": "DescriptionStyleModel",
          "model_module_version": "1.5.0",
          "state": {
            "_model_module": "@jupyter-widgets/controls",
            "_model_module_version": "1.5.0",
            "_model_name": "DescriptionStyleModel",
            "_view_count": null,
            "_view_module": "@jupyter-widgets/base",
            "_view_module_version": "1.2.0",
            "_view_name": "StyleView",
            "description_width": ""
          }
        },
        "4ee3911e69034da6b6afce4f1930e4f4": {
          "model_module": "@jupyter-widgets/base",
          "model_name": "LayoutModel",
          "model_module_version": "1.2.0",
          "state": {
            "_model_module": "@jupyter-widgets/base",
            "_model_module_version": "1.2.0",
            "_model_name": "LayoutModel",
            "_view_count": null,
            "_view_module": "@jupyter-widgets/base",
            "_view_module_version": "1.2.0",
            "_view_name": "LayoutView",
            "align_content": null,
            "align_items": null,
            "align_self": null,
            "border": null,
            "bottom": null,
            "display": null,
            "flex": null,
            "flex_flow": null,
            "grid_area": null,
            "grid_auto_columns": null,
            "grid_auto_flow": null,
            "grid_auto_rows": null,
            "grid_column": null,
            "grid_gap": null,
            "grid_row": null,
            "grid_template_areas": null,
            "grid_template_columns": null,
            "grid_template_rows": null,
            "height": null,
            "justify_content": null,
            "justify_items": null,
            "left": null,
            "margin": null,
            "max_height": null,
            "max_width": null,
            "min_height": null,
            "min_width": null,
            "object_fit": null,
            "object_position": null,
            "order": null,
            "overflow": null,
            "overflow_x": null,
            "overflow_y": null,
            "padding": null,
            "right": null,
            "top": null,
            "visibility": null,
            "width": null
          }
        },
        "d4215716765747ca9b64daf8a2b3500a": {
          "model_module": "@jupyter-widgets/controls",
          "model_name": "ProgressStyleModel",
          "model_module_version": "1.5.0",
          "state": {
            "_model_module": "@jupyter-widgets/controls",
            "_model_module_version": "1.5.0",
            "_model_name": "ProgressStyleModel",
            "_view_count": null,
            "_view_module": "@jupyter-widgets/base",
            "_view_module_version": "1.2.0",
            "_view_name": "StyleView",
            "bar_color": null,
            "description_width": ""
          }
        },
        "d8e072dc18eb424395faf8f51ba5c70b": {
          "model_module": "@jupyter-widgets/base",
          "model_name": "LayoutModel",
          "model_module_version": "1.2.0",
          "state": {
            "_model_module": "@jupyter-widgets/base",
            "_model_module_version": "1.2.0",
            "_model_name": "LayoutModel",
            "_view_count": null,
            "_view_module": "@jupyter-widgets/base",
            "_view_module_version": "1.2.0",
            "_view_name": "LayoutView",
            "align_content": null,
            "align_items": null,
            "align_self": null,
            "border": null,
            "bottom": null,
            "display": null,
            "flex": null,
            "flex_flow": null,
            "grid_area": null,
            "grid_auto_columns": null,
            "grid_auto_flow": null,
            "grid_auto_rows": null,
            "grid_column": null,
            "grid_gap": null,
            "grid_row": null,
            "grid_template_areas": null,
            "grid_template_columns": null,
            "grid_template_rows": null,
            "height": null,
            "justify_content": null,
            "justify_items": null,
            "left": null,
            "margin": null,
            "max_height": null,
            "max_width": null,
            "min_height": null,
            "min_width": null,
            "object_fit": null,
            "object_position": null,
            "order": null,
            "overflow": null,
            "overflow_x": null,
            "overflow_y": null,
            "padding": null,
            "right": null,
            "top": null,
            "visibility": null,
            "width": null
          }
        },
        "54bff4498c4d4ce892e23e7d93ebcfa6": {
          "model_module": "@jupyter-widgets/controls",
          "model_name": "DescriptionStyleModel",
          "model_module_version": "1.5.0",
          "state": {
            "_model_module": "@jupyter-widgets/controls",
            "_model_module_version": "1.5.0",
            "_model_name": "DescriptionStyleModel",
            "_view_count": null,
            "_view_module": "@jupyter-widgets/base",
            "_view_module_version": "1.2.0",
            "_view_name": "StyleView",
            "description_width": ""
          }
        },
        "88140880d799452a8144d547ed8da638": {
          "model_module": "@jupyter-widgets/controls",
          "model_name": "HBoxModel",
          "model_module_version": "1.5.0",
          "state": {
            "_dom_classes": [],
            "_model_module": "@jupyter-widgets/controls",
            "_model_module_version": "1.5.0",
            "_model_name": "HBoxModel",
            "_view_count": null,
            "_view_module": "@jupyter-widgets/controls",
            "_view_module_version": "1.5.0",
            "_view_name": "HBoxView",
            "box_style": "",
            "children": [
              "IPY_MODEL_67af5772f4d34b0982e20a98facfcf37",
              "IPY_MODEL_27fea31a64034592a5e53a3ea9521f12",
              "IPY_MODEL_04c7bc65457c490697d46e2601a0fafc"
            ],
            "layout": "IPY_MODEL_05351cb40bcf4e489a090cf047a7182e"
          }
        },
        "67af5772f4d34b0982e20a98facfcf37": {
          "model_module": "@jupyter-widgets/controls",
          "model_name": "HTMLModel",
          "model_module_version": "1.5.0",
          "state": {
            "_dom_classes": [],
            "_model_module": "@jupyter-widgets/controls",
            "_model_module_version": "1.5.0",
            "_model_name": "HTMLModel",
            "_view_count": null,
            "_view_module": "@jupyter-widgets/controls",
            "_view_module_version": "1.5.0",
            "_view_name": "HTMLView",
            "description": "",
            "description_tooltip": null,
            "layout": "IPY_MODEL_10ed14fd2a5342a989e7c521aed05050",
            "placeholder": "​",
            "style": "IPY_MODEL_ed31a0144511469997cd6eb431788988",
            "value": "Map: 100%"
          }
        },
        "27fea31a64034592a5e53a3ea9521f12": {
          "model_module": "@jupyter-widgets/controls",
          "model_name": "FloatProgressModel",
          "model_module_version": "1.5.0",
          "state": {
            "_dom_classes": [],
            "_model_module": "@jupyter-widgets/controls",
            "_model_module_version": "1.5.0",
            "_model_name": "FloatProgressModel",
            "_view_count": null,
            "_view_module": "@jupyter-widgets/controls",
            "_view_module_version": "1.5.0",
            "_view_name": "ProgressView",
            "bar_style": "success",
            "description": "",
            "description_tooltip": null,
            "layout": "IPY_MODEL_c76e4421ff7340eaa5b9c22a1e11bd70",
            "max": 3,
            "min": 0,
            "orientation": "horizontal",
            "style": "IPY_MODEL_50f12ff7b9c84c71ae203983e3fee08a",
            "value": 3
          }
        },
        "04c7bc65457c490697d46e2601a0fafc": {
          "model_module": "@jupyter-widgets/controls",
          "model_name": "HTMLModel",
          "model_module_version": "1.5.0",
          "state": {
            "_dom_classes": [],
            "_model_module": "@jupyter-widgets/controls",
            "_model_module_version": "1.5.0",
            "_model_name": "HTMLModel",
            "_view_count": null,
            "_view_module": "@jupyter-widgets/controls",
            "_view_module_version": "1.5.0",
            "_view_name": "HTMLView",
            "description": "",
            "description_tooltip": null,
            "layout": "IPY_MODEL_2df0616663d343a6bd6c8ffdac6f5ca4",
            "placeholder": "​",
            "style": "IPY_MODEL_3b6ec3c1f67a4a369bcc6ac046a5191c",
            "value": " 3/3 [00:00&lt;00:00, 16.97 examples/s]"
          }
        },
        "05351cb40bcf4e489a090cf047a7182e": {
          "model_module": "@jupyter-widgets/base",
          "model_name": "LayoutModel",
          "model_module_version": "1.2.0",
          "state": {
            "_model_module": "@jupyter-widgets/base",
            "_model_module_version": "1.2.0",
            "_model_name": "LayoutModel",
            "_view_count": null,
            "_view_module": "@jupyter-widgets/base",
            "_view_module_version": "1.2.0",
            "_view_name": "LayoutView",
            "align_content": null,
            "align_items": null,
            "align_self": null,
            "border": null,
            "bottom": null,
            "display": null,
            "flex": null,
            "flex_flow": null,
            "grid_area": null,
            "grid_auto_columns": null,
            "grid_auto_flow": null,
            "grid_auto_rows": null,
            "grid_column": null,
            "grid_gap": null,
            "grid_row": null,
            "grid_template_areas": null,
            "grid_template_columns": null,
            "grid_template_rows": null,
            "height": null,
            "justify_content": null,
            "justify_items": null,
            "left": null,
            "margin": null,
            "max_height": null,
            "max_width": null,
            "min_height": null,
            "min_width": null,
            "object_fit": null,
            "object_position": null,
            "order": null,
            "overflow": null,
            "overflow_x": null,
            "overflow_y": null,
            "padding": null,
            "right": null,
            "top": null,
            "visibility": null,
            "width": null
          }
        },
        "10ed14fd2a5342a989e7c521aed05050": {
          "model_module": "@jupyter-widgets/base",
          "model_name": "LayoutModel",
          "model_module_version": "1.2.0",
          "state": {
            "_model_module": "@jupyter-widgets/base",
            "_model_module_version": "1.2.0",
            "_model_name": "LayoutModel",
            "_view_count": null,
            "_view_module": "@jupyter-widgets/base",
            "_view_module_version": "1.2.0",
            "_view_name": "LayoutView",
            "align_content": null,
            "align_items": null,
            "align_self": null,
            "border": null,
            "bottom": null,
            "display": null,
            "flex": null,
            "flex_flow": null,
            "grid_area": null,
            "grid_auto_columns": null,
            "grid_auto_flow": null,
            "grid_auto_rows": null,
            "grid_column": null,
            "grid_gap": null,
            "grid_row": null,
            "grid_template_areas": null,
            "grid_template_columns": null,
            "grid_template_rows": null,
            "height": null,
            "justify_content": null,
            "justify_items": null,
            "left": null,
            "margin": null,
            "max_height": null,
            "max_width": null,
            "min_height": null,
            "min_width": null,
            "object_fit": null,
            "object_position": null,
            "order": null,
            "overflow": null,
            "overflow_x": null,
            "overflow_y": null,
            "padding": null,
            "right": null,
            "top": null,
            "visibility": null,
            "width": null
          }
        },
        "ed31a0144511469997cd6eb431788988": {
          "model_module": "@jupyter-widgets/controls",
          "model_name": "DescriptionStyleModel",
          "model_module_version": "1.5.0",
          "state": {
            "_model_module": "@jupyter-widgets/controls",
            "_model_module_version": "1.5.0",
            "_model_name": "DescriptionStyleModel",
            "_view_count": null,
            "_view_module": "@jupyter-widgets/base",
            "_view_module_version": "1.2.0",
            "_view_name": "StyleView",
            "description_width": ""
          }
        },
        "c76e4421ff7340eaa5b9c22a1e11bd70": {
          "model_module": "@jupyter-widgets/base",
          "model_name": "LayoutModel",
          "model_module_version": "1.2.0",
          "state": {
            "_model_module": "@jupyter-widgets/base",
            "_model_module_version": "1.2.0",
            "_model_name": "LayoutModel",
            "_view_count": null,
            "_view_module": "@jupyter-widgets/base",
            "_view_module_version": "1.2.0",
            "_view_name": "LayoutView",
            "align_content": null,
            "align_items": null,
            "align_self": null,
            "border": null,
            "bottom": null,
            "display": null,
            "flex": null,
            "flex_flow": null,
            "grid_area": null,
            "grid_auto_columns": null,
            "grid_auto_flow": null,
            "grid_auto_rows": null,
            "grid_column": null,
            "grid_gap": null,
            "grid_row": null,
            "grid_template_areas": null,
            "grid_template_columns": null,
            "grid_template_rows": null,
            "height": null,
            "justify_content": null,
            "justify_items": null,
            "left": null,
            "margin": null,
            "max_height": null,
            "max_width": null,
            "min_height": null,
            "min_width": null,
            "object_fit": null,
            "object_position": null,
            "order": null,
            "overflow": null,
            "overflow_x": null,
            "overflow_y": null,
            "padding": null,
            "right": null,
            "top": null,
            "visibility": null,
            "width": null
          }
        },
        "50f12ff7b9c84c71ae203983e3fee08a": {
          "model_module": "@jupyter-widgets/controls",
          "model_name": "ProgressStyleModel",
          "model_module_version": "1.5.0",
          "state": {
            "_model_module": "@jupyter-widgets/controls",
            "_model_module_version": "1.5.0",
            "_model_name": "ProgressStyleModel",
            "_view_count": null,
            "_view_module": "@jupyter-widgets/base",
            "_view_module_version": "1.2.0",
            "_view_name": "StyleView",
            "bar_color": null,
            "description_width": ""
          }
        },
        "2df0616663d343a6bd6c8ffdac6f5ca4": {
          "model_module": "@jupyter-widgets/base",
          "model_name": "LayoutModel",
          "model_module_version": "1.2.0",
          "state": {
            "_model_module": "@jupyter-widgets/base",
            "_model_module_version": "1.2.0",
            "_model_name": "LayoutModel",
            "_view_count": null,
            "_view_module": "@jupyter-widgets/base",
            "_view_module_version": "1.2.0",
            "_view_name": "LayoutView",
            "align_content": null,
            "align_items": null,
            "align_self": null,
            "border": null,
            "bottom": null,
            "display": null,
            "flex": null,
            "flex_flow": null,
            "grid_area": null,
            "grid_auto_columns": null,
            "grid_auto_flow": null,
            "grid_auto_rows": null,
            "grid_column": null,
            "grid_gap": null,
            "grid_row": null,
            "grid_template_areas": null,
            "grid_template_columns": null,
            "grid_template_rows": null,
            "height": null,
            "justify_content": null,
            "justify_items": null,
            "left": null,
            "margin": null,
            "max_height": null,
            "max_width": null,
            "min_height": null,
            "min_width": null,
            "object_fit": null,
            "object_position": null,
            "order": null,
            "overflow": null,
            "overflow_x": null,
            "overflow_y": null,
            "padding": null,
            "right": null,
            "top": null,
            "visibility": null,
            "width": null
          }
        },
        "3b6ec3c1f67a4a369bcc6ac046a5191c": {
          "model_module": "@jupyter-widgets/controls",
          "model_name": "DescriptionStyleModel",
          "model_module_version": "1.5.0",
          "state": {
            "_model_module": "@jupyter-widgets/controls",
            "_model_module_version": "1.5.0",
            "_model_name": "DescriptionStyleModel",
            "_view_count": null,
            "_view_module": "@jupyter-widgets/base",
            "_view_module_version": "1.2.0",
            "_view_name": "StyleView",
            "description_width": ""
          }
        }
      }
    }
  },
  "nbformat": 4,
  "nbformat_minor": 0
}