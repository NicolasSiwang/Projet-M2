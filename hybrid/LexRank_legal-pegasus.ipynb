{
 "cells": [
  {
   "cell_type": "code",
   "execution_count": 1,
   "metadata": {},
   "outputs": [],
   "source": [
    "import pandas as pd"
   ]
  },
  {
   "cell_type": "code",
   "execution_count": 8,
   "metadata": {},
   "outputs": [],
   "source": [
    "LexRank_data_path = '../resultats/results_LexRank.csv'\n",
    "\n",
    "df = pd.read_csv(LexRank_data_path)"
   ]
  },
  {
   "cell_type": "code",
   "execution_count": 9,
   "metadata": {},
   "outputs": [
    {
     "data": {
      "text/html": [
       "<div>\n",
       "<style scoped>\n",
       "    .dataframe tbody tr th:only-of-type {\n",
       "        vertical-align: middle;\n",
       "    }\n",
       "\n",
       "    .dataframe tbody tr th {\n",
       "        vertical-align: top;\n",
       "    }\n",
       "\n",
       "    .dataframe thead th {\n",
       "        text-align: right;\n",
       "    }\n",
       "</style>\n",
       "<table border=\"1\" class=\"dataframe\">\n",
       "  <thead>\n",
       "    <tr style=\"text-align: right;\">\n",
       "      <th></th>\n",
       "      <th>Text</th>\n",
       "      <th>Reference</th>\n",
       "      <th>Generated</th>\n",
       "    </tr>\n",
       "  </thead>\n",
       "  <tbody>\n",
       "    <tr>\n",
       "      <th>0</th>\n",
       "      <td>OCTOBER TERM, 2002\\n  Syllabus\\n  EARLY, WA...</td>\n",
       "      <td>William Packer was convicted in a California s...</td>\n",
       "      <td>On direct appeal, the State Court of Appeal re...</td>\n",
       "    </tr>\n",
       "    <tr>\n",
       "      <th>1</th>\n",
       "      <td>OCTOBER TERM, 2002\\n  Syllabus\\n  DOW CHEMI...</td>\n",
       "      <td>In 1984 Dow Chemical Co. negotiated a settleme...</td>\n",
       "      <td>Syllabus DOW CHEMICAL CO.\\nArgued February 26,...</td>\n",
       "    </tr>\n",
       "    <tr>\n",
       "      <th>2</th>\n",
       "      <td>OCTOBER TERM, 2002\\n  Syllabus\\n  SYNGENTA ...</td>\n",
       "      <td>Hurley Henson filed suit in Louisiana state co...</td>\n",
       "      <td>Argued October 15, 2002-Decided November 5, 20...</td>\n",
       "    </tr>\n",
       "    <tr>\n",
       "      <th>3</th>\n",
       "      <td>OPINION OF THE COURTRUMSFELD V. PADILLA542 U. ...</td>\n",
       "      <td>Jose Padilla, an American citizen, was arreste...</td>\n",
       "      <td>Padilla’s motion was still pending when, on Ju...</td>\n",
       "    </tr>\n",
       "    <tr>\n",
       "      <th>4</th>\n",
       "      <td>OCTOBER TERM, 1993\\n  Syllabus\\n  CONSOLIDA...</td>\n",
       "      <td>Consolidated Rail Corporation (Conrail) employ...</td>\n",
       "      <td>The injury we contemplate when considering neg...</td>\n",
       "    </tr>\n",
       "  </tbody>\n",
       "</table>\n",
       "</div>"
      ],
      "text/plain": [
       "                                                Text  \\\n",
       "0     OCTOBER TERM, 2002\\n  Syllabus\\n  EARLY, WA...   \n",
       "1     OCTOBER TERM, 2002\\n  Syllabus\\n  DOW CHEMI...   \n",
       "2     OCTOBER TERM, 2002\\n  Syllabus\\n  SYNGENTA ...   \n",
       "3  OPINION OF THE COURTRUMSFELD V. PADILLA542 U. ...   \n",
       "4     OCTOBER TERM, 1993\\n  Syllabus\\n  CONSOLIDA...   \n",
       "\n",
       "                                           Reference  \\\n",
       "0  William Packer was convicted in a California s...   \n",
       "1  In 1984 Dow Chemical Co. negotiated a settleme...   \n",
       "2  Hurley Henson filed suit in Louisiana state co...   \n",
       "3  Jose Padilla, an American citizen, was arreste...   \n",
       "4  Consolidated Rail Corporation (Conrail) employ...   \n",
       "\n",
       "                                           Generated  \n",
       "0  On direct appeal, the State Court of Appeal re...  \n",
       "1  Syllabus DOW CHEMICAL CO.\\nArgued February 26,...  \n",
       "2  Argued October 15, 2002-Decided November 5, 20...  \n",
       "3  Padilla’s motion was still pending when, on Ju...  \n",
       "4  The injury we contemplate when considering neg...  "
      ]
     },
     "execution_count": 9,
     "metadata": {},
     "output_type": "execute_result"
    }
   ],
   "source": [
    "df.head()"
   ]
  },
  {
   "cell_type": "code",
   "execution_count": null,
   "metadata": {},
   "outputs": [],
   "source": []
  }
 ],
 "metadata": {
  "kernelspec": {
   "display_name": "base",
   "language": "python",
   "name": "python3"
  },
  "language_info": {
   "codemirror_mode": {
    "name": "ipython",
    "version": 3
   },
   "file_extension": ".py",
   "mimetype": "text/x-python",
   "name": "python",
   "nbconvert_exporter": "python",
   "pygments_lexer": "ipython3",
   "version": "3.11.5"
  }
 },
 "nbformat": 4,
 "nbformat_minor": 2
}
