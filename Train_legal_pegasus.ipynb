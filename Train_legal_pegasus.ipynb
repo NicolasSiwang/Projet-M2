{
  "nbformat": 4,
  "nbformat_minor": 0,
  "metadata": {
    "colab": {
      "provenance": [],
      "gpuType": "T4"
    },
    "kernelspec": {
      "name": "python3",
      "display_name": "Python 3"
    },
    "language_info": {
      "name": "python"
    },
    "accelerator": "GPU",
    "widgets": {
      "application/vnd.jupyter.widget-state+json": {
        "e40d9d05040941a3a9eca2eaf7bae1bd": {
          "model_module": "@jupyter-widgets/controls",
          "model_name": "HBoxModel",
          "model_module_version": "1.5.0",
          "state": {
            "_dom_classes": [],
            "_model_module": "@jupyter-widgets/controls",
            "_model_module_version": "1.5.0",
            "_model_name": "HBoxModel",
            "_view_count": null,
            "_view_module": "@jupyter-widgets/controls",
            "_view_module_version": "1.5.0",
            "_view_name": "HBoxView",
            "box_style": "",
            "children": [
              "IPY_MODEL_822d6a533e7a4467a47b82994d414084",
              "IPY_MODEL_9c2d3d11197f43f8b22831dd5cd6e0b4",
              "IPY_MODEL_e3ecc85f8db742dbad95c118e1d40cf4"
            ],
            "layout": "IPY_MODEL_59bd4c040f5e480081b7145f65479af8"
          }
        },
        "822d6a533e7a4467a47b82994d414084": {
          "model_module": "@jupyter-widgets/controls",
          "model_name": "HTMLModel",
          "model_module_version": "1.5.0",
          "state": {
            "_dom_classes": [],
            "_model_module": "@jupyter-widgets/controls",
            "_model_module_version": "1.5.0",
            "_model_name": "HTMLModel",
            "_view_count": null,
            "_view_module": "@jupyter-widgets/controls",
            "_view_module_version": "1.5.0",
            "_view_name": "HTMLView",
            "description": "",
            "description_tooltip": null,
            "layout": "IPY_MODEL_ee47c0766025453d867dfa9c6982dea9",
            "placeholder": "​",
            "style": "IPY_MODEL_8ff55b2226e64facbbbc65c860e2f9eb",
            "value": "Map: 100%"
          }
        },
        "9c2d3d11197f43f8b22831dd5cd6e0b4": {
          "model_module": "@jupyter-widgets/controls",
          "model_name": "FloatProgressModel",
          "model_module_version": "1.5.0",
          "state": {
            "_dom_classes": [],
            "_model_module": "@jupyter-widgets/controls",
            "_model_module_version": "1.5.0",
            "_model_name": "FloatProgressModel",
            "_view_count": null,
            "_view_module": "@jupyter-widgets/controls",
            "_view_module_version": "1.5.0",
            "_view_name": "ProgressView",
            "bar_style": "success",
            "description": "",
            "description_tooltip": null,
            "layout": "IPY_MODEL_d065f04758b4441987d9f5ad2b313e27",
            "max": 693,
            "min": 0,
            "orientation": "horizontal",
            "style": "IPY_MODEL_898e96b9cf5e4a7da144e0aad0db482b",
            "value": 693
          }
        },
        "e3ecc85f8db742dbad95c118e1d40cf4": {
          "model_module": "@jupyter-widgets/controls",
          "model_name": "HTMLModel",
          "model_module_version": "1.5.0",
          "state": {
            "_dom_classes": [],
            "_model_module": "@jupyter-widgets/controls",
            "_model_module_version": "1.5.0",
            "_model_name": "HTMLModel",
            "_view_count": null,
            "_view_module": "@jupyter-widgets/controls",
            "_view_module_version": "1.5.0",
            "_view_name": "HTMLView",
            "description": "",
            "description_tooltip": null,
            "layout": "IPY_MODEL_075d41165add4469a7126f1707577f57",
            "placeholder": "​",
            "style": "IPY_MODEL_16e643b30cfc471fbe950f1014caf937",
            "value": " 693/693 [00:59&lt;00:00, 11.57 examples/s]"
          }
        },
        "59bd4c040f5e480081b7145f65479af8": {
          "model_module": "@jupyter-widgets/base",
          "model_name": "LayoutModel",
          "model_module_version": "1.2.0",
          "state": {
            "_model_module": "@jupyter-widgets/base",
            "_model_module_version": "1.2.0",
            "_model_name": "LayoutModel",
            "_view_count": null,
            "_view_module": "@jupyter-widgets/base",
            "_view_module_version": "1.2.0",
            "_view_name": "LayoutView",
            "align_content": null,
            "align_items": null,
            "align_self": null,
            "border": null,
            "bottom": null,
            "display": null,
            "flex": null,
            "flex_flow": null,
            "grid_area": null,
            "grid_auto_columns": null,
            "grid_auto_flow": null,
            "grid_auto_rows": null,
            "grid_column": null,
            "grid_gap": null,
            "grid_row": null,
            "grid_template_areas": null,
            "grid_template_columns": null,
            "grid_template_rows": null,
            "height": null,
            "justify_content": null,
            "justify_items": null,
            "left": null,
            "margin": null,
            "max_height": null,
            "max_width": null,
            "min_height": null,
            "min_width": null,
            "object_fit": null,
            "object_position": null,
            "order": null,
            "overflow": null,
            "overflow_x": null,
            "overflow_y": null,
            "padding": null,
            "right": null,
            "top": null,
            "visibility": null,
            "width": null
          }
        },
        "ee47c0766025453d867dfa9c6982dea9": {
          "model_module": "@jupyter-widgets/base",
          "model_name": "LayoutModel",
          "model_module_version": "1.2.0",
          "state": {
            "_model_module": "@jupyter-widgets/base",
            "_model_module_version": "1.2.0",
            "_model_name": "LayoutModel",
            "_view_count": null,
            "_view_module": "@jupyter-widgets/base",
            "_view_module_version": "1.2.0",
            "_view_name": "LayoutView",
            "align_content": null,
            "align_items": null,
            "align_self": null,
            "border": null,
            "bottom": null,
            "display": null,
            "flex": null,
            "flex_flow": null,
            "grid_area": null,
            "grid_auto_columns": null,
            "grid_auto_flow": null,
            "grid_auto_rows": null,
            "grid_column": null,
            "grid_gap": null,
            "grid_row": null,
            "grid_template_areas": null,
            "grid_template_columns": null,
            "grid_template_rows": null,
            "height": null,
            "justify_content": null,
            "justify_items": null,
            "left": null,
            "margin": null,
            "max_height": null,
            "max_width": null,
            "min_height": null,
            "min_width": null,
            "object_fit": null,
            "object_position": null,
            "order": null,
            "overflow": null,
            "overflow_x": null,
            "overflow_y": null,
            "padding": null,
            "right": null,
            "top": null,
            "visibility": null,
            "width": null
          }
        },
        "8ff55b2226e64facbbbc65c860e2f9eb": {
          "model_module": "@jupyter-widgets/controls",
          "model_name": "DescriptionStyleModel",
          "model_module_version": "1.5.0",
          "state": {
            "_model_module": "@jupyter-widgets/controls",
            "_model_module_version": "1.5.0",
            "_model_name": "DescriptionStyleModel",
            "_view_count": null,
            "_view_module": "@jupyter-widgets/base",
            "_view_module_version": "1.2.0",
            "_view_name": "StyleView",
            "description_width": ""
          }
        },
        "d065f04758b4441987d9f5ad2b313e27": {
          "model_module": "@jupyter-widgets/base",
          "model_name": "LayoutModel",
          "model_module_version": "1.2.0",
          "state": {
            "_model_module": "@jupyter-widgets/base",
            "_model_module_version": "1.2.0",
            "_model_name": "LayoutModel",
            "_view_count": null,
            "_view_module": "@jupyter-widgets/base",
            "_view_module_version": "1.2.0",
            "_view_name": "LayoutView",
            "align_content": null,
            "align_items": null,
            "align_self": null,
            "border": null,
            "bottom": null,
            "display": null,
            "flex": null,
            "flex_flow": null,
            "grid_area": null,
            "grid_auto_columns": null,
            "grid_auto_flow": null,
            "grid_auto_rows": null,
            "grid_column": null,
            "grid_gap": null,
            "grid_row": null,
            "grid_template_areas": null,
            "grid_template_columns": null,
            "grid_template_rows": null,
            "height": null,
            "justify_content": null,
            "justify_items": null,
            "left": null,
            "margin": null,
            "max_height": null,
            "max_width": null,
            "min_height": null,
            "min_width": null,
            "object_fit": null,
            "object_position": null,
            "order": null,
            "overflow": null,
            "overflow_x": null,
            "overflow_y": null,
            "padding": null,
            "right": null,
            "top": null,
            "visibility": null,
            "width": null
          }
        },
        "898e96b9cf5e4a7da144e0aad0db482b": {
          "model_module": "@jupyter-widgets/controls",
          "model_name": "ProgressStyleModel",
          "model_module_version": "1.5.0",
          "state": {
            "_model_module": "@jupyter-widgets/controls",
            "_model_module_version": "1.5.0",
            "_model_name": "ProgressStyleModel",
            "_view_count": null,
            "_view_module": "@jupyter-widgets/base",
            "_view_module_version": "1.2.0",
            "_view_name": "StyleView",
            "bar_color": null,
            "description_width": ""
          }
        },
        "075d41165add4469a7126f1707577f57": {
          "model_module": "@jupyter-widgets/base",
          "model_name": "LayoutModel",
          "model_module_version": "1.2.0",
          "state": {
            "_model_module": "@jupyter-widgets/base",
            "_model_module_version": "1.2.0",
            "_model_name": "LayoutModel",
            "_view_count": null,
            "_view_module": "@jupyter-widgets/base",
            "_view_module_version": "1.2.0",
            "_view_name": "LayoutView",
            "align_content": null,
            "align_items": null,
            "align_self": null,
            "border": null,
            "bottom": null,
            "display": null,
            "flex": null,
            "flex_flow": null,
            "grid_area": null,
            "grid_auto_columns": null,
            "grid_auto_flow": null,
            "grid_auto_rows": null,
            "grid_column": null,
            "grid_gap": null,
            "grid_row": null,
            "grid_template_areas": null,
            "grid_template_columns": null,
            "grid_template_rows": null,
            "height": null,
            "justify_content": null,
            "justify_items": null,
            "left": null,
            "margin": null,
            "max_height": null,
            "max_width": null,
            "min_height": null,
            "min_width": null,
            "object_fit": null,
            "object_position": null,
            "order": null,
            "overflow": null,
            "overflow_x": null,
            "overflow_y": null,
            "padding": null,
            "right": null,
            "top": null,
            "visibility": null,
            "width": null
          }
        },
        "16e643b30cfc471fbe950f1014caf937": {
          "model_module": "@jupyter-widgets/controls",
          "model_name": "DescriptionStyleModel",
          "model_module_version": "1.5.0",
          "state": {
            "_model_module": "@jupyter-widgets/controls",
            "_model_module_version": "1.5.0",
            "_model_name": "DescriptionStyleModel",
            "_view_count": null,
            "_view_module": "@jupyter-widgets/base",
            "_view_module_version": "1.2.0",
            "_view_name": "StyleView",
            "description_width": ""
          }
        },
        "9e28bdd2fb144454aa8ce6a98c598fa4": {
          "model_module": "@jupyter-widgets/controls",
          "model_name": "HBoxModel",
          "model_module_version": "1.5.0",
          "state": {
            "_dom_classes": [],
            "_model_module": "@jupyter-widgets/controls",
            "_model_module_version": "1.5.0",
            "_model_name": "HBoxModel",
            "_view_count": null,
            "_view_module": "@jupyter-widgets/controls",
            "_view_module_version": "1.5.0",
            "_view_name": "HBoxView",
            "box_style": "",
            "children": [
              "IPY_MODEL_4a79e896d3e241b7bc80c7992ab9d830",
              "IPY_MODEL_91460b47c0ca431d86d25996691b894c",
              "IPY_MODEL_cdc9d15d245049789fb890497663918d"
            ],
            "layout": "IPY_MODEL_ee23b0ab144d4503bf2ee876614fcd74"
          }
        },
        "4a79e896d3e241b7bc80c7992ab9d830": {
          "model_module": "@jupyter-widgets/controls",
          "model_name": "HTMLModel",
          "model_module_version": "1.5.0",
          "state": {
            "_dom_classes": [],
            "_model_module": "@jupyter-widgets/controls",
            "_model_module_version": "1.5.0",
            "_model_name": "HTMLModel",
            "_view_count": null,
            "_view_module": "@jupyter-widgets/controls",
            "_view_module_version": "1.5.0",
            "_view_name": "HTMLView",
            "description": "",
            "description_tooltip": null,
            "layout": "IPY_MODEL_08e92ae54bbd436db5c61ff10c0789c7",
            "placeholder": "​",
            "style": "IPY_MODEL_2649695568504b519739f60b16c692ed",
            "value": "Map: 100%"
          }
        },
        "91460b47c0ca431d86d25996691b894c": {
          "model_module": "@jupyter-widgets/controls",
          "model_name": "FloatProgressModel",
          "model_module_version": "1.5.0",
          "state": {
            "_dom_classes": [],
            "_model_module": "@jupyter-widgets/controls",
            "_model_module_version": "1.5.0",
            "_model_name": "FloatProgressModel",
            "_view_count": null,
            "_view_module": "@jupyter-widgets/controls",
            "_view_module_version": "1.5.0",
            "_view_name": "ProgressView",
            "bar_style": "success",
            "description": "",
            "description_tooltip": null,
            "layout": "IPY_MODEL_f5cd219e54e34f2ea63f56dc25083b01",
            "max": 100,
            "min": 0,
            "orientation": "horizontal",
            "style": "IPY_MODEL_cfb452bc03154837b419d899f009af35",
            "value": 100
          }
        },
        "cdc9d15d245049789fb890497663918d": {
          "model_module": "@jupyter-widgets/controls",
          "model_name": "HTMLModel",
          "model_module_version": "1.5.0",
          "state": {
            "_dom_classes": [],
            "_model_module": "@jupyter-widgets/controls",
            "_model_module_version": "1.5.0",
            "_model_name": "HTMLModel",
            "_view_count": null,
            "_view_module": "@jupyter-widgets/controls",
            "_view_module_version": "1.5.0",
            "_view_name": "HTMLView",
            "description": "",
            "description_tooltip": null,
            "layout": "IPY_MODEL_5584bad72acf474ca04cd6835090baf2",
            "placeholder": "​",
            "style": "IPY_MODEL_defe675a45d54edd90e50c7163c8ff87",
            "value": " 100/100 [00:14&lt;00:00,  7.13 examples/s]"
          }
        },
        "ee23b0ab144d4503bf2ee876614fcd74": {
          "model_module": "@jupyter-widgets/base",
          "model_name": "LayoutModel",
          "model_module_version": "1.2.0",
          "state": {
            "_model_module": "@jupyter-widgets/base",
            "_model_module_version": "1.2.0",
            "_model_name": "LayoutModel",
            "_view_count": null,
            "_view_module": "@jupyter-widgets/base",
            "_view_module_version": "1.2.0",
            "_view_name": "LayoutView",
            "align_content": null,
            "align_items": null,
            "align_self": null,
            "border": null,
            "bottom": null,
            "display": null,
            "flex": null,
            "flex_flow": null,
            "grid_area": null,
            "grid_auto_columns": null,
            "grid_auto_flow": null,
            "grid_auto_rows": null,
            "grid_column": null,
            "grid_gap": null,
            "grid_row": null,
            "grid_template_areas": null,
            "grid_template_columns": null,
            "grid_template_rows": null,
            "height": null,
            "justify_content": null,
            "justify_items": null,
            "left": null,
            "margin": null,
            "max_height": null,
            "max_width": null,
            "min_height": null,
            "min_width": null,
            "object_fit": null,
            "object_position": null,
            "order": null,
            "overflow": null,
            "overflow_x": null,
            "overflow_y": null,
            "padding": null,
            "right": null,
            "top": null,
            "visibility": null,
            "width": null
          }
        },
        "08e92ae54bbd436db5c61ff10c0789c7": {
          "model_module": "@jupyter-widgets/base",
          "model_name": "LayoutModel",
          "model_module_version": "1.2.0",
          "state": {
            "_model_module": "@jupyter-widgets/base",
            "_model_module_version": "1.2.0",
            "_model_name": "LayoutModel",
            "_view_count": null,
            "_view_module": "@jupyter-widgets/base",
            "_view_module_version": "1.2.0",
            "_view_name": "LayoutView",
            "align_content": null,
            "align_items": null,
            "align_self": null,
            "border": null,
            "bottom": null,
            "display": null,
            "flex": null,
            "flex_flow": null,
            "grid_area": null,
            "grid_auto_columns": null,
            "grid_auto_flow": null,
            "grid_auto_rows": null,
            "grid_column": null,
            "grid_gap": null,
            "grid_row": null,
            "grid_template_areas": null,
            "grid_template_columns": null,
            "grid_template_rows": null,
            "height": null,
            "justify_content": null,
            "justify_items": null,
            "left": null,
            "margin": null,
            "max_height": null,
            "max_width": null,
            "min_height": null,
            "min_width": null,
            "object_fit": null,
            "object_position": null,
            "order": null,
            "overflow": null,
            "overflow_x": null,
            "overflow_y": null,
            "padding": null,
            "right": null,
            "top": null,
            "visibility": null,
            "width": null
          }
        },
        "2649695568504b519739f60b16c692ed": {
          "model_module": "@jupyter-widgets/controls",
          "model_name": "DescriptionStyleModel",
          "model_module_version": "1.5.0",
          "state": {
            "_model_module": "@jupyter-widgets/controls",
            "_model_module_version": "1.5.0",
            "_model_name": "DescriptionStyleModel",
            "_view_count": null,
            "_view_module": "@jupyter-widgets/base",
            "_view_module_version": "1.2.0",
            "_view_name": "StyleView",
            "description_width": ""
          }
        },
        "f5cd219e54e34f2ea63f56dc25083b01": {
          "model_module": "@jupyter-widgets/base",
          "model_name": "LayoutModel",
          "model_module_version": "1.2.0",
          "state": {
            "_model_module": "@jupyter-widgets/base",
            "_model_module_version": "1.2.0",
            "_model_name": "LayoutModel",
            "_view_count": null,
            "_view_module": "@jupyter-widgets/base",
            "_view_module_version": "1.2.0",
            "_view_name": "LayoutView",
            "align_content": null,
            "align_items": null,
            "align_self": null,
            "border": null,
            "bottom": null,
            "display": null,
            "flex": null,
            "flex_flow": null,
            "grid_area": null,
            "grid_auto_columns": null,
            "grid_auto_flow": null,
            "grid_auto_rows": null,
            "grid_column": null,
            "grid_gap": null,
            "grid_row": null,
            "grid_template_areas": null,
            "grid_template_columns": null,
            "grid_template_rows": null,
            "height": null,
            "justify_content": null,
            "justify_items": null,
            "left": null,
            "margin": null,
            "max_height": null,
            "max_width": null,
            "min_height": null,
            "min_width": null,
            "object_fit": null,
            "object_position": null,
            "order": null,
            "overflow": null,
            "overflow_x": null,
            "overflow_y": null,
            "padding": null,
            "right": null,
            "top": null,
            "visibility": null,
            "width": null
          }
        },
        "cfb452bc03154837b419d899f009af35": {
          "model_module": "@jupyter-widgets/controls",
          "model_name": "ProgressStyleModel",
          "model_module_version": "1.5.0",
          "state": {
            "_model_module": "@jupyter-widgets/controls",
            "_model_module_version": "1.5.0",
            "_model_name": "ProgressStyleModel",
            "_view_count": null,
            "_view_module": "@jupyter-widgets/base",
            "_view_module_version": "1.2.0",
            "_view_name": "StyleView",
            "bar_color": null,
            "description_width": ""
          }
        },
        "5584bad72acf474ca04cd6835090baf2": {
          "model_module": "@jupyter-widgets/base",
          "model_name": "LayoutModel",
          "model_module_version": "1.2.0",
          "state": {
            "_model_module": "@jupyter-widgets/base",
            "_model_module_version": "1.2.0",
            "_model_name": "LayoutModel",
            "_view_count": null,
            "_view_module": "@jupyter-widgets/base",
            "_view_module_version": "1.2.0",
            "_view_name": "LayoutView",
            "align_content": null,
            "align_items": null,
            "align_self": null,
            "border": null,
            "bottom": null,
            "display": null,
            "flex": null,
            "flex_flow": null,
            "grid_area": null,
            "grid_auto_columns": null,
            "grid_auto_flow": null,
            "grid_auto_rows": null,
            "grid_column": null,
            "grid_gap": null,
            "grid_row": null,
            "grid_template_areas": null,
            "grid_template_columns": null,
            "grid_template_rows": null,
            "height": null,
            "justify_content": null,
            "justify_items": null,
            "left": null,
            "margin": null,
            "max_height": null,
            "max_width": null,
            "min_height": null,
            "min_width": null,
            "object_fit": null,
            "object_position": null,
            "order": null,
            "overflow": null,
            "overflow_x": null,
            "overflow_y": null,
            "padding": null,
            "right": null,
            "top": null,
            "visibility": null,
            "width": null
          }
        },
        "defe675a45d54edd90e50c7163c8ff87": {
          "model_module": "@jupyter-widgets/controls",
          "model_name": "DescriptionStyleModel",
          "model_module_version": "1.5.0",
          "state": {
            "_model_module": "@jupyter-widgets/controls",
            "_model_module_version": "1.5.0",
            "_model_name": "DescriptionStyleModel",
            "_view_count": null,
            "_view_module": "@jupyter-widgets/base",
            "_view_module_version": "1.2.0",
            "_view_name": "StyleView",
            "description_width": ""
          }
        }
      }
    }
  },
  "cells": [
    {
      "cell_type": "code",
      "execution_count": 1,
      "metadata": {
        "colab": {
          "base_uri": "https://localhost:8080/"
        },
        "id": "Tyn2pgUXo7Zz",
        "outputId": "ba8fbebe-265b-4ac8-ebe7-5b9e053de89d"
      },
      "outputs": [
        {
          "output_type": "stream",
          "name": "stdout",
          "text": [
            "Drive already mounted at /content/drive; to attempt to forcibly remount, call drive.mount(\"/content/drive\", force_remount=True).\n"
          ]
        }
      ],
      "source": [
        "from google.colab import drive\n",
        "drive.mount('/content/drive')"
      ]
    },
    {
      "cell_type": "code",
      "source": [
        "%pip install transformers datasets torch"
      ],
      "metadata": {
        "colab": {
          "base_uri": "https://localhost:8080/"
        },
        "id": "Cg27FhUZpAIv",
        "outputId": "9e298e2d-1719-4313-e335-55a93a45b928"
      },
      "execution_count": 2,
      "outputs": [
        {
          "output_type": "stream",
          "name": "stdout",
          "text": [
            "Requirement already satisfied: transformers in /usr/local/lib/python3.10/dist-packages (4.46.2)\n",
            "Requirement already satisfied: datasets in /usr/local/lib/python3.10/dist-packages (3.1.0)\n",
            "Requirement already satisfied: torch in /usr/local/lib/python3.10/dist-packages (2.5.1+cu121)\n",
            "Requirement already satisfied: filelock in /usr/local/lib/python3.10/dist-packages (from transformers) (3.16.1)\n",
            "Requirement already satisfied: huggingface-hub<1.0,>=0.23.2 in /usr/local/lib/python3.10/dist-packages (from transformers) (0.26.2)\n",
            "Requirement already satisfied: numpy>=1.17 in /usr/local/lib/python3.10/dist-packages (from transformers) (1.26.4)\n",
            "Requirement already satisfied: packaging>=20.0 in /usr/local/lib/python3.10/dist-packages (from transformers) (24.2)\n",
            "Requirement already satisfied: pyyaml>=5.1 in /usr/local/lib/python3.10/dist-packages (from transformers) (6.0.2)\n",
            "Requirement already satisfied: regex!=2019.12.17 in /usr/local/lib/python3.10/dist-packages (from transformers) (2024.9.11)\n",
            "Requirement already satisfied: requests in /usr/local/lib/python3.10/dist-packages (from transformers) (2.32.3)\n",
            "Requirement already satisfied: safetensors>=0.4.1 in /usr/local/lib/python3.10/dist-packages (from transformers) (0.4.5)\n",
            "Requirement already satisfied: tokenizers<0.21,>=0.20 in /usr/local/lib/python3.10/dist-packages (from transformers) (0.20.3)\n",
            "Requirement already satisfied: tqdm>=4.27 in /usr/local/lib/python3.10/dist-packages (from transformers) (4.66.6)\n",
            "Requirement already satisfied: pyarrow>=15.0.0 in /usr/local/lib/python3.10/dist-packages (from datasets) (17.0.0)\n",
            "Requirement already satisfied: dill<0.3.9,>=0.3.0 in /usr/local/lib/python3.10/dist-packages (from datasets) (0.3.8)\n",
            "Requirement already satisfied: pandas in /usr/local/lib/python3.10/dist-packages (from datasets) (2.2.2)\n",
            "Requirement already satisfied: xxhash in /usr/local/lib/python3.10/dist-packages (from datasets) (3.5.0)\n",
            "Requirement already satisfied: multiprocess<0.70.17 in /usr/local/lib/python3.10/dist-packages (from datasets) (0.70.16)\n",
            "Requirement already satisfied: fsspec<=2024.9.0,>=2023.1.0 in /usr/local/lib/python3.10/dist-packages (from fsspec[http]<=2024.9.0,>=2023.1.0->datasets) (2024.9.0)\n",
            "Requirement already satisfied: aiohttp in /usr/local/lib/python3.10/dist-packages (from datasets) (3.11.1)\n",
            "Requirement already satisfied: typing-extensions>=4.8.0 in /usr/local/lib/python3.10/dist-packages (from torch) (4.12.2)\n",
            "Requirement already satisfied: networkx in /usr/local/lib/python3.10/dist-packages (from torch) (3.4.2)\n",
            "Requirement already satisfied: jinja2 in /usr/local/lib/python3.10/dist-packages (from torch) (3.1.4)\n",
            "Requirement already satisfied: sympy==1.13.1 in /usr/local/lib/python3.10/dist-packages (from torch) (1.13.1)\n",
            "Requirement already satisfied: mpmath<1.4,>=1.1.0 in /usr/local/lib/python3.10/dist-packages (from sympy==1.13.1->torch) (1.3.0)\n",
            "Requirement already satisfied: aiohappyeyeballs>=2.3.0 in /usr/local/lib/python3.10/dist-packages (from aiohttp->datasets) (2.4.3)\n",
            "Requirement already satisfied: aiosignal>=1.1.2 in /usr/local/lib/python3.10/dist-packages (from aiohttp->datasets) (1.3.1)\n",
            "Requirement already satisfied: attrs>=17.3.0 in /usr/local/lib/python3.10/dist-packages (from aiohttp->datasets) (24.2.0)\n",
            "Requirement already satisfied: frozenlist>=1.1.1 in /usr/local/lib/python3.10/dist-packages (from aiohttp->datasets) (1.5.0)\n",
            "Requirement already satisfied: multidict<7.0,>=4.5 in /usr/local/lib/python3.10/dist-packages (from aiohttp->datasets) (6.1.0)\n",
            "Requirement already satisfied: propcache>=0.2.0 in /usr/local/lib/python3.10/dist-packages (from aiohttp->datasets) (0.2.0)\n",
            "Requirement already satisfied: yarl<2.0,>=1.17.0 in /usr/local/lib/python3.10/dist-packages (from aiohttp->datasets) (1.17.1)\n",
            "Requirement already satisfied: async-timeout<6.0,>=4.0 in /usr/local/lib/python3.10/dist-packages (from aiohttp->datasets) (4.0.3)\n",
            "Requirement already satisfied: charset-normalizer<4,>=2 in /usr/local/lib/python3.10/dist-packages (from requests->transformers) (3.4.0)\n",
            "Requirement already satisfied: idna<4,>=2.5 in /usr/local/lib/python3.10/dist-packages (from requests->transformers) (3.10)\n",
            "Requirement already satisfied: urllib3<3,>=1.21.1 in /usr/local/lib/python3.10/dist-packages (from requests->transformers) (2.2.3)\n",
            "Requirement already satisfied: certifi>=2017.4.17 in /usr/local/lib/python3.10/dist-packages (from requests->transformers) (2024.8.30)\n",
            "Requirement already satisfied: MarkupSafe>=2.0 in /usr/local/lib/python3.10/dist-packages (from jinja2->torch) (3.0.2)\n",
            "Requirement already satisfied: python-dateutil>=2.8.2 in /usr/local/lib/python3.10/dist-packages (from pandas->datasets) (2.8.2)\n",
            "Requirement already satisfied: pytz>=2020.1 in /usr/local/lib/python3.10/dist-packages (from pandas->datasets) (2024.2)\n",
            "Requirement already satisfied: tzdata>=2022.7 in /usr/local/lib/python3.10/dist-packages (from pandas->datasets) (2024.2)\n",
            "Requirement already satisfied: six>=1.5 in /usr/local/lib/python3.10/dist-packages (from python-dateutil>=2.8.2->pandas->datasets) (1.16.0)\n"
          ]
        }
      ]
    },
    {
      "cell_type": "code",
      "source": [
        "train_path = '/content/drive/MyDrive/dataset_legal-pegasus/dataset/UK-Abs/train-data'\n",
        "test_path = '/content/drive/MyDrive/dataset_legal-pegasus/dataset/UK-Abs/test-data'\n",
        "\n",
        "train_path_txt = train_path + '/judgement'\n",
        "train_path_summary = train_path + '/summary'\n",
        "test_path_txt = test_path + '/judgement'\n",
        "test_path_summary = test_path + '/summary/full'"
      ],
      "metadata": {
        "id": "Ud0nrI4Ppc_j"
      },
      "execution_count": 3,
      "outputs": []
    },
    {
      "cell_type": "code",
      "source": [
        "import torch\n",
        "\n",
        "# Vérification de la disponibilité du GPU\n",
        "device = torch.device(\"cuda\" if torch.cuda.is_available() else \"cpu\")\n",
        "print(f\"Entraînement sur : {device}\")"
      ],
      "metadata": {
        "colab": {
          "base_uri": "https://localhost:8080/"
        },
        "id": "zdWsyN4QsRQg",
        "outputId": "e3b0f11b-1a62-4d8b-9d4f-4ab83a56b3eb"
      },
      "execution_count": 4,
      "outputs": [
        {
          "output_type": "stream",
          "name": "stdout",
          "text": [
            "Entraînement sur : cuda\n"
          ]
        }
      ]
    },
    {
      "cell_type": "code",
      "source": [
        "import os\n",
        "from datasets import Dataset\n",
        "\n",
        "def load_data(txt_path, summary_path):\n",
        "    \"\"\"Charge les fichiers texte et résumés pour créer un Dataset.\"\"\"\n",
        "    texts = []\n",
        "    summaries = []\n",
        "\n",
        "    # Charger les fichiers de texte\n",
        "    for file_name in os.listdir(txt_path):\n",
        "        with open(os.path.join(txt_path, file_name), 'r', encoding='utf-8') as f:\n",
        "            texts.append(f.read())\n",
        "\n",
        "    # Charger les fichiers de résumés\n",
        "    for file_name in os.listdir(summary_path):\n",
        "        with open(os.path.join(summary_path, file_name), 'r', encoding='utf-8') as f:\n",
        "            summaries.append(f.read())\n",
        "\n",
        "    # Créer un Dataset Hugging Face\n",
        "    data = {\"text\": texts, \"summary\": summaries}\n",
        "    return Dataset.from_dict(data)\n",
        "\n",
        "# Charger les données\n",
        "train_dataset = load_data(train_path_txt, train_path_summary)\n",
        "test_dataset = load_data(test_path_txt, test_path_summary)\n",
        "\n",
        "# Vérifier les exemples\n",
        "print(train_dataset[0])\n"
      ],
      "metadata": {
        "colab": {
          "base_uri": "https://localhost:8080/"
        },
        "id": "wlMRS4iFpC43",
        "outputId": "dc8d791b-10ff-4f53-a15e-9f273c07c8b6"
      },
      "execution_count": 5,
      "outputs": [
        {
          "output_type": "stream",
          "name": "stdout",
          "text": [
            "{'text': 'Mr David Price, the Solicitor Advocate acting for the defendants, who are the appellants, at one point described the claim as a storm in a teacup.\\nHe was correct, but the storm is considerable.\\nIt involves consideration of one of the most difficult areas of the law of defamation, the defence of fair comment.\\nOver 40 years ago Diplock LJ in Slim v Daily Telegraph Ltd [1968] 2 QB 157, 171 referred to the artificial and archaic character of the tort of libel.\\nSome 20 years on Parker LJ in Brent Walker Group plc v Time Out Ltd [1991] 2 QB 33, 46 commented on the absurdity of the tangled web of the law of defamation.\\nLittle has occurred in the last twenty years to unravel the tangle, and this is particularly true of the defence of fair comment.\\nStatutory reform has been proposed in the form of Lord Lester of Herne Hills private members Defamation Bill and the Ministry of Justice has undertaken to publish a draft Defamation Bill early next year.\\nBoth Mr Price, and Mr Caldecott QC, who has intervened on behalf of and with the support of important newspaper and broadcasting interests, have invited the court to use this appeal as a vehicle for developing the common law defence of fair comment in a manner which goes well beyond what is necessary to resolve the issues raised by this appeal.\\nWhat are currently the elements of the defence of fair comment?\\nSitting in the Court of Final Appeal of Hong Kong in Tse Wai Chun Paul v Albert Cheng [2001] EMLR 777 Lord Nicholls of Birkenhead was concerned with the ingredients of malice that can defeat the defence of fair comment.\\nBefore considering that question he set out at paras 16 21, under the heading Fair Comment: The Objective Limits what he optimistically described as five non controversial matters, which were well established in relation to the defence of fair comment: 16.\\nFirst, the comment must be on a matter of public interest.\\nPublic interest is not to be confined within narrow limits today: see Lord Denning in London Artists Ltd v Littler [1969] 2 QB 375, 391. 17.\\nSecond, the comment must be recognisable as comment, as distinct from an imputation of fact.\\nIf the imputation is one of fact, a ground of defence must be sought elsewhere, for example, justification or privilege.\\nMuch learning has grown up around the distinction between fact and comment.\\nFor present purposes it is sufficient to note that a statement may be one or the other, depending on the context.\\nFerguson J gave a simple example in the New South Wales case of Myerson vs Smiths Weekly (1923) 24 SR (NSW) 20, 26: To say that a mans conduct was dishonourable is not comment, it is a statement of fact.\\nTo say that he did certain specific things and that his conduct was dishonourable is a statement of fact coupled with a comment. 18.\\nThird, the comment must be based on facts which are true or protected by privilege: see, for instance, London Artists Ltd v Littler [1969] 2 QB 375, 395.\\nIf the facts on which the comment purports to be founded are not proved to be true or published on a privilege occasion, the defence of fair comment is not available. 19.\\nNext, the comment must explicitly or implicitly indicate, at least in general terms, what are the facts on which the comment is being made.\\nThe reader or hearer should be in a position to judge for himself how far the comment was well founded. 20.\\nFinally, the comment must be one which could have been made by an honest person, however prejudiced he might be, and however exaggerated or obstinate his views: see Lord Porter in Turner v Metro Goldwyn Mayer Pictures Ltd [1950] 1 All ER 449, 461, commenting on an observation of Lord Esher MR in Merivale v Carson (1888) 20 QBD 275, 281.\\nIt must be germane to the subject matter criticised.\\nDislike of an artists style would not justify an attack upon his morals or manners.\\nBut a critic need not be mealy mouthed in denouncing what he disagrees with.\\nHe is entitled to dip his pen in gall for the purposes of legitimate criticism: see Jordan CJ in Gardiner v Fairfax (1942) 42 SR (NSW) 171, 174. 21.\\nThese are the outer limits of the defence.\\nThe burden of establishing that a comment falls within these limits, and hence within the scope of the defence, lies upon the defendant who wishes to rely upon the defence.\\nThese five propositions relate to elements of the defence of fair comment in respect of which the burden of proof is on the defendant.\\nCheng was primarily concerned with a sixth element absence of malice.\\nA defendant is not entitled to rely on the defence of fair comment if the comment was made maliciously.\\nThe onus of proving malice lies on the claimant.\\nThe second proposition.\\nThis merits elaboration.\\nJurists have had difficulty in defining the difference between a statement of fact and a comment in the context of the defence of fair comment.\\nThe example in Myerson (1923) 24 SR (NSW) 20, 26 cited by Lord Nicholls is not wholly satisfactory.\\nTo say that a mans conduct was dishonourable is not a simple statement of fact.\\nIt is a comment coupled with an allegation of unspecified conduct upon which the comment is based.\\nA defamatory comment about a person will almost always be based, either expressly or inferentially, on conduct on the part of that person.\\nJudges and commentators have, however, treated a comment that does not identify the conduct on which it is based as if it were a statement of fact.\\nFor such a comment the defence of fair comment does not run.\\nThe defendant must justify his comment.\\nTo do this he must prove the existence of facts which justify the comment.\\nThe fifth proposition.\\nThe requirement to show that the comment is germane to the subject matter criticised and is one that an honest person could have made, albeit that that person may have been prejudiced, or have had exaggerated or obstinate views, is one that is bizarre and elusive.\\nI am not aware of any action in which this has actually been an issue.\\nI shall describe this element as pertinence.\\nThe fourth proposition.\\nIt is this proposition that is directly in issue in this appeal.\\nThe facts on which the defendants wish to rely in support of their plea of fair comment include a fact to which they made no reference in the publication complained of.\\nThe claimants say that they cannot rely on this, for this would run foul of Lord Nicholls fourth proposition.\\nMr Price submits that far from being well established, that proposition is contrary to authority and wrong.\\nMr Caldecott supports that submission.\\nThe important issue raised by this appeal is thus the extent to which, if at all, the defence of fair comment requires that the comment should identify the matter or matters to which it relates.\\nThe facts\\nThe claimants are members of the musical acts The Gillettes and Saturday Night at the Movies.\\nThey perform in venues across the country, at wedding receptions and other events.\\nThe first claimant is a singer in both acts and is their de facto manager.\\nThe first defendant was at all relevant times one of the two directors (the other being his wife, Christina) of the second defendant, which at all relevant times provided entertainment booking services and advertised acts and performers on its website for weddings, drinks receptions, corporate entertainment and other events.\\nOn 13 October 2004 the first claimant agreed that the claimants acts could be promoted by the defendants.\\nThis involved completing an online agreement form.\\nThe agreement simply permitted the defendants to promote the claimants.\\nIt did not require the claimants to take up any booking that was offered to them.\\nThe agreement form contained a link to the terms and conditions that would apply in the event that a booking was made.\\nSeveral performances were subsequently arranged by the defendants.\\nThese included a booking at the Landmarc Hotel arranged in December 2005 (the Landmarc booking).\\nThis was cancelled by the first claimant shortly after it was made.\\nThe first claimant claims that this was because of the existence of a previous booking, which he had over looked.\\nThis is denied by the defendants.\\nThey contend that the claimants cancelled this booking because they had received a better offer.\\nOn 19 April 2006 the first claimant signed a booking agreement in relation to a performance on 31 December 2006 at Bibis, a restaurant in Leeds (the Bibis booking).\\nThe terms and conditions included a re engagement clause, which provided that any further bookings at the venue in the following 12 months should be through the second defendant.\\nThe first claimant arranged a further performance at Bibis on 9 May 2007 directly with the venue.\\nHe admits that he was aware of the re engagement clause.\\nHe says that he deliberately decided not to inform the first defendant of the booking because the new manager of Bibis would not deal with the first defendant (the latter allegation is denied by the defendants).\\nWhen the first defendant discovered this on 27 March 2007 he sent an email to the first claimant in the following terms: Craig It appears you have taken a booking directly with Bibis.\\nWe will be instructing our legal team to deal with this.\\nI will also be discussing this with the Musicians Union as it does appear that, aside from having no commitment to those that give you work, you are also not able to abide by the terms of your contract.\\nThe client and artist agree that subsequent bookings within a 12 month period, from any artist provided by 1311 Events can only be booked directly with 1311 Events.\\nForthwith, we will not be representing you any longer as we can only work with professional artists who can accept our terms and conditions.\\nKind regards\\nThe first claimants response on the same day prompted the first defendant to publish on the second defendants website the posting which is the subject of the claim (the posting).\\nOnly a small part of the first claimants email was set out in the posting and it was partially misquoted.\\nThe full email read as follows: Hi Jason It appears you do not know the meaning of freelance, that is what all my shows are.\\nYou are part of a cog which supplies all agents and artitses [sic] alike with work, one does not work without the other.\\nYou came to me Jason after viewing the quality of our show, your contract is mearly [sic] a formality and holds no water in legal terms.\\nYou should consider looking after your clients/venueus[sic] better then maybe you would not lose them.\\nDo not be fooled into thinking you can lose venues and reep [sic] the benefits from others hard work, that does not hold any legal value any more.\\nYou [sic] offer of work to my shows over the years was minimal and neither helped nor hindered our diary.\\nI am not performing in the show, and since your agreement and terms was with me there are no grounds for your terms and conditions.\\nThers [sic] is one outstanding show with you guys Aug 4th o7 we will honour the show as we have all the other shows through your agency, providing you make sure the balance fee 900.00 + vat.\\nTOTAL =1057.50 is in our account 2 weeks prior to the show date, thus avoiding any cancellation [sic] of the show.\\nPlease confirm this can be organised within 7 days or I will cancel the date.\\nI look forward to any legal trysts.\\nKind regards Craig (On behalf of the Gillettes)\\nThe words of the posting were: 1311 Events is no longer able to accept bookings for this artist as the Gillettes c/o Craig Joseph are not professional enough to feature in our portfolio and have not been able to abide by the terms of their contract.\\nWhat we say: The show is an enjoyable soul and Motown experience which is popular for many events throughout the UK.\\nHowever, following a breach of contract, Craig Joseph who runs The Gillettes and Saturday Night at the Movies has advised 1311 Events that the terms and conditions of contracts hold no water in legal terms (27.03.07).\\nFor this reason, it may follow that the artists obligations for your booking may also not be met.\\nIn essence, Craig Joseph who performs with/arranges bookings for the Gillettes and Saturday Night at the Movies may sign a contract for your booking but will not necessarily adhere to it.\\nWe would recommend that you take legal advice before booking this artist to avoid any possible difficulties.\\nInstead we recommend any of the following professional bands and\\nartists\\nThe posting was accessible for six weeks between April and May 2007 when it was removed following a letter from Equity on behalf of the claimants.\\nThe claimants allege that they lost a booking as a result of it.\\nThe defendants do not admit this.\\nOn 4 August 2007 the claimants performed at the wedding of Michael Coombes (the Coombes booking).\\nThis booking had been arranged by the defendants before the rupture between the parties in March.\\nShortly before the wedding the first claimant agreed to play for a further 30 minutes for 275 (cash), without VAT or the defendants commission that was charged on the main fee.\\nThe defendants allege that this was to evade their commission and tax.\\nThe claimants allege that they did not, in the end, perform the extra 30 minutes, which is why it does not appear on their records.\\nIn February 2008 the posting was inadvertently uploaded to a part of the defendants site where it could be accessed and it remained there until April 2008.\\nThe posting was removed following a solicitors letter on behalf of the claimants.\\nThe claimants allege that they lost a further booking in consequence.\\nThe defendants allege that this claim has been manufactured by the claimants.\\nThe claimants attach great significance to the difference between their email of 27 March 2007 and the brief summary of this in the defendants posting.\\nThey submit that their email merely challenged the validity of the defendants re engagement clause and cast no doubt on the claimants respect for their bookings with their customers.\\nThe defendants posting, however, suggested that the claimants had challenged the validity of contractual obligations in general, so that they could not be trusted to honour their engagements.\\nThe claimants contend that this misrepresentation of their email was deliberate.\\nThe pleadings\\nThe amended particulars of claim allege that the defendants posting bore the following meaning: the claimants are grossly unprofessional and untrustworthy and will not, and/or are unlikely to, honour any bookings made for them to perform either as The Gillettes or as Saturday Night at the Movies. (para 8)\\nThe amended defence pleads justification in relation to the following meaning: Meanings that the defendant alleges to be true 9.1 The first claimant on behalf of the claimants has : 9.1.1.\\nConducted himself in such a manner so as to entitle the defendants to conclude that The Gillettes were not sufficiently professional to feature in the second defendants portfolio. 9.1.2.\\nBreached the terms of agreements with the second defendant. 9.1.3.\\nDemonstrated a contemptuous, cavalier and unprofessional attitude to the contractual obligations as evidenced by his email of 27 March 2007. 9.2 In the circumstances, the claimants may not necessarily adhere to the terms of booking agreements signed by the first claimant. (para 9)\\nThe facts relied on in support of the plea of justification are: a) By passing the defendants when accepting a re engagement at Bibis; b) The first claimants email of 27 March 2007; c) The cancellation of the Landmarc booking when something better had come up.\\nThe defence then pleads fair comment in relation to the following parts of the posting: The Gillettes c/o Craig Joseph are not professional enough to feature in our portfolioit may follow that the artists obligations for your booking may also not be met.\\nIn essence, Craig Joseph who performs with/arranges bookings for The Gillettes and Saturday Night at the Movies may sign a contract for your booking but will not necessarily adhere to it.\\nThe facts relied upon in relation to the plea of justification are equally relied on as facts upon which the comment was based.\\nThe proceedings below\\nOn 27 April 2009, just over one month before the date fixed for the trial, the claimants issued an application for summary judgment, alternatively for an order striking out the defences, on the basis that there were no issues to go to the jury.\\nThus began the tortuous interlocutory proceedings that have culminated in this appeal.\\nWith hindsight it is apparent, and with a little foresight it should have been apparent at the time, that this relatively modest dispute raised issues of complexity, some of which might not prove decisive, and that the best course would be to proceed with the substantive hearing before a judge alone.\\nIn the event Eady J gave judgment on the claimants application on 22 May 2009.\\nOne issue, which occupied much time before the judge and the Court of Appeal, but which is no longer live, related to the effect on the claimants contractual obligations of the Conduct of Employment Agencies and Employment Businesses Regulations 2003 (SI 2003/3319).\\nNeither party had been aware of these at the material time and it is not necessary to say any more about them.\\nThe claimants sought to persuade Eady J to strike out the particulars of justification on the ground that those particulars could not possibly justify the defendants posting.\\nThe judge declined to do so, holding that the plea of justification was sufficiently arguable to be a matter that had to be left to the jury.\\nHe gave the defendants permission to add to their particulars of justification conduct of the claimants that post dated the defendants posting.\\nThis related to the Coombes booking.\\nThe allegation was that the claimants had offered to play for an additional 30 minutes for a cash payment in respect of which they intended to evade both VAT and the claimants commission.\\nThe claimants were, however, successful in persuading Eady J to strike out the defence of fair comment.\\nHe gave the following reasons for doing so: 58.\\nThe defence of fair comment is attacked on three grounds.\\nFirst, it is said that no part of the words complained of is capable of being classified as comment; that is to say, a jury would be perverse to come to such a conclusion.\\nIt is necessary to remember, in this context, that the defence is wide enough to embrace not only expressions of opinion in the more common sense but also, in some cases, inferences of fact where it is clear they are not objectively verifiable: see eg Gatley on Libel and Slander, 11th ed (2008), at para 12.7.\\nFor example, where a conclusion is expressed by the commentator in circumstances where it is obvious to the reader that he cannot know the answer (eg in relation to someones secret motives), it would be taken as comment rather than fact. 59.\\nHere, the real sting of the libel (although this may well be for the jury to decide in due course) would appear to be the allegations that the claimants take a generally cavalier attitude to contractual obligations and are not to be trusted in business dealings.\\nIt seems to me that they are factual in character rather than the expression of opinions.\\nAll that is specifically relied upon is the allegation of a breach, which forms the subject matter of the justification defence.\\nIt may be thought, therefore, to add very little. 60.\\nAlso I cannot see that a (one sided) summary of a private contractual dispute can be said to constitute a matter of public interest. (I have already referred to the misquotation from the first claimants email of 27 March, where the impression was given that he was speaking of contracts in general rather than of the particular re engagement term sought to be imposed by the defendants.\\nThis does not arise for consideration in the present context, although it would plainly be relevant if the plea of fair comment were to survive in determining whether or not it had been made with reference to facts truly stated.)\\nThe Court of Appeal [2009] EWCA Civ 1075; [2010] ICR 642 declined to reinstate the defence of fair comment.\\nPill LJ gave the only reasoned judgment, with which Hooper and Wilson LJJ agreed.\\nPill LJ held that the words in their posting identified by the defendants as comment were, indeed, comment rather than allegations of fact (paras 29 to 31).\\nPill LJ did not refer to authorities which indicate that, if there is an issue of whether words are fact or comment, this is a matter for the jury.\\nHis finding can be upheld on the basis that the words in question are unarguably comment, and it has not been challenged in this court.\\nSo far as concerns the question of whether the comment related to a matter of public interest, Pill LJ said this, at para 37: I see no merit in the argument that the comment cannot constitute a matter of public interest.\\nThose in the business of entertaining the public, a business in which many people are engaged, will be concerned, when serving the public, to know which artists can be relied on to perform their contracts and which cannot.\\nThe comment is arguably in the public interest.\\nThe last sentence suggests that Pill LJ considered that this issue was one for the jury, whereas the authorities indicate that it is a question of law for the judge.\\nThe claimants have, however, treated Pill LJs ruling as a finding that the subject matter of the comment was a matter of public interest and have not challenged that finding.\\nPill LJ accepted a point raised by the claimants by a respondents notice.\\nThey contended that the defence of fair comment was bad because the comment was founded on the statement allegedly made by the claimants in their email of 27 March 2007, which was falsely described in the defendants posting.\\nThey argued (i) that a defence of fair comment can only be founded on a comment which refers to or identifies the facts on which the comment is based and (ii) that those facts must be true.\\nThe defendants argued that, by virtue of the provisions of section 6 of the Defamation Act 1952, they could also rely to support their comment on the breach by the claimants of the Landmarc contract in 2005.\\nIn rejecting this submission Pill LJ applied the fourth proposition of Lord Nicholls in Cheng: 40.\\nThe words complained of, however, do also allege that the claimants have not been able to abide by the terms of their contract and that the email was written following a breach of contract, thus possibly attracting an application of section 6 of the Defamation Act 1952.\\nUnder the heading Fair Comment, the section provides: In an action for libel or slander in respect of words consisting partly of allegations of fact and partly of expressions of opinion, a defence of fair comment shall not fail by reason only that the truth of every allegation of fact is not proved if the expression of opinion is fair comment having regard to such of the facts alleged or referred to in the words complained of as are proved. 42.\\nClearly, the defendants real complaint against the claimants was a breach by the claimants of the re engagement clause in the contract between the claimants and the second defendant.\\nThere is no reference to that in the words complained of.\\nThe contract is not identified in the publication, still less the term allegedly breached.\\nMoreover, the single specific allegation of fact in the words complained of is plainly untrue. 43.\\nMr Price relied, in a section 6 context, on the more general allegations repeated above.\\nIn paragraph 10.2 of the re amended defence, the defendants rely on the facts set out at in paragraph 9, other than in paragraph 9.16.\\nParagraphs 9.1 to 9.12 refer to the contract between the claimant and the second defendant and to the re engagement term.\\nParagraphs 9.13 and 9.14, however, refer to an alleged breach of a booking arrangement with Landmarc in Bournemouth in December 2005.\\nThat alleged breach was sufficiently identified in the words complained of, it was submitted. 44.\\nAs Lord Nicholls stated in Tse Wai Chun Paul, at para 19, the comment must explicitly or implicitly indicate, at least in general terms, what are the facts on which the comment is being made.\\nDoes section 6 of the 1952 Act permit the defendants, in this context, to rely on the breach alleged in paragraphs 9.13 and 9.14 [breach of Landmarc booking] 45.\\nI have come to the conclusion that the defence of fair comment should not be permitted to stand, on an application of section 6, on the strength of an alleged breach of contract with a hirer in December 2005.\\nThe dispute arose in March 2007 following an alleged breach by the claimants of the re engagement term in their contract with the second defendant.\\nThat breach gave rise to the publication which led to the present action. 46.\\nThe breach of contract relied on for present purposes is of a contract with a hirer in 2005.\\nAs between the claimants and defendants, there were no repercussions in that contractual relations proceeded without complaint until March 2007.\\nThe words following a breach of contract in the words complained of cannot be taken as referring to the December 2005 breach.\\nNor, in my judgment, can the later words in the defendants comments.\\nIn my judgment, a jury could not properly base a finding of fair comment against the claimants, given the nature of the comment, upon a breach of contract in December 2005 14 months before the breach which led to the publication.\\nOn this ground, the judges decision to strike out the defence of fair comment is to be upheld.\\nThe issues\\nThe issues raised by this appeal are as follows: i) Can the defendants rely in support of their plea of fair comment on matters to which they made no reference in their comment? ii) Are the matters to which the defendants did refer in their comment capable of sustaining a defence of fair comment?\\nThe development of the defence of fair comment\\nWhen citing from the relevant authorities I propose to place in italics passages that are of particular relevance to the issues on the appeal.\\nThe history of the defence of fair comment is helpfully summarised by Paul Mitchell in Chapter 8 of The Making of the Modern Law of Defamation (2005).\\nIt originated at a time when malice was an essential element in the tort of defamation but malice was normally implied unless rebutted.\\nOriginally criticism of literary works and works of art was protected in so far as no presumption of malice arose in respect of such publications.\\nOf necessity such publications identified the subject matter of the comment and it was implicit in some judgments that the matter to which the criticism related would be set out before the criticism was made see Cooper v Lawson (1838) 8 Ad & E 746.\\nIn the first half of the 19th century the subject matter that could found a defence of fair comment was extended to other matters of public interest and, in particular, to the acts of persons in public life Turnbull v Bird (1861) 2 F & F 508.\\nCampbell v Spottiswoode (1863) 3 B & S 769 is perhaps the most important foundation stone of the modern law of fair comment.\\nThe plaintiff was a dissenting Protestant minister who had a scheme for advancing the propagation of the gospel in China by promoting the sales of a newspaper containing a series of letters emphasising the importance of this.\\nThe defendant published an attack on the plaintiff in a rival newspaper alleging that the plaintiffs motive was not to take the gospel to the Chinese but to make money out of the sales of his newspaper, and that the names and descriptions of subscribers published in the newspaper were fictitious.\\nThe publication made it plain that these allegations were no more than inferences, albeit that they were inferences of fact.\\nThe court drew a distinction between attacking the scheme and attacking the character of its proponent.\\nCockburn CJ said, at p 777: I think the fair position in which the law may be settled is this: that where the public conduct of a public man is open to animadversion, and the writer who is commenting upon it makes imputations on his motives which arise fairly and legitimately out of his conduct so that a jury shall say that the criticism was not only honest, but also well founded, an action is not maintainable.\\nBut it is not because a public writer fancies that the conduct of a public man is open to the suspicion of dishonesty, he is therefore justified in assailing his character as dishonest.\\nCrompton Js judgment was to similar effect.\\nHe observed, at p 778: Nothing is more important than that fair and full latitude of discussion should be allowed to writers upon any public matter, whether it be the conduct of public men, the proceedings in courts of justice or in Parliament, or the publication of a scheme or of a literary work.\\nBut it is always to be left to a jury to say whether the publication has gone beyond the limits of a fair comment on the subject matter discussed.\\nA writer is not entitled to overstep those limits and impute base and sordid motives which are not warranted by the facts, and I cannot for a moment think that, because he has a bona fide belief that he is publishing what is true, that is any answer to an action for libel.\\nWith respect to the publication of the plaintiffs scheme, the defendant might ridicule it and point out the improbability of its success; but that was all he had a right to do.\\nIt is not entirely clear whether the court was holding that defamatory inferences in relation to motive could be justified provided that they were reasonable, or whether it considered that such inferences had to be justified by showing that they were true.\\nCertainly Mellor J, at pp 782 783, appears to have taken the latter view.\\nIn Merivale v Carson (1887) 20 QBD 275, 280 281 Lord Esher MR cited the passage from Crompton Js judgment in Campbell v Spottiswoode and then addressed the question of what was meant by fair comment: What is the meaning of a fair comment? I think the meaning is this: is the article in the opinion of the jury beyond that which any fair man, however prejudiced or however strong his opinion may be, would say of the work in question? Every latitude must be given to opinion and to prejudice, and then an ordinary set of men with ordinary judgment must say whether any fair man would have made such a comment on the work .\\nMere exaggeration, or even gross exaggeration, would not make the comment unfair.\\nHowever wrong the opinion expressed may be in point of truth, or however prejudiced the writer, it may still be within the prescribed limit.\\nThe question which the jury must consider is this would any fair man, however prejudiced he may be, however exaggerated or obstinate his views, have said that which this criticism has said of the work which is criticised? If it goes beyond that, then you must find for the plaintiff; if you are not satisfied that it does, then it falls within the allowed limit, and there is no libel at all.\\nThe nature of fair comment was further clarified by Collins MR in McQuire v Western Morning News Co Ltd [1903] 2 KB 100.\\nThe subject of the action was a swingeing condemnation of the merits of a musical play.\\nThe Master of the Rolls observed at p 108 that there was no evidence of actual malice, no personal imputations and no allegations of fact.\\nIn these circumstances he held at p 112 that if comment was to be fair it had to be relevant and not such as to disclose in itself actual malice.\\nIn Dakhyl v Labouchere, (Note) reported at [1908] 2 KB 325, the House of Lords was concerned not with literary criticism but with a publication that described a doctor as a quack of the rankest species.\\nLord Atkinson, who made the most substantial speech, expressed the view, at p 329, that a personal attack could form part of a fair comment on facts stated provided that it was a reasonable inference from those facts.\\nHis speech was cited at length by Fletcher Moulton LJ in Hunt v The Star Newspaper Co Ltd [1908] 2 KB 309.\\nThat appeal concerned publications imputing to the plaintiff improper conduct in the discharge of his duties as a deputy returning officer at a municipal election.\\nThus the complaint related to allegations of fact but the sting of the article was that the conduct of the plaintiff had been politically motivated.\\nThe Court of Appeal in that case drew a distinction between the test of fair comment in relation to literary criticism, as laid down in Merivale v Carson 20 QBD 275, and the test of fair comment in relation to a personal attack on an individual.\\nIn the present context, however, this decision is particularly significant for what was said in respect of the difference between comment and allegations of fact.\\nBecause of the significance attached to this judgment in later cases, I shall set out at a little length the most significant extracts, at pp 319 321: The law as to fair comment, so far as is material to the present case, stands as follows: In the first place, comment in order to be justifiable as fair comment must appear as comment and must not be so mixed up with the facts that the reader cannot distinguish between what is report and what is comment: see Andrews v Chapman (1853) 3 C & K 286.\\nThe justice of this rule is obvious.\\nIf the facts are stated separately and the comment appears as an inference drawn from those facts, any injustice that it might do will be to some extent negatived by the reader seeing the grounds upon which the unfavourable inference is based.\\nBut if fact and comment be intermingled so that it is not reasonably clear what portion purports to be inference, he will naturally suppose that the injurious statements are based on adequate grounds known to the writer though not necessarily set out by him.\\nIn the one case the insufficiency of the facts to support the inference will lead fair minded men to reject the inference.\\nIn the other case it merely points to the existence of extrinsic facts which the writer considers to warrant the language he uses.\\nAny matter, therefore, which does not indicate with a reasonable clearness that it purports to be comment, and not statement of fact, cannot be protected by the plea of fair comment.\\nIn the next place, in order to give room for the plea of fair comment the facts must be truly stated.\\nIf the facts upon which the comment purports to be made do not exist the foundation of the plea fails.\\nFinally, comment must not convey imputations of an evil sort except so far as the facts truly stated warrant the imputation.\\nTo allege a criminal intention or a disreputable motive as actuating an individual is to make an allegation of fact which must be supported by adequate evidence.\\nI agree that an allegation of fact may be justified by its being an inference from other facts truly stated, but in order to warrant it the jury must be satisfied that such inference ought to be drawn from those facts.\\nFletcher Moulton LJ, and the other members of the court, thus drew a distinction between (i) defamatory allegations of fact, which had to be clearly and fairly stated, and to be true; (ii) literary criticism, which need not be reasonable but had to be honest, and (iii) imputations of motive amounting to an attack on the character of the plaintiff, which had to be reasonably drawn from the facts.\\nThe judgment of Fletcher Moulton LJ is the first that deals with the question of whether the publication must set out or identify the facts upon which the defamatory comment is based.\\nIt is implicit in his judgment that it must and for a reason that he explains.\\nThe injustice that an unjustified defamatory comment can cause to the plaintiffs reputation will be mitigated if the reader can see the basis of the comment and thus be in a position to appreciate that it is not justified.\\nThe Lord Justice contrasted this position with one where the reader concluded that the facts upon which the comment was based were not set out in the article, but were within the personal knowledge of the writer.\\nThe clear inference was that the defence of fair comment could not apply to the latter situation.\\nThe defence of fair comment again received consideration by the House of Lords in Sutherland v Stopes [1925] AC 47.\\nThat case was largely concerned with the implications of the rolled up plea, and I have not found it of much assistance in relation to the issues arising on this appeal.\\nA comment of Viscount Finlay, at p 64, is of interest for the light that it throws on the reason why the question of whether a comment is on a matter of public interest has been held to be one for the judge and not the jury: A jury, according to their individual views of religion or policy, might hold the church, the army, the navy, Parliament itself, to be of no national or general importance In so stating Viscount Finlay treated this question as if fair comment was a variety of qualified privilege.\\nEarlier, however, at p 62 he had summarised the law of fair comment as follows: The defendant who raises this defence does not take upon himself the burden of showing that the comments are true.\\nIf the facts are truly stated with regard to a matter of public interest, the defendant will succeed in his defence to an action of libel if the jury are satisfied that the comments are fairly and honestly made.\\nTo raise this defence there must, of course, be a basis of fact on which the comment is made.\\nThis, then, was the state of the law when the important case of Kemsley v Foot [1951] 2 KB 34; [1952] AC 345 fell to be decided.\\nLord Nicholls made no reference to this case in Cheng [2001] EMLR 777 and Mr Price and Mr Caldecott submit that his fourth proposition is not consistent with it.\\nThe publication that was the subject of the claim in Kemsley v Foot was an article by Michael Foot in the Tribune that made a virulent attack on an article in the Evening Standard, a newspaper controlled by Lord Beaverbrook.\\nThe plaintiff was not, however, Lord Beaverbrook, but Viscount Kemsley, a rival newspaper proprietor.\\nHis claim was founded on three words that provided the heading to Michael Foots article.\\nThe words were Lower than Kemsley.\\nThe plaintiff pleaded that the meaning of these words, in their context, was that he used his position as a newspaper proprietor to procure the publication of statements that he knew to be false.\\nThe defence included a plea of fair comment on a matter of public interest, said to be the control by the plaintiff of the newspapers of which he was proprietor.\\nParticulars of the specific facts upon which the said words are a fair comment were provided separately: [1951] 2 KB 34, 40 41.\\nThese contained excerpts from the plaintiffs newspapers which were alleged to be inaccurate, untruthful or otherwise colourable.\\nThe issue was whether the plea of fair comment should be allowed to stand in circumstances where the article itself set out no facts at all that related to the plaintiff or his newspapers.\\nThe judge held that it should not, and struck out the plea of fair comment and the particulars pleaded in support of it.\\nThe Court of Appeal reversed his decision and the House of Lords affirmed the decision of the Court of Appeal.\\nThe judgments are not easily analysed and the author of the headnote to the decision of the Court of Appeal is to be congratulated on this concise statement of the effect of the judgments of Somervell and Birkett LJJ, with each of whom Jenkins LJ agreed: Criticism of a newspaper proprietor directed to the manner in which news is presented in papers controlled by him is to be treated on the same lines as criticism of a book or a play or other matter submitted to the judgment and taste of the public, and the critic is not to be shut out from the plea of fair comment because in his criticism he had not given or referred to examples of the conduct criticised, so long as the subject matter of the comment is plainly stated.\\nSomervell LJ, at p 42, identified two situations in which there was no need for a publication to set out details of the facts upon which the comment was based in order to found a defence of fair comment.\\nThe first was where the comment was on a play, a book or a work of art, put before the public for its approval or disapproval.\\nThe second was where the comment was on the actions of a public man that had been under such vigorous discussion that a bare comment would be taken by the reader as plainly referable to them.\\nThe Lord Justice, at p 43, contrasted these with a third situation: At the other end of the scale one may imagine a comment reflecting on the integrity of a subordinate official, whose activities had so far received no publicity, where it might be held that the defence was not available unless the facts relied on were substantially set out or indicated.\\nHe went on, at p 45, to hold that criticism directed at the manner in which a newspaper presented news was to be compared to criticism of a book.\\nBirkett LJ drew a similar distinction.\\nHe held, at p 51: I do not think it is possible to lay down any rule of universal application.\\nIf, for example, a defamatory statement is made about a private individual who is quite unknown to the general public, and who has never taken any part in public affairs, and the statement takes the form of comment only and is capable of being construed as comment and no facts of any kind are given, while it is conceivable that the comment may be made on a matter of public interest, nevertheless the defence of fair comment might not be open to a defendant in that case.\\nIt is almost certain that a naked comment of that kind in those circumstances would be decided to be a question of fact and could be justified as such if that defence were pleaded.\\nBut if the matter is before the public, as in the case of a book, a play, a film, or a newspaper, then I think different considerations apply.\\nComment may then be made without setting out the facts on which the comment is based if the subject matter of the comment is plainly stated.\\nLord Porter gave the leading speech in the House of Lords: [1952] AC 345.\\nAt p 354 he described the question for the House as being whether a plea of fair comment is only permissible where the comment is accompanied by a statement of facts upon which the comment is made and to determine the particularity with which the facts must be stated.\\nAt pp 355 356 Lord Porter rejected the suggestion that there was a difference in principle between literary criticism of a play, book or newspaper and criticism that implicitly attacked the character of the person responsible for the work in question.\\nHe observed that in each case: the subject matter upon which criticism is made has been submitted to the public, though by no means all those to whom the alleged libel has been published will have seen or are likely to see the various issues.\\nAccordingly, its contents and conduct are open to comment on the ground that the public have at least the opportunity of ascertaining for themselves the subject matter upon which the comment is founded.\\nI am assuming that the reference is to a known journal: for the present purpose it is not necessary to consider how far criticism without facts upon which to base it is subject to the same observation in the case of an obscure publication.\\nLord Porter then summarised his conclusions in the following passage, at pp 356 357: The question, therefore, in all cases is whether there is a sufficient substratum of fact stated or indicated in the words which are the subject matter of the action, and I find my view well expressed in the remarks contained in Odgers on Libel and Slander, 6th ed (1929), p 166.\\nSometimes, however, he says, it is difficult to distinguish an allegation of fact from an expression of opinion.\\nIt often depends on what is stated in the rest of the article.\\nIf the defendant accurately states what some public man has really done, and then asserts that such conduct is disgraceful, this is merely the expression of his opinion, his comment on the plaintiffs conduct.\\nSo, if with out setting it out, he identifies the conduct on which he comments by a clear reference.\\nIn either case the defendant enables his readers to judge for themselves how far his opinion is well founded; and, therefore, what would otherwise have been an allegation of fact becomes merely a comment.\\nBut if he asserts that the plaintiff has been guilty of disgraceful conduct, and does not state what that conduct was, this is an allegation of fact for which there is no defence but privilege or truth.\\nThe same considerations apply where a defendant has drawn from certain facts an inference derogatory to the plaintiff.\\nIf he states the bare inference without the facts on which it is based, such inference will be treated as an allegation of fact.\\nBut if he sets out the fact correctly, and then gives his inference, stating it as his inference from those facts, such inference will, as a rule be deemed a comment.\\nBut even in this case the writer must be careful to state the inference as an inference, and not to assert it as a new and independent fact; otherwise, his inference will become something more than a comment, and he may be driven to justify it as an allegation of fact.\\nBut the question whether an inference is a bare inference in this sense must depend upon all the circumstances.\\nIndeed, it was ultimately admitted on behalf of the appellant that the facts necessary to justify comment might be implied from the terms of the impugned article and therefore the inquiry ceases to be Can the defendant point to definite assertions of fact in the alleged libel upon which the comment is made? and becomes Is there subject matter indicated with sufficient clarity to justify comment being made? and was the comment actually made such [as] an honest, though prejudiced, man might make?\\nLord Porter went on to deal with a matter which did not arise directly on the appeal, at pp 357 358: One further matter on which some discussion took place does not, in my opinion, directly arise on this appeal, but as it may be raised in interlocutory proceedings later in the course of the action, I think it desirable to express an opinion on it.\\nIn a case where the facts are fully set out in the alleged libel, each fact must be justified and if the defendant fails to justify one, even if it be comparatively unimportant, he fails in his defence.\\nDoes the same principle apply where the facts alleged are found not in the alleged libel but in [the] particulars delivered in the course of the action? In my opinion, it does not.\\nWhere the facts are set out in the alleged libel, those to whom it is published can read them and may regard them as facts derogatory to the plaintiff; but where, as here, they are contained only in particulars and are not published to the world at large, they are not the subject matter of the comment but facts alleged to justify that comment.\\nIn the present case, for instance, the substratum of fact upon which comment is based is that Lord Kemsley is the active proprietor of and responsible for the Kemsley Press.\\nThe criticism is that that press is a low one.\\nAs I hold, any facts sufficient to justify that statement would entitle the defendants to succeed in a plea of fair comment. 20 facts might be given in particulars and only one justified, yet if that one fact were sufficient to support the comment so as to make it fair, a failure to prove the other 19 would not of necessity defeat the defendants plea.\\nThe protection of the plaintiff in such a case would, in my opinion, be, as it often is in cases of the like kind, the effect which an allegation of a number of facts which cannot be substantiated would have upon the minds of a jury who would be unlikely to believe that the comment was made upon the one fact or was honestly founded upon it and accordingly would find it unfair.\\nAt p 360 Lord Porter commented on the passage in the judgment of Fletcher Moulton LJ in Hunt v Star Newspaper Co Ltd [1908] 2 KB 309 that I have quoted at para 39 above: He was seeking to distinguish facts from comment and in effect saying that the facts alleged must be such as to warrant an honest mans making the comment complained of.\\nHe had not to consider whether the facts must be set out in full or whether a reference to well known or easily ascertainable facts was a sufficient statement of those relied on.\\nLord Oaksey gave a short concurring speech.\\nHe said, at pp 360 361: The forms in which a comment on a matter of public importance may be framed are almost infinitely various and, in my opinion, it is unnecessary that all the facts on which the comment is based should be stated in the libel in order to admit the defence of fair comment.\\nIt is not in my opinion, a matter of importance that the reader should be able to see exactly the grounds of the comment.\\nIt is sufficient if the subject which ex hypothesi is of public importance is sufficiently and not incorrectly or untruthfully stated.\\nA comment based on facts untruly stated cannot be fair.\\nWhat is meant in cases in which it has been said comment to be fair must be on facts truly stated is, I think, that the facts so far as they are stated in the libel must not be untruly stated.\\nLord Porters remark, at pp 357 358, that where the facts were fully set out in the alleged libel each fact had to be justified echoed an observation at paragraph 87 of the 1948 Report of the Committee on the Law of Defamation (Cmd 7536), which Lord Porter had chaired.\\nThe Report made the following recommendations in relation to this, at paragraph 90: We accordingly recommend an amendment of the existing law analogous to that which we have recommended in relation to the defence of justification, namely that a defence of fair comment upon a matter of public interest should be entitled to succeed if (a) the defendant proves that so much of the defamatory statements of fact contained in the alleged libel is true as to justify the court in thinking that any remaining statement which has not been proved to be true does not add materially to the injury to the plaintiffs reputation, and (b) the court is also of opinion that the facts upon which the comment is based are matters of public interest and the comment contained in the alleged libel was honestly made by the defendant.\\nEffect was given to the recommendations of Lord Porters Committee by the following sections of the Defamation Act 1952: 5 Justification In an action for libel or slander in respect of words containing two or more distinct charges against the plaintiff, a defence of justification shall not fail by reason only that the truth of every charge is not proved if the words not proved to be true do not materially injure the plaintiffs reputation having regard to the truth of the remaining charges. 6 Fair Comment In action for libel or slander in respect of words consisting partly of allegations of fact and partly of expression of opinion a defence of fair comment shall not fail by reason only that the truth of every allegation of fact is not proved if the expression of opinion is fair comment having regard to such of the facts alleged or referred to in the words complained of as are proved.\\nIt is significant that section 6 refers to facts alleged or referred to in the words complained of.\\nThe section lends no support to the proposition that fair comment can be based on facts which are neither alleged nor referred to in the words complained of.\\nWeight was attached in argument before us to two observations of Lord Denning.\\nHe made the first, as Denning LJ, at pp 359 360 in Adams v Sunday Pictorial Newspapers (1920) Ltd and Champion [1951] 1 KB 354.\\nThe issue was whether interrogatories should be ordered in relation to the question of whether a defendant who was relying on the defence of fair comment had been activated by malice: The truth is that the burden on the defendant who pleads fair comment is already heavy enough.\\nIf he proves that the facts were true and that the comments, objectively considered, were fair, that is, if they were fair when considered without regard to the state of mind of the writer, I should not have thought that the plaintiff had much to complain about; nevertheless it has been held that the plaintiff can still succeed if he can prove that the comments, subjectively considered, were unfair because the writer was actuated by malice.\\nThe more relevant comment for present purposes was that made by Lord Denning MR in Cohen v Daily Telegraph Ltd [1968] 1 WLR 916.\\nIn that case the defendant pleaded, as matters on which its publication was alleged to be fair comment, facts that had occurred some weeks after the publication.\\nThese were struck out and the defendant appealed unsuccessfully to the Court of Appeal.\\nLord Denning observed, in an ex tempore judgment, at pp 919 920: In order to make a good plea of fair comment, it must be a comment on facts existing at the time.\\nNo man can comment on facts which may happen in the future.\\nThere is a passage in Gatley on Libel and Slander, 6th ed (1967), p 723 which goes further.\\nIt says: The facts which the defendant seeks to prove as the basis of his comment must have been known to him when he made the comment.\\nI do not know that I would go quite so far as that.\\nA man may comment on existing facts without having them all in the forefront of his mind at the time.\\nNevertheless it must be a comment on existing facts.\\nIf, which I doubt, Lord Denning intended to say that a defence of fair comment could be based on facts unknown to the defendant at the time of his comment, the other two members of the court did not agree.\\nDavies LJ stated, at p 920: If it is necessary for the man making the comment to know the facts at the time he makes it, it follows as the night follows the day that it is impossible for him to rely on events which at that time had not happened.\\nRussell LJ remarked, at p 921, that it was not disputed that the facts upon which a defence of fair comment were based could only be those known at the time of publication.\\nSubsequently, in London Artists Ltd v Littler [1969] 2 QB 375, 391, Lord Denning MR stated: In order to be fair, the commentator must get his basic facts right.\\nThe basic facts are those which go to the pith and substance of the matter: see Cunningham Howie vs Dimbleby [1951] 1 KB 360,364.\\nThey are the facts on which the comments are based or from which the inferences are drawn as distinct from the comments or inferences themselves.\\nThe commentator need not set out in his original article all the basic facts: see Kemsley vs Foot [1952] AC 345; but he must get them right and be ready to prove them to be true.\\nJudicial opinion in relation to this area of the law did not change over the next 20 years.\\nIn Brent Walker Group plc v Time Out Ltd [1991] 2 QB 33 the issue was whether the defence of fair comment could be based on unproven statements if these were made on a privileged occasion.\\nThe Court of Appeal held that it could, but only if the publication set out a fair and accurate report of the proceedings in which the privileged statements were made.\\nBingham LJ made the following summary of the law of fair comment, at p 44: The civil law of libel is primarily concerned to provide redress for those who are the subject of false and defamatory factual publications.\\nThus in the simplest case A will be entitled to relief against B if B publishes a defamatory factual statement concerning A which B cannot show to be true.\\nThe law is not primarily concerned to provide redress for those who are the subject of disparaging expressions of opinion, and freedom of opinion is (subject to necessary restrictions) a basic democratic right.\\nIt is, however, plain that certain statements which might on their face appear to be expressions of opinion (as where, for example, a person is described as untrustworthy, unprincipled, lascivious or cruel) contain within themselves defamatory suggestions of a factual nature.\\nThus the law has developed the rule already mentioned that comment may only be defended as fair if it is comment on facts (meaning true facts) stated or sufficiently indicated.\\nFailing that, the comment itself must be justified.\\nBingham LJ went on to hold, at p 45, that fairness to the subject of a defamatory comment based on a privileged statement required that the commentator should at least base his comment on a fair and accurate account of the occasion on which the statement was made.\\nPart of the problem with the defence of fair comment relates to the identification of which, if any, elements of the defence are subjective and which are objective.\\nThis question bears intimately on the question of burden of proof in relation to the various elements.\\nThese questions received detailed consideration by the Court of Appeal and the House of Lords in Telnikoff v Matusevitch [1991] 1 QB 102; [1992] 2 AC 343.\\nThe plaintiff complained of a letter published by the defendant about an article written by the plaintiff.\\nThe primary issue was whether the defendant could refer to portions of the article not quoted in his letter in order to demonstrate that the letter consisted of comment rather than statements of fact.\\nReversing the Court of Appeal, the majority of the House of Lords held that he could not.\\nA defence of fair comment could not be made out unless it was apparent from the publication itself that the matter complained of was comment rather than an allegation of fact.\\nIn the course of a dissenting opinion, Lord Ackner remarked, at p 361: In my judgment the defence of fair comment is not based on the proposition that every person who reads a criticism should be in a position to judge for himself.\\nIt would be absurd to suggest that a critic may not say what he thinks of a play performed only once, because the public cannot go and see it to judge for themselves.\\nThe defence of fair comment is available to a defendant who has done no more than express his honest opinion on publications put before the public.\\nIt is sufficient for him to have identified the publication on which he is commenting, without having set out such extracts there from as would enable his readers to judge for themselves whether they agreed with his opinion or not.\\nA subsidiary but important issue was what it was that a defendant had to prove in order to establish the defence of fair comment.\\nCounsel for the plaintiff submitted that the defendant had to establish that: (i) the words complained of were comment; (ii) the comment was on facts; (iii) the facts commented on constituted a matter of public interest; (iv) the comment was objectively fair; that is the comment was one that was capable of being honestly founded on the facts to which it related, albeit by someone who was prejudiced and obstinate; (v) the comment represented the defendants honest opinion.\\nIf he discharged all these burdens, the defence could none the less be defeated by proof of malice on the part of the defendant, but the onus of proving malice lay on the plaintiff.\\nBoth the Court of Appeal and the House of Lords held that there was no burden on the defendant to establish the fifth element.\\nThe defendants honesty was assumed unless the plaintiff could disprove it by establishing malice.\\nThe most significant development of the common law of defamation in recent times has been the creation of Reynolds privilege.\\nIn the course of his speech in Reynolds v Times Newspapers Ltd [2001] 2 AC 127 Lord Nicholls made some comments in relation to the defence of fair comment which were a precursor to what he subsequently said in Cheng [2001] EMLR 777.\\nAt p 193, he said: It is important to keep in mind that this defence is concerned with the protection of comment, not imputations of fact.\\nIf the imputation is one of fact, a ground of defence must be sought elsewhere.\\nFurther, to be within this defence the comment must be recognisable as comment, as distinct from an imputation of fact.\\nThe comment must explicitly or implicitly indicate, at least in general terms, what are the facts on which the comment is being made see the discussion in Duncan & Neill on Defamation, 2nd ed (1983), pp 58 62.\\nAt p 201 he referred to the fact that proof of malice denied protection to defamatory statements, whether of comment or fact.\\nHe added: In the case of statements of opinion on matters of public interest, that is the limit of what is necessary for protection of reputation.\\nReaders and viewers and listeners can make up their own minds on whether they agree or disagree with defamatory statements which are recognisable as comment and which, expressly or implicitly, indicate in general terms the facts on which they are based.\\nI cited at the outset of this judgment the five propositions in relation to fair comment advanced by Lord Nicholls in Cheng under the heading Fair Comment: The Objective Limits.\\nAt para 41 of that case he returned to the fourth proposition under the heading Motive: Proof of malice is the means whereby a plaintiff can defeat a defence of fair comment where a defendant is abusing the defence.\\nAbuse consists of using the defence for a purpose other than that for which it exists.\\nThe purpose for which the defence of fair comment exists is to facilitate freedom of expression by commenting on matters of public interest.\\nThis accords with the constitutional guarantee of freedom of expression.\\nAnd it is in the public interest that everyone should be free to express his own, honestly held views on such matters, subject always to the safeguards provided by the objective limits mentioned above.\\nThese safeguards ensure that defamatory comments can be seen for what they are, namely, comments as distinct from statements of fact.\\nThey also ensure that those reading the comments have the material enabling them to make up their own minds on whether they agree or disagree.\\nLord Nicholls broke new ground in holding that malice in the context of fair comment had a different meaning from malice in the context of qualified privilege.\\nIn the former context, the motive for making the comment was irrelevant.\\nAll that mattered was whether or not the commentator honestly believed in the truth of his comment.\\nThis was an evolution of the view that Lord Nicholls had expressed in Reynolds at [2001] 2 AC 127, 201: Freedom of speech does not embrace freedom to make defamatory statements out of personal spite or without having a positive belief in their truth.\\nThe authors of Gatley, 11th ed, comment, at para 12.25: Formerly, it was widely believed that the idea of malice was essentially the same in fair comment [as in qualified privilege] and that the cases were essentially interchangeable.\\nIt has now been demonstrated that this is incorrect.\\nIn holding that not even spite or ill will constituted malice, Lord Nicholls The last sentence is a remarkable tribute to the standing of the Court of Final Appeal of Hong Kong and, more particularly, of Lord Nicholls.\\n[2001] EMLR 777, para 48 once again returned to his fourth proposition: Thus, the comment is one which is based on fact; it is made in circumstances where those to whom the comment is addressed can form their own view on whether or not the comment was sound; and the comment is one which can be held by an honest person.\\nLord Nicholls fourth proposition has come under attack before that launched in the present action.\\nIt is questioned in Duncan & Neill 3rd ed at para 13.20 and in Gatley at para 12.8.\\nEady J dissented from it at para 57 of his judgment in Lowe v Associated Newspapers Ltd [2006] EWHC 320 (QB); [2007] QB 580.\\nThat decision merits attention, for it contains the carefully considered views of a judge who has great experience of the law of defamation on the subject matter of the present appeal.\\nThe publication complained of in that case was a short paragraph about matters that will have been of interest to a large number of football supporters: the replacement of the Manager of Southampton Football Club and the claimants acquisition of ownership of the Club by a reverse takeover.\\nThe defendants primary case was that the paragraph complained of contained comment and was protected by the defence of fair comment.\\nIn the alternative, in case the publication should be held to consist of fact rather than comment, there was a plea of justification.\\nThe defendant pleaded some 19 pages of facts which were claimed to support both the plea of fair comment and the plea of justification.\\nNo less than 16 interlocutory applications were listed before the judge, but the issues to which his judgment was essentially directed were: i) To what extent is it necessary for a defendant relying upon fair comment to be able to demonstrate that the facts upon which the comment was based are to be found in the text of the words complained of? ii) How far must the author of the words complained of be aware at the time of publication of the facts sought to be relied upon to support the comment? Eady J carried out a detailed analysis of many of the authorities to which I have referred and reached the following conclusions: (1) Any fact pleaded to support fair comment must have existed at the time of publication. (2) Any such facts must have been known, at least in general terms, at the time the comment was made, although it is not necessary that they should all have been in the forefront of the commentators mind. (3) A general fact within the commentators knowledge (as opposed to the comment itself) may be supported by specific examples even if the commentator had not been aware of them (rather as examples of previously published material from Lord Kemsleys newspapers were allowed). (4) Facts may not be pleaded of which the commentator was unaware (even in general terms) on the basis that the defamatory comment is one he would have made if he had known them. (5) A commentator may rely upon a specific or a general fact (and, it follows, provide examples to illustrate it) even if he has forgotten it, because it may have contributed to the formation of his opinion. (6) The purpose of the defence of fair comment is to protect honest expressions of opinion, or inferences honestly drawn from, specific facts. (7) The ultimate test is the objective one of whether someone could have expressed the commentators defamatory opinion (or drawn the inference) upon the facts known to the commentator, at least in general terms, and upon which he was purporting to comment.\\nI have some difficulty with propositions (3) and (5).\\nI do not understand the nature of the support for facts within the commentators knowledge that can be derived from facts of which he was not aware.\\nNor is it easy to understand how a commentator can know that a fact is one that he has forgotten.\\nDissenting from Lord Nicholls fourth proposition in Cheng Eady J said this, at para 57: Whilst it is necessary for readers to distinguish fact from comment, it is not necessary for them to have before them all the facts upon which the comment was based for the purpose of deciding whether they agree with the comment (or inference).\\nI draw that conclusion with all due diffidence, since Lord Nicholls has twice expressed the opposite view, but it does seem consistent with principle and, in particular, with the undoubted rule that people are free to express perverse and shocking opinions and may nevertheless succeed in a defence of fair comment without having to persuade reasonable readers, or the jurors who represent such persons, to concur with the opinions.\\nIt is difficult to see why it should matter whether a reader agrees; what matters is whether he or she can distinguish fact from comment.\\nSometimes that will be possible, as it was in Kemsley v Foot, without any facts being stated expressly, because either they are referred to or they are sufficiently widely known for the readers to recognise the comment as comment.\\nThis concludes my summary of the authorities which form the basis of the discussion that is to follow.\\nBefore proceeding to that discussion it is necessary, however, to consider the Strasbourg jurisprudence, for Mr Price invoked article 10 of the European Convention on Human Rights (the Convention) and it is necessary for this court, when considering suggested developments of the common law of defamation, to take account of the Convention and the jurisprudence of the Strasbourg Court.\\nThe Strasbourg jurisprudence\\nArticle 10 of the Convention provides: Freedom of Expression 1 Everyone has the right to freedom of expression.\\nThis right shall include freedom to hold opinions and to receive and impart information and ideas without interference by public authority and regardless of frontiers.\\nThis article shall not prevent states from requiring the licensing of broadcasting, television or cinema enterprises. 2 The exercise of these freedoms, since it carries with it duties and responsibilities, may be subject to such formalities, conditions, restrictions or penalties as are prescribed by law and are necessary in a democratic society, in the interests of national security, territorial integrity or public safety, for the prevention of disorder or crime, for the protection of health or morals, for the protection of the reputation or rights of others, for preventing the disclosure of information received in confidence, or for maintaining the authority and impartiality of the judiciary.\\nIn Karako v Hungary (Application No 39311/05) (unreported) given 28 April 2009, where the applicant invoked article 10, the Strasbourg Court held at para 23 that there was no conflict between this article and article 8, which protects the right to respect for private life.\\nReputation was only the external evaluation of the individual and damage to reputation would not necessarily impact on the inner integrity which article 8 protects.\\nIn Pfeifer v Austria (2007) 48 EHRR 175, however, where the applicant invoked article 8, another section of the Court held at para 35 that a persons reputation formed part of his or her personal identity and psychological integrity, and thus fell within the scope of private life to which article 8 applied.\\nI think that it is obvious that the right to freedom of expression is in potential conflict with the right to private life and that the fact that each right is qualified means that the law must strike an appropriate balance between the two.\\nAs to the striking of that balance it is possible to draw a number of principles from the Strasbourg jurisprudence.\\nThe relevant principles are helpfully summarised at paras 28 and 29 of Sorguc v Turkey (Application No 17089/03) (unreported) given 23 June 2009.\\nFreedom of speech may be restricted in order to protect reputation where this is necessary in a democratic society to meet a pressing social need.\\nThus a test of proportionality has to be applied.\\nIn applying that test there is a significant distinction between a statement of fact and a value judgment.\\nA statement of fact will be true or untrue and the law can properly place restrictions on making statements of fact that are untrue.\\nA value judgment is not susceptible of proof so that a requirement to prove the truth of a value judgment is impossible to fulfil, and thus infringes article 10.\\nHowever, even where a statement amounts to a value judgment, the proportionality of an interference may depend on whether there exists a sufficient factual basis for the impugned statement, since even a value judgment may be excessive if it has no factual basis to support it Jerusalem v Austria (2003) 37 EHRR 567, para 43.\\nIn Lindon.\\nOtchakovsky Laurens and July v France (2007) 46 EHRR 761 the Grand Chamber went further, stating at para 55: The classification of a statement as a fact or as a value judgment is a matter which in the first place falls within the margin of appreciation of the national authorities, in particular the domestic courts.\\nHowever, even where a statement amounts to a value judgment, there must exist a sufficient factual basis to support it, failing which it will be excessive.\\nIn Nilsen and Johnsen v Norway (1999) 30 EHRR 878, para 50 the court equated the imputation of improper motives or intentions with value judgments rather than statements of fact, having regard to the fact that from the wording of the statements and their context it was apparent that they were intended to convey the applicants own opinions.\\nThe Strasbourg Court also attaches importance to the extent to which the subject of a publication is a matter of public interest.\\nThe limits of acceptable criticism are wider in relation to politicians acting in their public capacity than in relation to private individuals Jerusalem v Austria (2001) 37 EHRR 567, para 38.\\nIn Hrico v Slovakia (2004) 41 EHRR 300, para 40g the court observed that there was little scope under article 10(2) of the Convention for restrictions on political speech or on debate on questions of public interest.\\nThese expressions of principle are in general consonant with the English law of defamation.\\nIf anything they suggest that the restrictions on the right to express opinion imposed under the law of fair comment may be over exacting.\\nThey do not, however, afford assistance with the question of the extent to which it is a proportionate element of the law of fair comment to require that a statement of defamatory opinion should include or identify the facts upon which the opinion is based.\\nThe defendants submissions\\nMr Prices submissions on behalf of the defendants fall into two parts.\\nThe first part of the submissions address the law as it is.\\nMr Price relies on section 6 of the 1952 Act.\\nHe submits that the facts alleged or referred to for the purpose of section 6 were: a. the claimants email of 27 March 2007 (a fact alleged); b. the breach of contract in relation to the Bibis booking (a fact referred to); c. the breach of contract in relation to the Landmarc booking (a fact referred to).\\nMr Price submits that it does not matter that the readers of the posting had no knowledge of the facts in relation to the two breaches of contract referred to, so that they were unable to judge for themselves how far the comment was well founded.\\nIn suggesting to the contrary in his fourth proposition in Cheng [2001] EMLR 777, para 19 Lord Nicholls had fallen into error.\\nThe error in misreporting the terms of the claimants email did not invalidate the defence of fair comment because the comment could be fairly founded on those of the facts alleged or reported that were accurate.\\nTaken overall the three facts on which the comment was based were substantially true.\\nAlternatively, Mr Price invites the Court to develop the common law of fair comment so that it is simplified and liberalised.\\nHe submits that the Court should: sweep away the requirement that the comment should relate to matter of public interest; hold that the subjective state of mind of the defendant is wholly irrelevant; restrict the requirements of the defence to (a) a requirement that the words complained of should be comment and (b) a requirement that there should be shown to exist one or more facts (or privileged statement) on which an honest person could have founded the relevant comment.\\nThose facts could even come into existence after the date of the publication.\\nThus reliance could be placed on the claimants conduct in relation to the Coombes wedding.\\nIn short the existence of a defence of fair comment should depend on an entirely objective appraisal of the relevant facts in the same way as the defence of justification.\\nMr Price submitted that the defence should be renamed simply comment or opinion.\\nThe interveners submissions\\nThe submissions made by Mr Caldecott on behalf of the interveners were not so radical.\\nHe advanced six suggested principles: 1.\\nTo qualify for the protection of the defence of honest opinion a statement must be recognisable in its context as opinion.\\nA statement of opinion may in context be an inference of fact drawn by the commentator from facts stated or indicated by him.\\nMr Caldecott submitted that even a statement of a fact that is verifiable can amount to a comment if the commentator makes it plain that he is merely expressing an opinion about the existence of the fact on the basis of an inference from other facts. 2.\\nThe opinion will qualify for protection if any person, however prejudiced, exaggerated or obstinate his views, could have honestly expressed it on proved facts or on alleged facts protected by privilege.\\nMr Caldecott submitted that this principle should apply to all opinions there should not be a more stringent test for opinions imputing dishonourable motives. 3.\\nThe opinion must be expressed on a matter of public interest.\\nThe interveners have not sought to abolish this requirement on the basis that such a change in the law should receive very close examination and detailed submission. 4.\\nThe defendant may rely on any proved facts or privileged material in existence at the time of publication, provided those facts relate to the subject matter of the comment.\\nThis answers the central issue of principle that arises on this appeal.\\nIt is the interveners case that the comment must identify its subject matter, but need not allege or refer to particular facts as the basis for the comment.\\nThere is no need to place the reader in a position to form his own view on the validity of the comment Lord Nicholls erred in so holding in Cheng [2001] EMLR 777, para 19.\\nIf facts exist at the time of the comment the commentator can rely upon them as the foundation for his comment, even if he was unaware of them when he made his comment.\\nEvents subsequent to the comment cannot, however, be relied upon. 5.\\nIf the defendant proves sufficient facts to satisfy the objective test set out in principle 2, then (subject to malice) the defence succeeds irrespective of whether facts referred to in the publication or facts relied on extrinsic to the publication are not proved or are misstated.\\nThis principle does not absolve a defendant from the obligation to prove defamatory statements of fact to be true (subject to section 5 of the 1952 Act). 6.\\nThe defence of opinion is lost where a claimant proves that the defendant did not act honestly in publishing the opinion complained of.\\nThe interveners do not seek to remove this residual element of subjectivity in relation to the defence of fair comment.\\nThey do, however, adopt Lord Nicholls removal from the malice that defeats fair comment the element of improper motive such as spite or ill will.\\nFinally Mr Caldecott suggests that the description fair comment should be replaced by honest comment.\\nDiscussion\\nThe issue that has arisen in this case results from a change of emphasis in relation to the elements of the defence of fair comment.\\nThose elements were, and still are: The statement in issue is comment and not fact; The matter in respect of which the comment is made is a matter of public interest; Where that matter consists of facts alleged to have occurred, the facts are true; The comment is fair; The statement is not made maliciously.\\nThe defence originated in respect of comments about work products such as: books, plays, theatrical performances, musical compositions and concerts.\\nComments in relation to such matters necessarily identified the work product to which they related, or they would have been meaningless.\\nThe matters commented on were matters of public interest.\\nThey had been placed by their authors or performers in the public domain.\\nWhere what was criticised was the artistic merit of the work product, the only issue that could arise was as to the fifth element.\\nThere was no question but that the statement made was comment.\\nThere was no doubt about the matter to which the comment related.\\nNo issue arose as to the truth of facts, for there were none.\\nNo issue was likely to arise as to whether the comment was fair, for beauty is in the eye of the beholder.\\nThe critic was doing no more than purporting to express his subjective reaction to what he had seen or heard.\\nThe only issue was malice.\\nWas the critic fairly expressing his honest opinion, or was the opinion that he expressed dishonest, or motivated by spite or ill will?\\nWhere the criticism did not relate to the artistic merit of the work product, but the comments made amounted to an attack on the character of the author, then the fourth element might be in issue in as much as some cases identified a requirement that the inferences drawn by the comments made should be reasonable.\\nCriticism of work products could, of course, cause considerable damage to the professional reputations of those responsible for them, and cause them financial loss.\\nThe right to make honest but derogatory expressions of opinion on such matters was and is an important safeguard for freedom of expression.\\nA number of developments complicated the defence of fair comment.\\nIt was extended to cover the conduct of individuals, where this was of public interest.\\nIt thus became possible to make a pejorative or derogatory comment about a person which was inferentially based on his conduct, without expressly identifying the facts upon which the comment was based.\\nSometimes the conduct was notorious and thus in the public domain.\\nThen the comment might inferentially identify the conduct on which it was based and no difficulty would arise in relation to evaluating the various elements of the defence.\\nBut it might not be possible to identify by inference the conduct in relation to which the comment was made.\\nIndeed that conduct might not even be in the public domain.\\nIt might be known only to the person making the comment.\\nThe common law had to decide how to deal with a general or bare comment, which inferred discreditable conduct of some kind without giving any particulars of the conduct.\\nThe damage that such a comment can do is relatively limited.\\nActions speak louder than words.\\nMost people judge their fellow men by the way that they behave, not on the basis of general opinions expressed by others.\\nThe common law might have held that bare comments were not actionable at all.\\nOr it might have held that a defence of fair comment would lie in respect of a bare comment provided that the defendant could identify the factual basis for his comment by giving evidence of what it was that he had had in mind.\\nIt did not, however, take either course.\\nIt held that the defence of fair comment could not be invoked in relation to a comment that inferred that the claimant had conducted himself in some unspecified discreditable way.\\nThe ground for so holding was sometimes not happily expressed.\\nIn the 11th edition of Winfield and Jolowicz on Tort, (1979) p 304 the editors stated: To say that A is a disgrace to human nature is an allegation of fact, but if the words were A murdered his father and is therefore a disgrace to human nature, the latter words are plainly a comment on the former.\\nLord Walker commented in argument on the fallacy of the first part of this proposition.\\nSee also my comments at para 5 above.\\nThe courts have always held that the only defence to a bare comment which infers the existence of discreditable conduct but does not identify it is justification see for example Bingham LJ in Brent Walker [1991] 2 QB 33, 44H.\\nIn justifying a bare defamatory comment the defendant is entitled, in accordance with the principles that govern that defence, to plead any fact, whether or not it was known to him when he made the comment in order to show that the comment was justified.\\nSo far as the defence of fair comment is concerned, apart from some puzzling dicta by Bankes and Scrutton LJJ in Aga Khan v Times Publishing Co. [1924] 1 KB 675 at pp 679 680 and 681 682, until the decision in Kemsley v Foot [1951] 2 KB 34; [1952] AC 345 no authority to which this court has been referred put in doubt the fact that the defence of fair comment required the facts upon which the comment was made to be stated or identified in or from the comment itself.\\nKemsley v Foot is a difficult case.\\nIt was, of course, an absurd libel action.\\nIt was not about vindicating the reputation of Viscount Kemsley but about amour propre.\\nBoth the nature of the defamatory comment and the subject matter to which it related had to be inferred from the three words Lower than Kemsley.\\nThe issue was whether the defence of fair comment could be maintained when the comment did not specify any particular matters to which it related.\\nThe House of Lords followed the Court of Appeal in treating the relevant criticism as being an attack on a work product, the Kemsley Press, and to that extent an attack on the person responsible for it, Viscount Kemsley.\\nIn these circumstances it was held sufficient that the comment, by inference, identified generically the Kemsley Press as the subject matter of the criticism there was no need for the comment to identify specific extracts from Kemsley publications as the subject of the criticism.\\nThe passage from Lord Porters judgment that I have quoted at para 52 is not easy to analyse.\\nAs he observed, this dealt with a question that did not arise directly on the appeal.\\nHe was not dealing with whether the facts upon which the comment was based had to be identified by the comment, but on whether all the facts relied upon to support the comment had to be true.\\nThis was a strange question to ask in the context of criticism of journalistic material and the language used was appropriate to an issue of justification, rather than pertinence (see my explanation of this term at para 6 above).\\nThe distinction that Lord Porter drew between the subject matter of the comment and facts alleged to justify that comment is particularly elusive.\\nThe particulars pleaded in that case were expressly stated to be the specific facts upon which the said words are a fair comment: [1951] 2 KB 34, 40 41.\\nThey were the most significant parts of the subject matter of the comment.\\nMy reading of the position is as follows.\\nThe House had held that the defence of fair comment could be raised where the comment identified the subject matter of the comment generically as a class of material that was in the public domain.\\nThere was no need for the commentator to spell out the specific parts of that material that had given rise to the comment.\\nThe defendant none the less had quite naturally given particulars of these in order to support the comment.\\nLord Porter held that it was not necessary to prove that each of these facts was accurate provided that at least one was accurate and supported the comment.\\nThis passage does not support the proposition that a defendant can rely in support of the defence of fair comment on a fact that does not form part of the subject matter identified generically by the comment.\\nEven less does it support the proposition that a defendant can base a defence of fair comment on a fact that was not instrumental in his forming the opinion that he expressed by his comment.\\nThe last sentence of the passage that I have cited makes this plain.\\nI can summarise the position as follows.\\nWhere, expressly or by implication, general criticism is made of a play, a book, an organ of the press or a notorious course of conduct in the public domain, the defendant is likely to wish in his defence to identify particular aspects of the matter in question by way of explanation of precisely what it was that led him to make his comment.\\nThese particular aspects will be relevant to establishing the pertinence of his comment and to rebutting any question of malice, should this be in issue.\\nLord Porters speech indicates that the comment does not have to refer to these particular aspects specifically and that it is not necessary that all that are pleaded should be accurate, provided that the comment is supported by at least one that is.\\nCan Lord Nicholls fourth proposition in Cheng [2001] EMLR 777, para 19 be reconciled with these propositions? The passage in Odgers, 6th ed (1929), p 166 that was cited with approval by Lord Porter (see para 51 above) suggested that where conduct is identified by a clear reference the defendant thereby enables his readers to judge for themselves how far his opinion is well founded.\\nAs Lord Ackner pointed out, however, in Telnikoff [1992] 2 AC 343, 361, it is fallacious to suggest that readers will be able to form their own view of the validity of the criticism of a matter merely because in the past it was placed in the public domain.\\nReaders of The Tribune who did not read the Kemsley Press could no doubt have gained access to a representative sample of this, but this will not be possible where the criticism is of an ephemeral matter such as a concert, or the single performance of a play, or a football match, all of which can give rise to general criticism that is protected by the defence of fair comment.\\nFor these reasons I do not consider that Lord Nicholls fourth proposition in Cheng can be reconciled with Kemsley v Foot.\\nLord Nicholls proposition echoed what Fletcher Moulton LJ had said in Hunt v Star Newspaper Co Ltd [1908] 2 KB 309 see para 39 above, but each observation was obiter.\\nThere is no case in which a defence of fair comment has failed on the ground that the comment did not identify the subject matter on which it was based with sufficient particularity to enable the reader to form his own view as to its validity.\\nFor these reasons, where adverse comment is made generally or generically on matters that are in the public domain I do not consider that it is a prerequisite of the defence of fair comment that the readers should be in a position to evaluate the comment for themselves.\\nWhat of a case where the subject matter of the comment is not within the public domain, but is known only to the commentator or to a small circle of which he is one? Today the internet has made it possible for the man in the street to make public comment about others in a manner that did not exist when the principles of the law of fair comment were developed, and millions take advantage of that opportunity.\\nWhere the comments that they make are derogatory it will often be impossible for other readers to evaluate them without detailed information about the facts that have given rise to the comments.\\nFrequently these will not be set out.\\nIf Lord Nicholls fourth proposition is to apply the defence of fair comment will be robbed of much of its efficacy.\\nThe cases have none the less emphasised repeatedly the requirement that the comment should identify the subject matter on which it is based, as is demonstrated by the passages in the judgments that I have emphasised by placing them in italics.\\nIf the requirement that the comment should identify the subject matter on which it is based is not imposed in order to enable the reader of the comment to form his own view of its validity, what is the object of the requirement? Bingham LJ in Brent Walker [1991] 2 QB 33, 44 said that the true facts must be stated or sufficiently indicated sufficiently for what?\\nThere are a number of reasons why the subject matter of the comment must be identified by the comment, at least in general terms.\\nThe underlying justification for the creation of the fair comment exception was the desirability that a person should be entitled to express his view freely about a matter of public interest.\\nThat remains a justification for the defence, albeit that the concept of public interest has been greatly widened.\\nIf the subject matter of the comment is not apparent from the comment this justification for the defence will be lacking.\\nThe defamatory comment will be wholly unfocussed.\\nIt is a requirement of the defence that it should be based on facts that are true.\\nThis requirement is better enforced if the comment has to identify, at least in general terms, the matters on which it is based.\\nThe same is true of the requirement that the defendants comment should be honestly founded on facts that are true.\\nMore fundamentally, even if it is not practicable to require that those reading criticism should be able to evaluate the criticism, it may be thought desirable that the commentator should be required to identify at least the general nature of the facts that have led him to make the criticism.\\nIf he states that a barrister is a disgrace to his profession he should make it clear whether this is because he does not deal honestly with the court, or does not read his papers thoroughly, or refuses to accept legally aided work, or is constantly late for court, or wears dirty collars and bands.\\nSuch considerations are, I believe, what Mr Caldecott had in mind when submitting that a defendants comments must have identified the subject matter of his criticism if he is to be able to advance a defence of fair comment.\\nIf so, it is a submission that I would endorse.\\nI do not consider that Lord Nicholls was correct to require that the comment must identify the matters on which it is based with sufficient particularity to enable the reader to judge for himself whether it was well founded.\\nThe comment must, however, identify at least in general terms what it is that has led the commentator to make the comment, so that the reader can understand what the comment is about and the commentator can, if challenged, explain by giving particulars of the subject matter of his comment why he expressed the views that he did.\\nA fair balance must be struck between allowing a critic the freedom to express himself as he will and requiring him to identify to his readers why it is that he is making the criticism.\\nConclusion\\nFor the reasons that I have given I would endorse Lord Nicholls summary of the elements of fair comment that I have set out at para 3 above, save that I would re write the fourth proposition: Next the comment must explicitly or implicitly indicate, at least in general terms, the facts on which it is based.\\nChange of emphasis and the case for reform\\nShould this court apply the law as it now is, or should it adopt the invitation to develop or reform the law?\\nThe right of fair comment has been said to be one of the fundamental rights of free speech and writing per Scott LJ in Lyon v The Daily Telegraph Ltd [1943] 1 KB 746, 753.\\nLord Denning MR echoed that comment in Slim v Daily Telegraph Ltd [1968] 2 QB 157, adding that the right must not be whittled down by legal refinements.\\nHe described the right of fair comment in terms which emphasised the importance of the subjective appreciation of the writer.\\nThe concept was a simple one.\\nThe writer had to be expressing his honest opinion on a matter of public interest.\\nHe had to get his facts right.\\nThe area of inquiry was relatively limited.\\nWhat were the facts on which the writer had made his comment? Were they matters of public interest? Were they accurate? The important thing is to determine whether or not the writer was actuated by malice.\\nIf he was an honest man expressing his genuine opinion on a subject of public interest, then no matter that his words conveyed derogatory imputations; no matter that his opinion was wrong or exaggerated or prejudiced; and no matter that it was badly expressed so that other people read all sorts of innuendos into it; nevertheless, he has a good defence of fair comment.\\nHis honesty is the cardinal test.\\nHe must honestly express his real view. (p 170)\\nIn recent cases the area of inquiry in relation to the defence of fair comment has been expanded.\\nThe scope of public interest has been greatly widened.\\nIf Cheng [2001] EMLR 777 is accepted as correctly setting out the test of malice, the scope of malice has been significantly narrowed.\\nThe fact that the defendant may have been motivated by spite or ill will is no longer material.\\nThe only issue is whether he believed that his comment was justified.\\nIn practice this issue is seldom likely to be explored, for the burden is on the claimant and how can he set about proving that the defendant did not believe what he said? The subjective nature of the defence of fair comment has diminished.\\nThe issue is no longer the subjective one did the defendant honestly believe that the facts on which he commented justified his comment? Instead the focus has been on the objective question: could an obstinate and prejudiced person have honestly based the comment made by the defendant on the facts on which the defendant commented? Mr Price and Mr Caldecott suggest that it should be expanded to embrace facts which were not known to the defendant, or (according to Mr Price) even in existence when he made his comment.\\nThe horrific pleadings and interlocutory warfare in Lowe [2007] QB 580, referred to in para 70 above exemplify the confusion that can now develop where a defence of justification is run in harness with a defence of fair comment.\\nWhere, as is usually the case, an action is brought in relation to a statement that mixes fact and comment I question how often any value is added to the defendants case by the addition of a plea of fair comment.\\nThe reforms suggested by Mr Price and Mr Caldecott would radically alter the nature of the defence of fair comment.\\nNo longer would it be a personal defence based on the defendants honest opinion on facts identified by him.\\nThe defendants state of mind would be wholly irrelevant under Mr Prices scheme and almost wholly irrelevant under Mr Caldecotts.\\nInstead fair comment would depend upon an objective test, applied in a similar way to the defence of justification.\\nDid facts exist that might have led a prejudiced and obstinate commentator to express the derogatory opinion expressed by the defendant?\\nI am not persuaded that reforms of this nature would do anything to simplify defamation actions.\\nThe scope of the defence of fair comment would be widened, but at the price of continued complexity of process.\\nIn any event the proposed reforms go beyond changes that could properly be made by this court in the orderly development of the common law.\\nThere is a case for reform.\\nWould it not be more simple and satisfactory if, in place of the objective test, the onus was on the defendant to show that he subjectively believed that his comment was justified by the facts on which he based it? The Faulks Committee Report on Defamation 1975 (Cmnd 5909) recommended the retention of the objective test, but the New Zealand Defamation Act 1992 has placed the burden on the defendant of proving honest opinion (section 10).\\nThere may be a case for widening the scope of the defence of fair comment by removing the requirement that it must be on a matter of public interest.\\nCareful consideration needs to be given to Mr Caldecotts first proposition that the defence of fair comment should extend to inferences of fact.\\nJurisprudence both in this jurisdiction and at Strasbourg see Nilsen and Johnsen v Norway (1999) 30 EHRR 878, para 50 has held that allegations of motive, which is inherently incapable of verification, can constitute comment.\\nSome decisions have gone further and treated allegations of verifiable fact as comment, see for instance the Privy Council in Jeyaretnam v Goh Chok Tong [1989] 1 WLR 1109.\\nIt is questionable whether this is satisfactory.\\nPrejudiced commentators can draw honest inferences of fact, such as that a man charged with fraud is guilty of fraud.\\nShould the defence of fair comment apply to such inferences? Allegations of fact can be far more damaging, even if plainly based on inference, than comments on true facts.\\nEady J has twice held that the defence of fair comment cannot apply where the defamatory sting is a matter of verifiable fact Hamilton v Clifford [2004] EWHC 1542 (QB) and British Chiropractic Association v Singh [2009] EWHC 1101 (subsequently reversed by the Court of Appeal).\\nThe repetition rule raises problems in relation to fair comment.\\nIt has been stated that fair comment can be based on a statement protected by Reynolds privilege see Eady J in Galloway v Telegraph Group Ltd [2005] EMLR 115, paras 174 176, but the commentator may well not be in a position to assess whether the statement in question is so protected.\\nFinally, and fundamentally, has not the time come to recognise that defamation is no longer a field in which trial by jury is desirable? The issues are often complex and jury trial simply invites expensive interlocutory battles, such as the one before this court, which attempt to pre empt issues from going before the jury.\\nThese are difficult questions.\\nSome may have to be resolved judicially, but the whole area merits consideration by the Law Commission, or an expert committee.\\nThere is only one reform that I would seek to make by this judgment it is one that has already received judicial approval see Lord Nicholls in Reynolds [2001] 2 AC 127, 165.\\nThe defence of fair comment should be renamed honest comment.\\nThe application of the law to the facts of this case\\nThe defendants primary defence is justification of their comments that the claimants were unprofessional, that they demonstrated a contemptuous and cavalier approach to their contractual obligations and that they would not necessarily adhere to the terms of their booking arrangements see para 20 above.\\nThey rely in support of this defence on the Landmarc breach, which they contend was attributable to a subsequent better offer, on the Bibis breach, on the first claimants email of 27 March 2007 and on the claimants approach to the Coombes booking.\\nIf this defence fails the defendants seek to show that their comments were fair comment, albeit unjustified.\\nHad Lord Nicholls fourth proposition in Cheng [2001] EMLR 777, para 19 been valid it would have been necessary to consider whether the defendants posting contained sufficient detail to enable the readers to form their own views of whether the defendants comments were justified.\\nFor the reasons that I have explained I do not consider that this is something that the defendants have to establish.\\nThe defendants seek to rely upon three matters to support their plea of fair comment: i) The Landmarc breach of contract; ii) The Bibis breach of contract; iii) The first claimants email of 27 March 2007.\\nMr Price submitted that the Landmarc breach of contract was referred to in the defendants posting inasmuch as this stated that the claimants have not been able to abide by the terms of their contract and following a breach of contract.\\nPill LJ [2010] ICR 642, para 46 held that these statements could not be read as referring to the Landmarc breach in 2005.\\nI agree.\\nThey referred to the Bibis breach and not to the Landmarc breach.\\nThe Landmarc breach was not referred to in the defendants posting, nor did it form part of a generic allegation of misconduct.\\nAlternatively Mr Price sought to persuade the House to extend the common law so as to permit a defendant to rely in support of the defence of fair comment on matters that were not referred to, even in general terms, by the comment.\\nI have declined that invitation.\\nIt follows that the defendants cannot rely upon the Landmarc breach to support their defence of fair comment.\\nThis leaves them with the Bibis breach and the first claimants email as potential support for their comment.\\nPill LJ held, at para 38, that the defendants could not rely on the first claimants email because this had been misquoted by the defendants in their posting.\\nI do not agree.\\nThat email had, arguably, evidenced a contemptuous and cavalier approach to the claimants contractual obligations to the defendants.\\nThe email as quoted, arguably, evidenced a contemptuous and cavalier approach to contracts in general.\\nSo far as concerns the basis of the defendants comments about the claimants attitude to their contractual obligations, a jury might take the view that there was no significant difference between the email as sent and the email as quoted.\\nThe jury should be directed that if they thought that the email as quoted differed significantly from the email as sent they should disregard it but that otherwise they can have regard to it when considering the defence of fair comment.\\nPill LJ held, at para 42, that the defendants could not rely on the Bibis breach.\\nHe said that there was no reference to it in the words complained of.\\nThat is not correct.\\nThe statement that the claimants had not been able to abide by the terms of their contract and the reference to following a breach of contract were references to the Bibis breach.\\nAs I understand it, however, the reason why Pill LJ held that this could not be relied on was that the posting did not identify the contract that had been broken, still less the term allegedly breached, so that the reader was not in a position to evaluate whether the breach justified the comment.\\nFor the reasons that I have given I do not consider that this was necessary.\\nThe posting sufficiently identified the breach as part of the subject matter of the comment, albeit that the breach was not particularised.\\nIt follows that the defendants are entitled to rely upon the Bibis breach to support their defence of fair comment.\\nFor these reasons I have reached the conclusion that this appeal should be allowed and the defence of fair comment reinstated.\\nLORD RODGER\\nI have had the advantage of reading the judgments prepared by Lord Phillips and Lord Walker in draft.\\nI agree with them and, for the reasons they give, I too would allow the appeal.\\nLORD WALKER\\nI agree with the judgment of Lord Phillips.\\nI add some brief comments of my own.\\nLord Phillips shows how the defence of fair comment (now to be called honest comment) originated in a narrow form in a society very different from todays.\\nIt was a society in which writers, artists and musicians were supposed to place their works, like wares displayed at market, before a relatively small educated and socially elevated class, and it was in the context of published criticism of their works that the defence developed.\\nIt has expanded enormously as the law has extended its view of what is of public interest and the nature of the comment that the defence may cover.\\nKemsley v Foot [1952] AC 345 was an important milestone.\\nIn some ways it was, as Lord Phillips observes (para 91) an absurd libel action, but sometimes it is the atypical case that brings about developments in the common law.\\nIn the half century or more since Kemsley v Foot society and its concerns have continued to change.\\nThe creation of a common base of information shared by those who watch television and use the internet has had an effect which can hardly be overstated.\\nMillions now talk, and thousands comment in electronically transmitted words, about recent events of which they have learned from television or the internet.\\nMany of the events and the comments on them are no doubt trivial and ephemeral, but from time to time (as the present appeal shows) libel law has to engage with them.\\nThe test for identifying the factual basis of honest comment must be flexible enough to allow for this type of case, in which a passing reference to the previous nights celebrity show would be regarded by most of the public, and may sometimes have to be regarded by the law, as a sufficient factual basis.\\nAs Lord Phillips points out in para 76, the Grand Chamber at Strasbourg has recently approved the general proposition that even where a statement amounts to a value judgment, there must exist a sufficient factual basis to support it.\\nThe defence of honest comment requires the commentator to identify, at least in general terms, the nature of that factual basis.\\nLORD BROWN\\nI have read the judgment of Lord Phillips and for the reasons he gives I too would allow this appeal.\\nI agree also with Lord Walkers brief comments.\\nSIR JOHN DYSON SCJ\\nI would allow this appeal for the reasons given by Lord Phillips.\\n', 'summary': 'The United States Government is seeking the extradition of the appellant, Mr Norris, so he may be tried on an indictment charging him with obstruction of justice.\\nHe had originally faced a further charge of price fixing.\\nThe House of Lords ruled in 2008 ([2008] UKHL 16) that the conduct alleged in relation to the price fixing charge was not capable of amounting to an extradition offence as it was not a crime under English law when it was committed.\\nHis case was then sent back to the district judge to decide whether he should be extradited on the remaining charges in the indictment.\\nMr Norris submitted that extradition would cause disproportionate damage to his and his wifes physical and psychological wellbeing having regard to their age, their state of health and the likely effect of the separation that extradition would impose upon them.\\nThus extradition would be incompatible with his right to private and family life under article 8 of the European Convention on Human Rights and he should be discharged pursuant to s 87 Extradition Act 2003.\\nThe district judge found there to be no bars to extradition.\\nHis decision was upheld on appeal to the High Court, which found that the public interest in honouring extradition treaties was such as to require Mr Norris to show striking and unusual facts or reach a high threshold if his article 8 rights were to prevail.\\nMr Norris appealed to the Supreme Court, arguing that the courts below had wrongly required him to demonstrate exceptional circumstances in order to show that his extradition would be disproportionate.\\nThe Supreme Court unanimously dismissed the appeal.\\nIt held that a test of exceptional circumstances had not been applied.\\nHowever, in an extradition case, the consequences of any interference with article 8 rights would have to be exceptionally serious before this could outweigh the public importance of extradition.\\nThis was not such a case.\\nLord Phillips (with whom all the members of the court agreed) stated that it was common ground that the extradition of Mr Norris would interfere with the exercise in this country of his right to respect for his private and family life.\\nThe critical question was whether this interference was necessary in a democratic society for the prevention of disorder or crime.\\nOn the issue of principle of whether a court could properly require a person resisting extradition on article 8 grounds to demonstrate exceptional circumstances, there was no rule of law that this was the test of disproportionality but the public interest in extradition weighed very heavily indeed [paragraph 51].\\nIt was of critical importance in the prevention of disorder and crime that those reasonably suspected of crime were prosecuted and, if found guilty, duly sentenced.\\nExtradition was part of the process for ensuring that this occurred on a basis of international reciprocity [paragraph 52].\\nThe reality was that only if some quite exceptionally compelling feature, or combination of features, was present that interference with family life consequent upon extradition would be other than proportionate to the objective that extradition served.\\nExceptional circumstances was a phrase which said little about the nature of the circumstances: it was more accurate and more helpful to say that the consequences of interference with article 8 rights must be exceptionally serious before this could outweigh the importance of extradition.\\nThe courts below were justified in considering how if at all the impact of extradition on family life would differ from the normal consequences of extradition [paragraph 56].\\nThree subsidiary issues arose,, which the court answered as follows: The gravity of the offence could be of relevance, especially if it was at the bottom of scale, but it usually would not be [paragraph 63]; The effect of extradition on innocent members of the family of a person resisting extradition was relevant and could be a cogent consideration [paragraph 64]; and It would rarely be relevant to consider whether the person resisting extradition could be prosecuted in the requested state.\\nThe extradition process should not become an occasion for debate about the most convenient forum for criminal proceedings [paragraph 67] On the facts of Mr Norris case, he was now 67 and had suffered ill health for some years.\\nHis wifes psychiatric condition would preclude her from travelling to the United States to support her husband and she would lose his support.\\nThe offences of obstructing justice, although subsidiary to the price fixing charge, were however very grave indeed [paragraph 72].\\nThe public interest would be seriously damaged if any defendant with family ties and dependencies such as those which bound Mr Norris and his wife was thereby rendered immune from being extradited to be tried for serious wrongdoing [paragraph 82].\\n'}\n"
          ]
        }
      ]
    },
    {
      "cell_type": "code",
      "source": [
        "from transformers import PegasusForConditionalGeneration, PegasusTokenizer\n",
        "\n",
        "# Charger le modèle et le tokenizer\n",
        "model_name = \"nsi319/legal-pegasus\"\n",
        "tokenizer = PegasusTokenizer.from_pretrained(model_name)\n",
        "model = PegasusForConditionalGeneration.from_pretrained(model_name)\n",
        "model.to(device)\n",
        "model.gradient_checkpointing_enable()"
      ],
      "metadata": {
        "colab": {
          "base_uri": "https://localhost:8080/"
        },
        "id": "3nqGLh90ps4d",
        "outputId": "bf49c7a3-841b-4e96-9238-652a429c0f04"
      },
      "execution_count": 6,
      "outputs": [
        {
          "output_type": "stream",
          "name": "stderr",
          "text": [
            "/usr/local/lib/python3.10/dist-packages/huggingface_hub/utils/_auth.py:94: UserWarning: \n",
            "The secret `HF_TOKEN` does not exist in your Colab secrets.\n",
            "To authenticate with the Hugging Face Hub, create a token in your settings tab (https://huggingface.co/settings/tokens), set it as secret in your Google Colab and restart your session.\n",
            "You will be able to reuse this secret in all of your notebooks.\n",
            "Please note that authentication is recommended but still optional to access public models or datasets.\n",
            "  warnings.warn(\n"
          ]
        }
      ]
    },
    {
      "cell_type": "code",
      "source": [
        "def preprocess_function(examples):\n",
        "    \"\"\"Tokenisation des entrées et des cibles.\"\"\"\n",
        "    inputs = tokenizer(examples[\"text\"], max_length=1024, truncation=True, padding=\"max_length\")\n",
        "    labels = tokenizer(examples[\"summary\"], max_length=256, truncation=True, padding=\"max_length\")\n",
        "    inputs[\"labels\"] = labels[\"input_ids\"]\n",
        "    return inputs\n",
        "\n",
        "# Préparer les données\n",
        "train_tokenized = train_dataset.map(preprocess_function, batched=True)\n",
        "test_tokenized = test_dataset.map(preprocess_function, batched=True)"
      ],
      "metadata": {
        "colab": {
          "base_uri": "https://localhost:8080/",
          "height": 81,
          "referenced_widgets": [
            "e40d9d05040941a3a9eca2eaf7bae1bd",
            "822d6a533e7a4467a47b82994d414084",
            "9c2d3d11197f43f8b22831dd5cd6e0b4",
            "e3ecc85f8db742dbad95c118e1d40cf4",
            "59bd4c040f5e480081b7145f65479af8",
            "ee47c0766025453d867dfa9c6982dea9",
            "8ff55b2226e64facbbbc65c860e2f9eb",
            "d065f04758b4441987d9f5ad2b313e27",
            "898e96b9cf5e4a7da144e0aad0db482b",
            "075d41165add4469a7126f1707577f57",
            "16e643b30cfc471fbe950f1014caf937",
            "9e28bdd2fb144454aa8ce6a98c598fa4",
            "4a79e896d3e241b7bc80c7992ab9d830",
            "91460b47c0ca431d86d25996691b894c",
            "cdc9d15d245049789fb890497663918d",
            "ee23b0ab144d4503bf2ee876614fcd74",
            "08e92ae54bbd436db5c61ff10c0789c7",
            "2649695568504b519739f60b16c692ed",
            "f5cd219e54e34f2ea63f56dc25083b01",
            "cfb452bc03154837b419d899f009af35",
            "5584bad72acf474ca04cd6835090baf2",
            "defe675a45d54edd90e50c7163c8ff87"
          ]
        },
        "id": "IrULe74Gp_SB",
        "outputId": "615d072f-840a-496b-8798-aff737528914"
      },
      "execution_count": 7,
      "outputs": [
        {
          "output_type": "display_data",
          "data": {
            "text/plain": [
              "Map:   0%|          | 0/693 [00:00<?, ? examples/s]"
            ],
            "application/vnd.jupyter.widget-view+json": {
              "version_major": 2,
              "version_minor": 0,
              "model_id": "e40d9d05040941a3a9eca2eaf7bae1bd"
            }
          },
          "metadata": {}
        },
        {
          "output_type": "display_data",
          "data": {
            "text/plain": [
              "Map:   0%|          | 0/100 [00:00<?, ? examples/s]"
            ],
            "application/vnd.jupyter.widget-view+json": {
              "version_major": 2,
              "version_minor": 0,
              "model_id": "9e28bdd2fb144454aa8ce6a98c598fa4"
            }
          },
          "metadata": {}
        }
      ]
    },
    {
      "cell_type": "code",
      "source": [
        "from transformers import TrainingArguments, Trainer\n",
        "\n",
        "# Arguments d'entraînement\n",
        "training_args = TrainingArguments(\n",
        "    output_dir=\"./legal-pegasus\",  # Dossier de sortie\n",
        "    eval_strategy=\"epoch\", # Évaluer après chaque époque\n",
        "    per_device_train_batch_size=1,  # Batch size pour l'entraînement\n",
        "    per_device_eval_batch_size=1,  # Batch size pour l'évaluation\n",
        "    learning_rate=5e-5,\n",
        "    num_train_epochs=3,  # Nombre d'époques\n",
        "    save_strategy=\"epoch\",  # Sauvegarder le modèle après chaque époque\n",
        "    save_total_limit=2,  # Limiter le nombre de checkpoints\n",
        "    logging_dir=\"./logs\",  # Dossier pour les logs\n",
        "    logging_steps=100,\n",
        "    weight_decay=0.01,\n",
        "    run_name=\"Legal-Pegasus-Training\",  # Nom du run pour Wandb\n",
        "    report_to=[],  # Désactiver Wandb si nécessaire\n",
        ")\n",
        "\n",
        "# Configuration du Trainer\n",
        "trainer = Trainer(\n",
        "    model=model,\n",
        "    args=training_args,\n",
        "    train_dataset=train_tokenized,\n",
        "    eval_dataset=test_tokenized,\n",
        "    tokenizer=tokenizer,\n",
        ")\n",
        "\n",
        "torch.cuda.empty_cache()\n",
        "torch.cuda.memory_summary(device=None, abbreviated=False)\n",
        "\n",
        "# Lancer l'entraînement\n",
        "trainer.train()\n"
      ],
      "metadata": {
        "colab": {
          "base_uri": "https://localhost:8080/",
          "height": 298
        },
        "id": "gJpsNL4QqA4n",
        "outputId": "a8603db8-765d-47e8-ec72-d9189d5a9440"
      },
      "execution_count": 8,
      "outputs": [
        {
          "output_type": "stream",
          "name": "stderr",
          "text": [
            "<ipython-input-8-070e91852721>:21: FutureWarning: `tokenizer` is deprecated and will be removed in version 5.0.0 for `Trainer.__init__`. Use `processing_class` instead.\n",
            "  trainer = Trainer(\n"
          ]
        },
        {
          "output_type": "display_data",
          "data": {
            "text/plain": [
              "<IPython.core.display.HTML object>"
            ],
            "text/html": [
              "\n",
              "    <div>\n",
              "      \n",
              "      <progress value='2079' max='2079' style='width:300px; height:20px; vertical-align: middle;'></progress>\n",
              "      [2079/2079 48:19, Epoch 3/3]\n",
              "    </div>\n",
              "    <table border=\"1\" class=\"dataframe\">\n",
              "  <thead>\n",
              " <tr style=\"text-align: left;\">\n",
              "      <th>Epoch</th>\n",
              "      <th>Training Loss</th>\n",
              "      <th>Validation Loss</th>\n",
              "    </tr>\n",
              "  </thead>\n",
              "  <tbody>\n",
              "    <tr>\n",
              "      <td>1</td>\n",
              "      <td>3.200200</td>\n",
              "      <td>3.040736</td>\n",
              "    </tr>\n",
              "    <tr>\n",
              "      <td>2</td>\n",
              "      <td>3.022500</td>\n",
              "      <td>2.985985</td>\n",
              "    </tr>\n",
              "    <tr>\n",
              "      <td>3</td>\n",
              "      <td>2.945100</td>\n",
              "      <td>2.978451</td>\n",
              "    </tr>\n",
              "  </tbody>\n",
              "</table><p>"
            ]
          },
          "metadata": {}
        },
        {
          "output_type": "stream",
          "name": "stderr",
          "text": [
            "/usr/local/lib/python3.10/dist-packages/transformers/modeling_utils.py:2817: UserWarning: Moving the following attributes in the config to the generation config: {'max_length': 128, 'min_length': 32, 'num_beams': 8, 'length_penalty': 0.8}. You are seeing this warning because you've set generation parameters in the model config, as opposed to in the generation config.\n",
            "  warnings.warn(\n"
          ]
        },
        {
          "output_type": "execute_result",
          "data": {
            "text/plain": [
              "TrainOutput(global_step=2079, training_loss=3.1147259321850385, metrics={'train_runtime': 2901.5651, 'train_samples_per_second': 0.717, 'train_steps_per_second': 0.717, 'total_flos': 6007196517138432.0, 'train_loss': 3.1147259321850385, 'epoch': 3.0})"
            ]
          },
          "metadata": {},
          "execution_count": 8
        }
      ]
    },
    {
      "cell_type": "code",
      "source": [
        "model.save_pretrained(\"./legal-pegasus-model\")\n",
        "tokenizer.save_pretrained(\"./legal-pegasus-model\")"
      ],
      "metadata": {
        "colab": {
          "base_uri": "https://localhost:8080/"
        },
        "id": "_C54XiC5rpMm",
        "outputId": "e011230b-97e0-4602-eeaa-d200389482fb"
      },
      "execution_count": 10,
      "outputs": [
        {
          "output_type": "execute_result",
          "data": {
            "text/plain": [
              "('./legal-pegasus-model/tokenizer_config.json',\n",
              " './legal-pegasus-model/special_tokens_map.json',\n",
              " './legal-pegasus-model/spiece.model',\n",
              " './legal-pegasus-model/added_tokens.json')"
            ]
          },
          "metadata": {},
          "execution_count": 10
        }
      ]
    }
  ]
}