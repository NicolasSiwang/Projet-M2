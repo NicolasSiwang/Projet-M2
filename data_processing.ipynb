{
 "cells": [
  {
   "cell_type": "code",
   "execution_count": 1,
   "metadata": {},
   "outputs": [],
   "source": [
    "import json\n",
    "import pandas as pd\n",
    "from bs4 import BeautifulSoup"
   ]
  },
  {
   "cell_type": "code",
   "execution_count": 2,
   "metadata": {},
   "outputs": [],
   "source": [
    "train_path = 'SCOTUS/train.json'\n",
    "dev_path = 'SCOTUS/dev.json'"
   ]
  },
  {
   "cell_type": "code",
   "execution_count": 3,
   "metadata": {},
   "outputs": [],
   "source": [
    "with open(train_path, 'r', encoding=\"utf-8\") as f:\n",
    "    train = json.load(f)"
   ]
  },
  {
   "cell_type": "code",
   "execution_count": 4,
   "metadata": {},
   "outputs": [],
   "source": [
    "def html_processing(html_content):\n",
    "    \"\"\"Récupère le contenu intéressant du html en gardant les balises a, em et blockquote\"\"\"\n",
    "    \n",
    "    soup = BeautifulSoup(html_content, 'html.parser')\n",
    "\n",
    "    # On suppose que le contenu intéressant ne se trouve que dans cette classe\n",
    "    div_class = \"-display-inline-block text-left\"\n",
    "    target_div = soup.find('div', class_=div_class)\n",
    "\n",
    "    # Extraire le texte du div en fusionnant les textes des balises <a> et <em> avec les textes précédent et suivant\n",
    "    # et en gardant les balises <a>, <em> et <blockquote>\n",
    "    if target_div:\n",
    "        temp_result = []\n",
    "        to_merge = False\n",
    "        for element in target_div.children:\n",
    "            if element.getText() == '\\n':\n",
    "                continue\n",
    "            elif element.name == \"a\" or element.name == \"em\" :\n",
    "                temp_result.append(\"<\" + element.name + \"> \" + element.get_text() + \" </\" + element.name + \">\")\n",
    "                to_merge = True\n",
    "            elif (to_merge) :\n",
    "                if (temp_result[-1].startswith(\"<em>\")):\n",
    "                    temp_result[-2] = temp_result[-2] + temp_result[-1] + element.get_text()\n",
    "                else:\n",
    "                    temp_result[-2] = temp_result[-2] + \" \" + temp_result[-1] + \" \" + element.get_text()\n",
    "                temp_result.pop()\n",
    "                to_merge = False\n",
    "            elif (element.name == \"blockquote\") :\n",
    "                temp_result.append(\"<\" + element.name + \">\" + element.get_text() + \"</\" + element.name + \">\")\n",
    "            else :\n",
    "                temp_result.append(element.get_text())\n",
    "\n",
    "    else:\n",
    "        print(f\"Aucun div trouvé avec la classe '{div_class}'.\")\n",
    "\n",
    "    result = []\n",
    "\n",
    "    for res in temp_result:\n",
    "        if '\\t' in res:\n",
    "            string = res.replace('\\t', '').replace('\\n', ' ')\n",
    "            result.append(string)\n",
    "        else:\n",
    "            if len(result) < 1:\n",
    "                result.append(res.replace('\\n', ''))\n",
    "            else:\n",
    "                result[-1] = result[-1] + \" \" + res.replace('\\n', '')\n",
    "\n",
    "    return result\n"
   ]
  },
  {
   "cell_type": "code",
   "execution_count": 5,
   "metadata": {},
   "outputs": [],
   "source": [
    "for i in range(len(train)):\n",
    "    html_content = train[i][\"raw_source\"]\n",
    "\n",
    "    text = html_processing(html_content)\n",
    "\n",
    "    name = 'data_txt_save/train_' + str(i) + '.txt'\n",
    "\n",
    "    with open(name, 'w', encoding='utf-8') as f:\n",
    "        for line in text:\n",
    "            f.write(line + '\\n')"
   ]
  },
  {
   "cell_type": "code",
   "execution_count": null,
   "metadata": {},
   "outputs": [],
   "source": []
  }
 ],
 "metadata": {
  "kernelspec": {
   "display_name": "base",
   "language": "python",
   "name": "python3"
  },
  "language_info": {
   "codemirror_mode": {
    "name": "ipython",
    "version": 3
   },
   "file_extension": ".py",
   "mimetype": "text/x-python",
   "name": "python",
   "nbconvert_exporter": "python",
   "pygments_lexer": "ipython3",
   "version": "3.11.5"
  }
 },
 "nbformat": 4,
 "nbformat_minor": 2
}
