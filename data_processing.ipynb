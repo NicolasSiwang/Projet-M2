{
 "cells": [
  {
   "cell_type": "code",
   "execution_count": 1,
   "metadata": {},
   "outputs": [],
   "source": [
    "import json\n",
    "import pandas as pd\n",
    "from bs4 import BeautifulSoup\n"
   ]
  },
  {
   "cell_type": "code",
   "execution_count": 2,
   "metadata": {},
   "outputs": [],
   "source": [
    "train_path = 'SCOTUS/train.json'\n",
    "dev_path = 'SCOTUS/dev.json'"
   ]
  },
  {
   "cell_type": "code",
   "execution_count": null,
   "metadata": {},
   "outputs": [],
   "source": [
    "from bs4 import BeautifulSoup\n",
    "\n",
    "with open(train_path, 'r', encoding=\"utf-8\") as f:\n",
    "    train = json.load(f)\n",
    "\n",
    "# Supposons que train[0][\"raw_source\"] contienne le contenu HTML sous forme de chaîne de caractères\n",
    "html_content = train[0][\"raw_source\"]\n",
    "# Analyser le contenu HTML avec Beautiful Soup\n",
    "soup = BeautifulSoup(html_content, 'html.parser')\n",
    "\n",
    "# On suppose que le contenu intéressant ne se trouve que dans cette classe\n",
    "div_class = \"-display-inline-block text-left\"\n",
    "target_div = soup.find('div', class_=div_class)\n",
    "\n",
    "# Vérifier si le div a été trouvé et extraire le texte\n",
    "if target_div:\n",
    "    text = target_div.get_text(separator=' ', strip=True)  #Parametre à changer pour pouvoir traiter le texte\n",
    "    print(\"Texte récupéré dans le div :\")\n",
    "    print(text)\n",
    "else:\n",
    "    print(f\"Aucun div trouvé avec la classe '{div_class}'.\")\n",
    "\n"
   ]
  }
 ],
 "metadata": {
  "kernelspec": {
   "display_name": "base",
   "language": "python",
   "name": "python3"
  },
  "language_info": {
   "codemirror_mode": {
    "name": "ipython",
    "version": 3
   },
   "file_extension": ".py",
   "mimetype": "text/x-python",
   "name": "python",
   "nbconvert_exporter": "python",
   "pygments_lexer": "ipython3",
   "version": "3.10.0"
  }
 },
 "nbformat": 4,
 "nbformat_minor": 2
}
