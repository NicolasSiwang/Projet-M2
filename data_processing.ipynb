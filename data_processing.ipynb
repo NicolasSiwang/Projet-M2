{
 "cells": [
  {
   "cell_type": "code",
   "execution_count": 6,
   "metadata": {},
   "outputs": [],
   "source": [
    "import json\n",
    "import pandas as pd\n",
    "from bs4 import BeautifulSoup"
   ]
  },
  {
   "cell_type": "code",
   "execution_count": 7,
   "metadata": {},
   "outputs": [],
   "source": [
    "# Chemins vers les fichiers JSON d'entraînement et de développement\n",
    "train_path = 'SCOTUS/train.json'\n",
    "dev_path = 'SCOTUS/dev.json'"
   ]
  },
  {
   "cell_type": "code",
   "execution_count": 8,
   "metadata": {},
   "outputs": [],
   "source": [
    "# Chargement des données d'entraînement à partir du fichier JSON\n",
    "with open(train_path, 'r', encoding=\"utf-8\") as f:\n",
    "    train = json.load(f)"
   ]
  },
  {
   "cell_type": "code",
   "execution_count": 9,
   "metadata": {},
   "outputs": [],
   "source": [
    "def html_processing(html_content):\n",
    "    \"\"\"\n",
    "    Récupère le contenu intéressant du HTML en conservant les balises <a>, <em> et <blockquote>.\n",
    "    \n",
    "    Parameters:\n",
    "    html_content (str): Le contenu HTML à traiter.\n",
    "\n",
    "    Returns:\n",
    "    list: Une liste de chaînes contenant le texte traité et les balises spécifiées.\n",
    "    \"\"\"\n",
    "    soup = BeautifulSoup(html_content, 'html.parser')\n",
    "\n",
    "    # On suppose que le contenu intéressant se trouve dans cette classe\n",
    "    div_class = \"-display-inline-block text-left\"\n",
    "    target_div = soup.find('div', class_=div_class)\n",
    "\n",
    "    temp_result = []  # Liste pour stocker le texte traité\n",
    "    if target_div:\n",
    "        to_merge = False  # Indicateur pour savoir si on doit fusionner les textes\n",
    "        for element in target_div.children:\n",
    "            # Ignorer les sauts de ligne\n",
    "            if element.getText() == '\\n':\n",
    "                continue\n",
    "            # Traiter les balises <a> et <em>\n",
    "            elif element.name in [\"a\", \"em\"]:\n",
    "                temp_result.append(f\"<{element.name}> {element.get_text()} </{element.name}>\")\n",
    "                to_merge = True\n",
    "            # Si l'élément est du texte à fusionner\n",
    "            elif to_merge:\n",
    "                if temp_result[-1].startswith(\"<em>\"):\n",
    "                    temp_result[-2] += temp_result[-1] + element.get_text()\n",
    "                else:\n",
    "                    temp_result[-2] += \" \" + temp_result[-1] + \" \" + element.get_text()\n",
    "                temp_result.pop()  # Retirer le dernier élément\n",
    "                to_merge = False\n",
    "            # Traiter les balises <blockquote>\n",
    "            elif element.name == \"blockquote\":\n",
    "                temp_result.append(f\"<{element.name}>{element.get_text()}</{element.name}>\")\n",
    "            # Pour le texte normal\n",
    "            else:\n",
    "                temp_result.append(element.get_text())\n",
    "    else:\n",
    "        print(f\"Aucun div trouvé avec la classe '{div_class}'.\")\n",
    "\n",
    "    result = []  # Liste finale pour le résultat\n",
    "\n",
    "    # Nettoyer et fusionner le texte dans le résultat final\n",
    "    for res in temp_result:\n",
    "        # Remplacer les tabulations et les sauts de ligne\n",
    "        if '\\t' in res:\n",
    "            string = res.replace('\\t', '').replace('\\n', ' ')\n",
    "            result.append(string)\n",
    "        else:\n",
    "            if len(result) < 1:\n",
    "                result.append(res.replace('\\n', ''))\n",
    "            else:\n",
    "                result[-1] += \" \" + res.replace('\\n', '')\n",
    "\n",
    "    return result"
   ]
  },
  {
   "cell_type": "code",
   "execution_count": 10,
   "metadata": {},
   "outputs": [],
   "source": [
    "# Traitement des données d'entraînement\n",
    "for i in range(len(train)):\n",
    "    html_content = train[i][\"raw_source\"]  # Récupérer le contenu HTML\n",
    "\n",
    "    text = html_processing(html_content)  # Traiter le contenu HTML\n",
    "\n",
    "    name = f'data_txt_save/train_{i}.txt'  # Nom du fichier de sortie\n",
    "\n",
    "    # Écrire le texte traité dans un fichier\n",
    "    with open(name, 'w', encoding='utf-8') as f:\n",
    "        for line in text:\n",
    "            f.write(line + '\\n')"
   ]
  },
  {
   "cell_type": "code",
   "execution_count": null,
   "metadata": {},
   "outputs": [],
   "source": []
  }
 ],
 "metadata": {
  "kernelspec": {
   "display_name": "base",
   "language": "python",
   "name": "python3"
  },
  "language_info": {
   "codemirror_mode": {
    "name": "ipython",
    "version": 3
   },
   "file_extension": ".py",
   "mimetype": "text/x-python",
   "name": "python",
   "nbconvert_exporter": "python",
   "pygments_lexer": "ipython3",
   "version": "3.11.5"
  }
 },
 "nbformat": 4,
 "nbformat_minor": 2
}
